{
  "nbformat": 4,
  "nbformat_minor": 0,
  "metadata": {
    "colab": {
      "provenance": [],
      "toc_visible": true,
      "authorship_tag": "ABX9TyOUzUG17IkpNjofW+j/ZpI8",
      "include_colab_link": true
    },
    "kernelspec": {
      "name": "python3",
      "display_name": "Python 3"
    },
    "language_info": {
      "name": "python"
    }
  },
  "cells": [
    {
      "cell_type": "markdown",
      "metadata": {
        "id": "view-in-github",
        "colab_type": "text"
      },
      "source": [
        "<a href=\"https://colab.research.google.com/github/Muntasir2179/vector-database-learning/blob/main/VD_Pinecone.ipynb\" target=\"_parent\"><img src=\"https://colab.research.google.com/assets/colab-badge.svg\" alt=\"Open In Colab\"/></a>"
      ]
    },
    {
      "cell_type": "markdown",
      "source": [
        "# Installing and importing dependencies"
      ],
      "metadata": {
        "id": "UgTjok-zoffY"
      }
    },
    {
      "cell_type": "code",
      "execution_count": 1,
      "metadata": {
        "colab": {
          "base_uri": "https://localhost:8080/"
        },
        "id": "k_TtC7tsj-yZ",
        "outputId": "1969f8a2-fdb1-4593-ea69-b2bf7dd7bf0d"
      },
      "outputs": [
        {
          "output_type": "stream",
          "name": "stdout",
          "text": [
            "Collecting pinecone-client\n",
            "  Downloading pinecone_client-3.0.1-py3-none-any.whl (201 kB)\n",
            "\u001b[?25l     \u001b[90m━━━━━━━━━━━━━━━━━━━━━━━━━━━━━━━━━━━━━━━━\u001b[0m \u001b[32m0.0/201.0 kB\u001b[0m \u001b[31m?\u001b[0m eta \u001b[36m-:--:--\u001b[0m\r\u001b[2K     \u001b[91m━━━━━━━━\u001b[0m\u001b[90m╺\u001b[0m\u001b[90m━━━━━━━━━━━━━━━━━━━━━━━━━━━━━━━\u001b[0m \u001b[32m41.0/201.0 kB\u001b[0m \u001b[31m1.1 MB/s\u001b[0m eta \u001b[36m0:00:01\u001b[0m\r\u001b[2K     \u001b[90m━━━━━━━━━━━━━━━━━━━━━━━━━━━━━━━━━━━━━━━━\u001b[0m \u001b[32m201.0/201.0 kB\u001b[0m \u001b[31m2.9 MB/s\u001b[0m eta \u001b[36m0:00:00\u001b[0m\n",
            "\u001b[?25hRequirement already satisfied: certifi>=2019.11.17 in /usr/local/lib/python3.10/dist-packages (from pinecone-client) (2023.11.17)\n",
            "Requirement already satisfied: tqdm>=4.64.1 in /usr/local/lib/python3.10/dist-packages (from pinecone-client) (4.66.1)\n",
            "Requirement already satisfied: typing-extensions>=3.7.4 in /usr/local/lib/python3.10/dist-packages (from pinecone-client) (4.5.0)\n",
            "Requirement already satisfied: urllib3>=1.26.0 in /usr/local/lib/python3.10/dist-packages (from pinecone-client) (2.0.7)\n",
            "Installing collected packages: pinecone-client\n",
            "Successfully installed pinecone-client-3.0.1\n"
          ]
        }
      ],
      "source": [
        "!pip install pinecone-client"
      ]
    },
    {
      "cell_type": "code",
      "source": [
        "from pinecone import Pinecone, ServerlessSpec\n",
        "\n",
        "pc = Pinecone(\n",
        "    api_key=\"af8ce84a-ab95-401c-ba72-b5249afdb37a\"\n",
        ")"
      ],
      "metadata": {
        "id": "1A_06YntkXM6"
      },
      "execution_count": 2,
      "outputs": []
    },
    {
      "cell_type": "markdown",
      "source": [
        "# Accessing Indexes"
      ],
      "metadata": {
        "id": "KZ5S_op_ouPy"
      }
    },
    {
      "cell_type": "code",
      "source": [
        "pc.list_indexes()"
      ],
      "metadata": {
        "colab": {
          "base_uri": "https://localhost:8080/"
        },
        "id": "f7ozaVBlmEjw",
        "outputId": "995fd63d-52e3-4670-b669-877e473bc71a"
      },
      "execution_count": 3,
      "outputs": [
        {
          "output_type": "execute_result",
          "data": {
            "text/plain": [
              "{'indexes': [{'dimension': 3,\n",
              "              'host': 'stock-prices-reg6nin.svc.gcp-starter.pinecone.io',\n",
              "              'metric': 'cosine',\n",
              "              'name': 'stock-prices',\n",
              "              'spec': {'pod': {'environment': 'gcp-starter',\n",
              "                               'pod_type': 'starter',\n",
              "                               'pods': 1,\n",
              "                               'replicas': 1,\n",
              "                               'shards': 1}},\n",
              "              'status': {'ready': True, 'state': 'Ready'}}]}"
            ]
          },
          "metadata": {},
          "execution_count": 3
        }
      ]
    },
    {
      "cell_type": "code",
      "source": [
        "# delete index if it exists\n",
        "if \"index_name\" in pc.list_indexes():\n",
        "  pc.delete_index(name=\"index_name\")"
      ],
      "metadata": {
        "id": "i78OZuvgnDt_"
      },
      "execution_count": 4,
      "outputs": []
    },
    {
      "cell_type": "code",
      "source": [
        "pc.describe_index('stock-prices')"
      ],
      "metadata": {
        "colab": {
          "base_uri": "https://localhost:8080/"
        },
        "id": "JuHt4CT_uN-5",
        "outputId": "067a256d-7e81-473c-b00e-1b2073bf3f61"
      },
      "execution_count": 5,
      "outputs": [
        {
          "output_type": "execute_result",
          "data": {
            "text/plain": [
              "{'dimension': 3,\n",
              " 'host': 'stock-prices-reg6nin.svc.gcp-starter.pinecone.io',\n",
              " 'metric': 'cosine',\n",
              " 'name': 'stock-prices',\n",
              " 'spec': {'pod': {'environment': 'gcp-starter',\n",
              "                  'pod_type': 'starter',\n",
              "                  'pods': 1,\n",
              "                  'replicas': 1,\n",
              "                  'shards': 1}},\n",
              " 'status': {'ready': True, 'state': 'Ready'}}"
            ]
          },
          "metadata": {},
          "execution_count": 5
        }
      ]
    },
    {
      "cell_type": "markdown",
      "source": [
        "# Inserting data into the index\n",
        "\n",
        "* upsert() - It updates the data if it exists and insert the data if not exists."
      ],
      "metadata": {
        "id": "Fh1pdNAco79w"
      }
    },
    {
      "cell_type": "code",
      "source": [
        "index = pc.Index(name=\"stock-prices\")"
      ],
      "metadata": {
        "id": "NFm5NGocxTfX"
      },
      "execution_count": 6,
      "outputs": []
    },
    {
      "cell_type": "code",
      "source": [
        "index.upsert(\n",
        "  vectors=[\n",
        "    {\"id\": \"A\", \"values\": [0.1, 0.1, 0.1], \"metadata\":{\"stock_name\": \"Tesla\", \"sector\": \"automobile\"}},\n",
        "    {\"id\": \"B\", \"values\": [0.2, 0.2, 0.2]},\n",
        "    {\"id\": \"C\", \"values\": [0.3, 0.3, 0.3]},\n",
        "    {\"id\": \"D\", \"values\": [0.4, 0.4, 0.4]}\n",
        "  ]\n",
        ")"
      ],
      "metadata": {
        "id": "Vsm1TE8UxeKA",
        "colab": {
          "base_uri": "https://localhost:8080/"
        },
        "outputId": "afabe540-4774-49a9-8675-515a939dd6bd"
      },
      "execution_count": 7,
      "outputs": [
        {
          "output_type": "execute_result",
          "data": {
            "text/plain": [
              "{'upserted_count': 4}"
            ]
          },
          "metadata": {},
          "execution_count": 7
        }
      ]
    },
    {
      "cell_type": "code",
      "source": [
        "index.describe_index_stats()"
      ],
      "metadata": {
        "colab": {
          "base_uri": "https://localhost:8080/"
        },
        "id": "eXqm9pQqp82Y",
        "outputId": "60c39c78-fa37-490e-d0d9-52eaac0c0e76"
      },
      "execution_count": 8,
      "outputs": [
        {
          "output_type": "execute_result",
          "data": {
            "text/plain": [
              "{'dimension': 3,\n",
              " 'index_fullness': 5e-05,\n",
              " 'namespaces': {'': {'vector_count': 5}},\n",
              " 'total_vector_count': 5}"
            ]
          },
          "metadata": {},
          "execution_count": 8
        }
      ]
    },
    {
      "cell_type": "code",
      "source": [
        "import pandas as pd\n",
        "\n",
        "data = {\n",
        "    'id': ['C', 'E'],\n",
        "    'vector': [[0.4, 0.4, 0.4], [1., 3., 4.]]\n",
        "}\n",
        "\n",
        "df = pd.DataFrame(data)\n",
        "df"
      ],
      "metadata": {
        "colab": {
          "base_uri": "https://localhost:8080/",
          "height": 125
        },
        "id": "C1xysIcqt0uJ",
        "outputId": "031a133b-4c3d-4050-b16d-3b78a273cfbb"
      },
      "execution_count": 9,
      "outputs": [
        {
          "output_type": "execute_result",
          "data": {
            "text/plain": [
              "  id           vector\n",
              "0  C  [0.4, 0.4, 0.4]\n",
              "1  E  [1.0, 3.0, 4.0]"
            ],
            "text/html": [
              "\n",
              "  <div id=\"df-4dae913a-948f-435b-8a84-d3d390ca6ce1\" class=\"colab-df-container\">\n",
              "    <div>\n",
              "<style scoped>\n",
              "    .dataframe tbody tr th:only-of-type {\n",
              "        vertical-align: middle;\n",
              "    }\n",
              "\n",
              "    .dataframe tbody tr th {\n",
              "        vertical-align: top;\n",
              "    }\n",
              "\n",
              "    .dataframe thead th {\n",
              "        text-align: right;\n",
              "    }\n",
              "</style>\n",
              "<table border=\"1\" class=\"dataframe\">\n",
              "  <thead>\n",
              "    <tr style=\"text-align: right;\">\n",
              "      <th></th>\n",
              "      <th>id</th>\n",
              "      <th>vector</th>\n",
              "    </tr>\n",
              "  </thead>\n",
              "  <tbody>\n",
              "    <tr>\n",
              "      <th>0</th>\n",
              "      <td>C</td>\n",
              "      <td>[0.4, 0.4, 0.4]</td>\n",
              "    </tr>\n",
              "    <tr>\n",
              "      <th>1</th>\n",
              "      <td>E</td>\n",
              "      <td>[1.0, 3.0, 4.0]</td>\n",
              "    </tr>\n",
              "  </tbody>\n",
              "</table>\n",
              "</div>\n",
              "    <div class=\"colab-df-buttons\">\n",
              "\n",
              "  <div class=\"colab-df-container\">\n",
              "    <button class=\"colab-df-convert\" onclick=\"convertToInteractive('df-4dae913a-948f-435b-8a84-d3d390ca6ce1')\"\n",
              "            title=\"Convert this dataframe to an interactive table.\"\n",
              "            style=\"display:none;\">\n",
              "\n",
              "  <svg xmlns=\"http://www.w3.org/2000/svg\" height=\"24px\" viewBox=\"0 -960 960 960\">\n",
              "    <path d=\"M120-120v-720h720v720H120Zm60-500h600v-160H180v160Zm220 220h160v-160H400v160Zm0 220h160v-160H400v160ZM180-400h160v-160H180v160Zm440 0h160v-160H620v160ZM180-180h160v-160H180v160Zm440 0h160v-160H620v160Z\"/>\n",
              "  </svg>\n",
              "    </button>\n",
              "\n",
              "  <style>\n",
              "    .colab-df-container {\n",
              "      display:flex;\n",
              "      gap: 12px;\n",
              "    }\n",
              "\n",
              "    .colab-df-convert {\n",
              "      background-color: #E8F0FE;\n",
              "      border: none;\n",
              "      border-radius: 50%;\n",
              "      cursor: pointer;\n",
              "      display: none;\n",
              "      fill: #1967D2;\n",
              "      height: 32px;\n",
              "      padding: 0 0 0 0;\n",
              "      width: 32px;\n",
              "    }\n",
              "\n",
              "    .colab-df-convert:hover {\n",
              "      background-color: #E2EBFA;\n",
              "      box-shadow: 0px 1px 2px rgba(60, 64, 67, 0.3), 0px 1px 3px 1px rgba(60, 64, 67, 0.15);\n",
              "      fill: #174EA6;\n",
              "    }\n",
              "\n",
              "    .colab-df-buttons div {\n",
              "      margin-bottom: 4px;\n",
              "    }\n",
              "\n",
              "    [theme=dark] .colab-df-convert {\n",
              "      background-color: #3B4455;\n",
              "      fill: #D2E3FC;\n",
              "    }\n",
              "\n",
              "    [theme=dark] .colab-df-convert:hover {\n",
              "      background-color: #434B5C;\n",
              "      box-shadow: 0px 1px 3px 1px rgba(0, 0, 0, 0.15);\n",
              "      filter: drop-shadow(0px 1px 2px rgba(0, 0, 0, 0.3));\n",
              "      fill: #FFFFFF;\n",
              "    }\n",
              "  </style>\n",
              "\n",
              "    <script>\n",
              "      const buttonEl =\n",
              "        document.querySelector('#df-4dae913a-948f-435b-8a84-d3d390ca6ce1 button.colab-df-convert');\n",
              "      buttonEl.style.display =\n",
              "        google.colab.kernel.accessAllowed ? 'block' : 'none';\n",
              "\n",
              "      async function convertToInteractive(key) {\n",
              "        const element = document.querySelector('#df-4dae913a-948f-435b-8a84-d3d390ca6ce1');\n",
              "        const dataTable =\n",
              "          await google.colab.kernel.invokeFunction('convertToInteractive',\n",
              "                                                    [key], {});\n",
              "        if (!dataTable) return;\n",
              "\n",
              "        const docLinkHtml = 'Like what you see? Visit the ' +\n",
              "          '<a target=\"_blank\" href=https://colab.research.google.com/notebooks/data_table.ipynb>data table notebook</a>'\n",
              "          + ' to learn more about interactive tables.';\n",
              "        element.innerHTML = '';\n",
              "        dataTable['output_type'] = 'display_data';\n",
              "        await google.colab.output.renderOutput(dataTable, element);\n",
              "        const docLink = document.createElement('div');\n",
              "        docLink.innerHTML = docLinkHtml;\n",
              "        element.appendChild(docLink);\n",
              "      }\n",
              "    </script>\n",
              "  </div>\n",
              "\n",
              "\n",
              "<div id=\"df-495f2e6f-5c49-42f8-99dd-c92abc1bb39f\">\n",
              "  <button class=\"colab-df-quickchart\" onclick=\"quickchart('df-495f2e6f-5c49-42f8-99dd-c92abc1bb39f')\"\n",
              "            title=\"Suggest charts\"\n",
              "            style=\"display:none;\">\n",
              "\n",
              "<svg xmlns=\"http://www.w3.org/2000/svg\" height=\"24px\"viewBox=\"0 0 24 24\"\n",
              "     width=\"24px\">\n",
              "    <g>\n",
              "        <path d=\"M19 3H5c-1.1 0-2 .9-2 2v14c0 1.1.9 2 2 2h14c1.1 0 2-.9 2-2V5c0-1.1-.9-2-2-2zM9 17H7v-7h2v7zm4 0h-2V7h2v10zm4 0h-2v-4h2v4z\"/>\n",
              "    </g>\n",
              "</svg>\n",
              "  </button>\n",
              "\n",
              "<style>\n",
              "  .colab-df-quickchart {\n",
              "      --bg-color: #E8F0FE;\n",
              "      --fill-color: #1967D2;\n",
              "      --hover-bg-color: #E2EBFA;\n",
              "      --hover-fill-color: #174EA6;\n",
              "      --disabled-fill-color: #AAA;\n",
              "      --disabled-bg-color: #DDD;\n",
              "  }\n",
              "\n",
              "  [theme=dark] .colab-df-quickchart {\n",
              "      --bg-color: #3B4455;\n",
              "      --fill-color: #D2E3FC;\n",
              "      --hover-bg-color: #434B5C;\n",
              "      --hover-fill-color: #FFFFFF;\n",
              "      --disabled-bg-color: #3B4455;\n",
              "      --disabled-fill-color: #666;\n",
              "  }\n",
              "\n",
              "  .colab-df-quickchart {\n",
              "    background-color: var(--bg-color);\n",
              "    border: none;\n",
              "    border-radius: 50%;\n",
              "    cursor: pointer;\n",
              "    display: none;\n",
              "    fill: var(--fill-color);\n",
              "    height: 32px;\n",
              "    padding: 0;\n",
              "    width: 32px;\n",
              "  }\n",
              "\n",
              "  .colab-df-quickchart:hover {\n",
              "    background-color: var(--hover-bg-color);\n",
              "    box-shadow: 0 1px 2px rgba(60, 64, 67, 0.3), 0 1px 3px 1px rgba(60, 64, 67, 0.15);\n",
              "    fill: var(--button-hover-fill-color);\n",
              "  }\n",
              "\n",
              "  .colab-df-quickchart-complete:disabled,\n",
              "  .colab-df-quickchart-complete:disabled:hover {\n",
              "    background-color: var(--disabled-bg-color);\n",
              "    fill: var(--disabled-fill-color);\n",
              "    box-shadow: none;\n",
              "  }\n",
              "\n",
              "  .colab-df-spinner {\n",
              "    border: 2px solid var(--fill-color);\n",
              "    border-color: transparent;\n",
              "    border-bottom-color: var(--fill-color);\n",
              "    animation:\n",
              "      spin 1s steps(1) infinite;\n",
              "  }\n",
              "\n",
              "  @keyframes spin {\n",
              "    0% {\n",
              "      border-color: transparent;\n",
              "      border-bottom-color: var(--fill-color);\n",
              "      border-left-color: var(--fill-color);\n",
              "    }\n",
              "    20% {\n",
              "      border-color: transparent;\n",
              "      border-left-color: var(--fill-color);\n",
              "      border-top-color: var(--fill-color);\n",
              "    }\n",
              "    30% {\n",
              "      border-color: transparent;\n",
              "      border-left-color: var(--fill-color);\n",
              "      border-top-color: var(--fill-color);\n",
              "      border-right-color: var(--fill-color);\n",
              "    }\n",
              "    40% {\n",
              "      border-color: transparent;\n",
              "      border-right-color: var(--fill-color);\n",
              "      border-top-color: var(--fill-color);\n",
              "    }\n",
              "    60% {\n",
              "      border-color: transparent;\n",
              "      border-right-color: var(--fill-color);\n",
              "    }\n",
              "    80% {\n",
              "      border-color: transparent;\n",
              "      border-right-color: var(--fill-color);\n",
              "      border-bottom-color: var(--fill-color);\n",
              "    }\n",
              "    90% {\n",
              "      border-color: transparent;\n",
              "      border-bottom-color: var(--fill-color);\n",
              "    }\n",
              "  }\n",
              "</style>\n",
              "\n",
              "  <script>\n",
              "    async function quickchart(key) {\n",
              "      const quickchartButtonEl =\n",
              "        document.querySelector('#' + key + ' button');\n",
              "      quickchartButtonEl.disabled = true;  // To prevent multiple clicks.\n",
              "      quickchartButtonEl.classList.add('colab-df-spinner');\n",
              "      try {\n",
              "        const charts = await google.colab.kernel.invokeFunction(\n",
              "            'suggestCharts', [key], {});\n",
              "      } catch (error) {\n",
              "        console.error('Error during call to suggestCharts:', error);\n",
              "      }\n",
              "      quickchartButtonEl.classList.remove('colab-df-spinner');\n",
              "      quickchartButtonEl.classList.add('colab-df-quickchart-complete');\n",
              "    }\n",
              "    (() => {\n",
              "      let quickchartButtonEl =\n",
              "        document.querySelector('#df-495f2e6f-5c49-42f8-99dd-c92abc1bb39f button');\n",
              "      quickchartButtonEl.style.display =\n",
              "        google.colab.kernel.accessAllowed ? 'block' : 'none';\n",
              "    })();\n",
              "  </script>\n",
              "</div>\n",
              "\n",
              "  <div id=\"id_a772543f-5183-4637-85dc-792f9dadb21d\">\n",
              "    <style>\n",
              "      .colab-df-generate {\n",
              "        background-color: #E8F0FE;\n",
              "        border: none;\n",
              "        border-radius: 50%;\n",
              "        cursor: pointer;\n",
              "        display: none;\n",
              "        fill: #1967D2;\n",
              "        height: 32px;\n",
              "        padding: 0 0 0 0;\n",
              "        width: 32px;\n",
              "      }\n",
              "\n",
              "      .colab-df-generate:hover {\n",
              "        background-color: #E2EBFA;\n",
              "        box-shadow: 0px 1px 2px rgba(60, 64, 67, 0.3), 0px 1px 3px 1px rgba(60, 64, 67, 0.15);\n",
              "        fill: #174EA6;\n",
              "      }\n",
              "\n",
              "      [theme=dark] .colab-df-generate {\n",
              "        background-color: #3B4455;\n",
              "        fill: #D2E3FC;\n",
              "      }\n",
              "\n",
              "      [theme=dark] .colab-df-generate:hover {\n",
              "        background-color: #434B5C;\n",
              "        box-shadow: 0px 1px 3px 1px rgba(0, 0, 0, 0.15);\n",
              "        filter: drop-shadow(0px 1px 2px rgba(0, 0, 0, 0.3));\n",
              "        fill: #FFFFFF;\n",
              "      }\n",
              "    </style>\n",
              "    <button class=\"colab-df-generate\" onclick=\"generateWithVariable('df')\"\n",
              "            title=\"Generate code using this dataframe.\"\n",
              "            style=\"display:none;\">\n",
              "\n",
              "  <svg xmlns=\"http://www.w3.org/2000/svg\" height=\"24px\"viewBox=\"0 0 24 24\"\n",
              "       width=\"24px\">\n",
              "    <path d=\"M7,19H8.4L18.45,9,17,7.55,7,17.6ZM5,21V16.75L18.45,3.32a2,2,0,0,1,2.83,0l1.4,1.43a1.91,1.91,0,0,1,.58,1.4,1.91,1.91,0,0,1-.58,1.4L9.25,21ZM18.45,9,17,7.55Zm-12,3A5.31,5.31,0,0,0,4.9,8.1,5.31,5.31,0,0,0,1,6.5,5.31,5.31,0,0,0,4.9,4.9,5.31,5.31,0,0,0,6.5,1,5.31,5.31,0,0,0,8.1,4.9,5.31,5.31,0,0,0,12,6.5,5.46,5.46,0,0,0,6.5,12Z\"/>\n",
              "  </svg>\n",
              "    </button>\n",
              "    <script>\n",
              "      (() => {\n",
              "      const buttonEl =\n",
              "        document.querySelector('#id_a772543f-5183-4637-85dc-792f9dadb21d button.colab-df-generate');\n",
              "      buttonEl.style.display =\n",
              "        google.colab.kernel.accessAllowed ? 'block' : 'none';\n",
              "\n",
              "      buttonEl.onclick = () => {\n",
              "        google.colab.notebook.generateWithVariable('df');\n",
              "      }\n",
              "      })();\n",
              "    </script>\n",
              "  </div>\n",
              "\n",
              "    </div>\n",
              "  </div>\n"
            ]
          },
          "metadata": {},
          "execution_count": 9
        }
      ]
    },
    {
      "cell_type": "code",
      "source": [
        "index.upsert(vectors=(zip(df.id, df.vector)))"
      ],
      "metadata": {
        "colab": {
          "base_uri": "https://localhost:8080/"
        },
        "id": "-L3rxmsWuVnn",
        "outputId": "ad0a490e-1c3b-4693-8d6c-799f6ef5804f"
      },
      "execution_count": 10,
      "outputs": [
        {
          "output_type": "execute_result",
          "data": {
            "text/plain": [
              "{'upserted_count': 2}"
            ]
          },
          "metadata": {},
          "execution_count": 10
        }
      ]
    },
    {
      "cell_type": "code",
      "source": [
        "index.describe_index_stats()"
      ],
      "metadata": {
        "colab": {
          "base_uri": "https://localhost:8080/"
        },
        "id": "bQYujUW_u7sv",
        "outputId": "fd1e3b3b-2a3b-45f7-ecae-af907b0c581b"
      },
      "execution_count": 11,
      "outputs": [
        {
          "output_type": "execute_result",
          "data": {
            "text/plain": [
              "{'dimension': 3,\n",
              " 'index_fullness': 5e-05,\n",
              " 'namespaces': {'': {'vector_count': 5}},\n",
              " 'total_vector_count': 5}"
            ]
          },
          "metadata": {},
          "execution_count": 11
        }
      ]
    },
    {
      "cell_type": "markdown",
      "source": [
        "# Query the data\n",
        "\n",
        "> It uses cosine similarith to find the nearest vector."
      ],
      "metadata": {
        "id": "0BiGNElmXdV5"
      }
    },
    {
      "cell_type": "code",
      "source": [
        "response = index.query(\n",
        "    vector=[0.4, 0.4, 0.3],  # query vector\n",
        "    top_k=1,  # the number of similar results we want to see\n",
        "    include_values=True,  # by default it is false, it returns the vector as a response with maximum similarity\n",
        "    include_metadata=True,\n",
        "    filter={\n",
        "        \"sector\": \"automobile\"\n",
        "    }\n",
        ")"
      ],
      "metadata": {
        "id": "_eAfKfwOXini"
      },
      "execution_count": 19,
      "outputs": []
    },
    {
      "cell_type": "code",
      "source": [
        "response"
      ],
      "metadata": {
        "colab": {
          "base_uri": "https://localhost:8080/"
        },
        "id": "n911RMsLX-xp",
        "outputId": "b1eb6e90-8090-483a-9263-aa3ce420dc63"
      },
      "execution_count": 20,
      "outputs": [
        {
          "output_type": "execute_result",
          "data": {
            "text/plain": [
              "{'matches': [{'id': 'A',\n",
              "              'metadata': {'sector': 'automobile', 'stock_name': 'Tesla'},\n",
              "              'score': 0.991126597,\n",
              "              'values': [0.1, 0.1, 0.1]}],\n",
              " 'namespace': '',\n",
              " 'usage': {'read_units': 6}}"
            ]
          },
          "metadata": {},
          "execution_count": 20
        }
      ]
    },
    {
      "cell_type": "markdown",
      "source": [
        "# Upserting data"
      ],
      "metadata": {
        "id": "udp5GQCUbmyS"
      }
    },
    {
      "cell_type": "code",
      "source": [
        "pc.delete_index(name=\"stock-prices\")\n",
        "pc.list_indexes()"
      ],
      "metadata": {
        "colab": {
          "base_uri": "https://localhost:8080/"
        },
        "id": "NQtKSVekbo4o",
        "outputId": "6e84d41a-5ff4-44c9-e050-9b2256187df4"
      },
      "execution_count": 21,
      "outputs": [
        {
          "output_type": "execute_result",
          "data": {
            "text/plain": [
              "{'indexes': []}"
            ]
          },
          "metadata": {},
          "execution_count": 21
        }
      ]
    },
    {
      "cell_type": "markdown",
      "source": [
        "> Manually created an index named \"prices\" in the Pinecone"
      ],
      "metadata": {
        "id": "Frh-17EOdbb8"
      }
    },
    {
      "cell_type": "code",
      "source": [
        "pc.describe_index('prices')"
      ],
      "metadata": {
        "colab": {
          "base_uri": "https://localhost:8080/"
        },
        "id": "0SFNWbS_dWrZ",
        "outputId": "2191f76e-7347-4c85-d87a-3a8a0be7fe49"
      },
      "execution_count": 24,
      "outputs": [
        {
          "output_type": "execute_result",
          "data": {
            "text/plain": [
              "{'dimension': 64,\n",
              " 'host': 'prices-reg6nin.svc.gcp-starter.pinecone.io',\n",
              " 'metric': 'cosine',\n",
              " 'name': 'prices',\n",
              " 'spec': {'pod': {'environment': 'gcp-starter',\n",
              "                  'pod_type': 'starter',\n",
              "                  'pods': 1,\n",
              "                  'replicas': 1,\n",
              "                  'shards': 1}},\n",
              " 'status': {'ready': True, 'state': 'Ready'}}"
            ]
          },
          "metadata": {},
          "execution_count": 24
        }
      ]
    },
    {
      "cell_type": "code",
      "source": [
        "import random\n",
        "\n",
        "ids = ['a', 'b', 'c', 'd']\n",
        "vectors = [[random.random() for _ in range(64)] for vec in range(4)]\n",
        "\n",
        "ids, vectors"
      ],
      "metadata": {
        "colab": {
          "base_uri": "https://localhost:8080/"
        },
        "id": "AUE6X4Qydpeb",
        "outputId": "facc4f50-03f0-4256-8187-01ea13a41057"
      },
      "execution_count": 25,
      "outputs": [
        {
          "output_type": "execute_result",
          "data": {
            "text/plain": [
              "(['a', 'b', 'c', 'd'],\n",
              " [[0.8803878124144144,\n",
              "   0.1586749025552069,\n",
              "   0.2211769082974503,\n",
              "   0.14000759419411624,\n",
              "   0.4533031055278026,\n",
              "   0.4781178003361357,\n",
              "   0.85399869335948,\n",
              "   0.37242689872571366,\n",
              "   0.6357751952642251,\n",
              "   0.9295821883008992,\n",
              "   0.5856329729671373,\n",
              "   0.10953589535388308,\n",
              "   0.17886450587613922,\n",
              "   0.8204560211577442,\n",
              "   0.09328441506440543,\n",
              "   0.8246393753821802,\n",
              "   0.4016701560082727,\n",
              "   0.04344156210662142,\n",
              "   0.002700532485554019,\n",
              "   0.9346211961973108,\n",
              "   0.8088042841046542,\n",
              "   0.9959387096580437,\n",
              "   0.9130995306706018,\n",
              "   0.9089346653718225,\n",
              "   0.4729504750875497,\n",
              "   0.998536481993486,\n",
              "   0.7896941200082584,\n",
              "   0.6235117205711002,\n",
              "   0.9821218008036651,\n",
              "   0.40935571668552906,\n",
              "   0.41692135953175824,\n",
              "   0.5259929180261936,\n",
              "   0.7056863910335753,\n",
              "   0.5017631733891517,\n",
              "   0.3420537924639917,\n",
              "   0.42476959785554125,\n",
              "   0.5170459223267561,\n",
              "   0.03442501571039713,\n",
              "   0.8803034461157849,\n",
              "   0.12856157887464237,\n",
              "   0.9844815273510794,\n",
              "   0.1028322355813257,\n",
              "   0.3450914965131814,\n",
              "   0.9693650450249528,\n",
              "   0.1595003184657251,\n",
              "   0.5819928596217672,\n",
              "   0.7404452889856245,\n",
              "   0.07120507419072597,\n",
              "   0.5357803555297925,\n",
              "   0.8003887949980547,\n",
              "   0.1487210234877162,\n",
              "   0.5277174320337055,\n",
              "   0.12336191082641279,\n",
              "   0.6784170707784426,\n",
              "   0.9036462280627601,\n",
              "   0.8427579618715616,\n",
              "   0.9834161879552831,\n",
              "   0.662866802173672,\n",
              "   0.5704703649378677,\n",
              "   0.5402683068234456,\n",
              "   0.7428789767976851,\n",
              "   0.3463530758530867,\n",
              "   0.42266959712900265,\n",
              "   0.869562310909653],\n",
              "  [0.14114643243086233,\n",
              "   0.6056178235373183,\n",
              "   0.9863782971928474,\n",
              "   0.9659418599319739,\n",
              "   0.006571538717627057,\n",
              "   0.8841112253811045,\n",
              "   0.6655403458833481,\n",
              "   0.01411436169914293,\n",
              "   0.9235658011365393,\n",
              "   0.4188045014150563,\n",
              "   0.485497329907026,\n",
              "   0.2642636681117543,\n",
              "   0.7392510784567815,\n",
              "   0.991360917328227,\n",
              "   0.7896316650221605,\n",
              "   0.7412673234328546,\n",
              "   0.5865004761831413,\n",
              "   0.5252848977638539,\n",
              "   0.3991739764415039,\n",
              "   0.304231312146619,\n",
              "   0.8940907608500674,\n",
              "   0.1617428939836738,\n",
              "   0.883166326678948,\n",
              "   0.9893820560800733,\n",
              "   0.7257119735461594,\n",
              "   0.9880591836838172,\n",
              "   0.6208300719034927,\n",
              "   0.20642581175013375,\n",
              "   0.18052024307727177,\n",
              "   0.5755203307615948,\n",
              "   0.9989499144599175,\n",
              "   0.5368542471365659,\n",
              "   0.7623935086094978,\n",
              "   0.5599909311203113,\n",
              "   0.4177278539243755,\n",
              "   0.61330766851394,\n",
              "   0.05901017397406261,\n",
              "   0.32336720404798014,\n",
              "   0.9398006222080719,\n",
              "   0.6429787026368884,\n",
              "   0.5078751027793583,\n",
              "   0.5703542193988371,\n",
              "   0.09595015184802169,\n",
              "   0.4905915504460566,\n",
              "   0.10913572910237368,\n",
              "   0.7964828622422409,\n",
              "   0.679874492978113,\n",
              "   0.5430244465884081,\n",
              "   0.45995844759176563,\n",
              "   0.6990054194072394,\n",
              "   0.5463711786622946,\n",
              "   0.41082543916574366,\n",
              "   0.9253117231551838,\n",
              "   0.9526176900198868,\n",
              "   0.161158193421443,\n",
              "   0.25162102619057936,\n",
              "   0.9412134194904186,\n",
              "   0.709272538923671,\n",
              "   0.9530369102532806,\n",
              "   0.1382445040272552,\n",
              "   0.5449819589800937,\n",
              "   0.10587599534043779,\n",
              "   0.6745670300923737,\n",
              "   0.9125330173915258],\n",
              "  [0.13939920611241663,\n",
              "   0.7314292926740874,\n",
              "   0.8037996753693414,\n",
              "   0.26885849898787706,\n",
              "   0.42661712555329434,\n",
              "   0.2696780304886922,\n",
              "   0.7672717504005881,\n",
              "   0.28080364853286743,\n",
              "   0.0772407729408271,\n",
              "   0.24008788439175355,\n",
              "   0.5862769701209339,\n",
              "   0.7648383222066663,\n",
              "   0.35917139401163645,\n",
              "   0.6642212613482318,\n",
              "   0.5776856626298241,\n",
              "   0.3234695851194931,\n",
              "   0.7802068026533587,\n",
              "   0.34334746403977445,\n",
              "   0.13425065487872367,\n",
              "   0.7295705657008752,\n",
              "   0.3117610353783825,\n",
              "   0.9906446911407004,\n",
              "   0.9142493377985017,\n",
              "   0.36094632021349926,\n",
              "   0.6203130194699725,\n",
              "   0.8344307502920839,\n",
              "   0.006745140207746636,\n",
              "   0.790194229984269,\n",
              "   0.9075998855486436,\n",
              "   0.050621587268199986,\n",
              "   0.3463122514114241,\n",
              "   0.4555204666641989,\n",
              "   0.4089360183916677,\n",
              "   0.6806074932001255,\n",
              "   0.4347856684978336,\n",
              "   0.6940572649360223,\n",
              "   0.13941901493147457,\n",
              "   0.7517172341170777,\n",
              "   0.14016310334139825,\n",
              "   0.8268266983578565,\n",
              "   0.16972282407493167,\n",
              "   0.8861869348616918,\n",
              "   0.6211317778816647,\n",
              "   0.34332322316310204,\n",
              "   0.0034091393135845527,\n",
              "   0.2703867225134673,\n",
              "   0.3926255580558392,\n",
              "   0.6236552633726477,\n",
              "   0.018134574280577964,\n",
              "   0.17148441136405812,\n",
              "   0.8734420099247101,\n",
              "   0.2732418117900144,\n",
              "   0.5794304595508077,\n",
              "   0.9064487147702426,\n",
              "   0.34579574024608883,\n",
              "   0.9278721655949419,\n",
              "   0.11772891521584461,\n",
              "   0.9938421862670737,\n",
              "   0.7192875882148158,\n",
              "   0.3205779593015229,\n",
              "   0.642272019192478,\n",
              "   0.47754162645716924,\n",
              "   0.21907143794777795,\n",
              "   0.31455164245870715],\n",
              "  [0.6674816831872737,\n",
              "   0.40232886736930806,\n",
              "   0.6516760243290745,\n",
              "   0.7094582735968351,\n",
              "   0.18473585955367178,\n",
              "   0.6716831641911509,\n",
              "   0.12871631518739912,\n",
              "   0.5395934951403986,\n",
              "   0.3481067405137003,\n",
              "   0.11846329928451227,\n",
              "   0.20168539523130502,\n",
              "   0.6015505402381187,\n",
              "   0.6141685557706672,\n",
              "   0.18107793830582952,\n",
              "   0.974921692015411,\n",
              "   0.44804536463782707,\n",
              "   0.9027028621774418,\n",
              "   0.733790538148541,\n",
              "   0.3604005854145397,\n",
              "   0.7537239237885501,\n",
              "   0.8397704559096107,\n",
              "   0.26362087648931076,\n",
              "   0.14712706065463665,\n",
              "   0.17616867681012838,\n",
              "   0.5287159721371582,\n",
              "   0.8704796751446497,\n",
              "   0.22240905115390985,\n",
              "   0.37541206665469706,\n",
              "   0.8840192403752442,\n",
              "   0.6617772012573548,\n",
              "   0.34602196007415675,\n",
              "   0.23005457196764112,\n",
              "   0.33297408664025796,\n",
              "   0.8794005980627496,\n",
              "   0.3549764624127102,\n",
              "   0.09073787764441155,\n",
              "   0.8339046081777428,\n",
              "   0.555371939685331,\n",
              "   0.5319906868110468,\n",
              "   0.00439963429287038,\n",
              "   0.2429494930003795,\n",
              "   0.9601957270488912,\n",
              "   0.7729470714413577,\n",
              "   0.7266779774416913,\n",
              "   0.545479549057032,\n",
              "   0.34945407520560234,\n",
              "   0.9739177807609429,\n",
              "   0.9982226471315986,\n",
              "   0.6103296750619861,\n",
              "   0.6162049636092272,\n",
              "   0.4965477545005432,\n",
              "   0.36810938114207625,\n",
              "   0.6039323424811142,\n",
              "   0.7917473301608806,\n",
              "   0.44089434538399275,\n",
              "   0.2836288304579728,\n",
              "   0.6596675928001337,\n",
              "   0.7292594513994429,\n",
              "   0.12788789620003382,\n",
              "   0.3851715772760753,\n",
              "   0.4224202467295525,\n",
              "   0.09726423555805686,\n",
              "   0.43464797267855404,\n",
              "   0.8373739818304398]])"
            ]
          },
          "metadata": {},
          "execution_count": 25
        }
      ]
    },
    {
      "cell_type": "code",
      "source": [
        "index = pc.Index(name='prices')"
      ],
      "metadata": {
        "id": "a4WgNLV0eJiv"
      },
      "execution_count": 26,
      "outputs": []
    },
    {
      "cell_type": "code",
      "source": [
        "index.upsert(zip(ids, vectors))"
      ],
      "metadata": {
        "colab": {
          "base_uri": "https://localhost:8080/"
        },
        "id": "7VFGPiDDeeeA",
        "outputId": "5f7a4dd4-914a-4dc1-b5f8-e7a08b8e17bc"
      },
      "execution_count": 27,
      "outputs": [
        {
          "output_type": "execute_result",
          "data": {
            "text/plain": [
              "{'upserted_count': 4}"
            ]
          },
          "metadata": {},
          "execution_count": 27
        }
      ]
    },
    {
      "cell_type": "code",
      "source": [
        "index.describe_index_stats()"
      ],
      "metadata": {
        "colab": {
          "base_uri": "https://localhost:8080/"
        },
        "id": "eksGOppKel_Q",
        "outputId": "7c90a5ab-ff54-4605-d475-99efc888fe9b"
      },
      "execution_count": 28,
      "outputs": [
        {
          "output_type": "execute_result",
          "data": {
            "text/plain": [
              "{'dimension': 64,\n",
              " 'index_fullness': 4e-05,\n",
              " 'namespaces': {'': {'vector_count': 4}},\n",
              " 'total_vector_count': 4}"
            ]
          },
          "metadata": {},
          "execution_count": 28
        }
      ]
    },
    {
      "cell_type": "markdown",
      "source": [
        "## Inserting data in batches over several requests\n",
        "\n",
        "In order to insert data parallely:\n",
        "\n",
        "https://docs.pinecone.io/docs/upsert-data#send-upserts-in-parallel"
      ],
      "metadata": {
        "id": "WfJQD2r9i9DJ"
      }
    },
    {
      "cell_type": "code",
      "source": [
        "import itertools\n",
        "\n",
        "vector_dimension = 64\n",
        "vector_count = 1000"
      ],
      "metadata": {
        "id": "H2lHDZIDjJxa"
      },
      "execution_count": 29,
      "outputs": []
    },
    {
      "cell_type": "code",
      "source": [
        "# (id, vector)\n",
        "example_data_generator = map(\n",
        "    lambda i:\n",
        "    (f'id-{i}', [random.random() for _ in range(vector_dimension)]), range(vector_count)\n",
        ")\n",
        "\n",
        "# helper function to handle chunking of pairs\n",
        "def chunks(iterable, batch_size=100):\n",
        "  it = iter(iterable)\n",
        "  chunk = tuple(itertools.islice(it, batch_size))\n",
        "\n",
        "  while chunk:\n",
        "    yield chunk\n",
        "    chunk = tuple(itertools.islice(it, batch_size))"
      ],
      "metadata": {
        "id": "Z8Gatu7BkRAn"
      },
      "execution_count": 33,
      "outputs": []
    },
    {
      "cell_type": "code",
      "source": [
        "for chunk in chunks(example_data_generator):\n",
        "  index.upsert(vectors=chunk)"
      ],
      "metadata": {
        "id": "glmkr5FVlDvo"
      },
      "execution_count": 35,
      "outputs": []
    },
    {
      "cell_type": "code",
      "source": [
        "index.describe_index_stats()"
      ],
      "metadata": {
        "colab": {
          "base_uri": "https://localhost:8080/"
        },
        "id": "2HCr-othlXd3",
        "outputId": "d98c3db6-c65d-4345-ff73-c9c7ef1b74ff"
      },
      "execution_count": 36,
      "outputs": [
        {
          "output_type": "execute_result",
          "data": {
            "text/plain": [
              "{'dimension': 64,\n",
              " 'index_fullness': 0.00904,\n",
              " 'namespaces': {'': {'vector_count': 904}},\n",
              " 'total_vector_count': 904}"
            ]
          },
          "metadata": {},
          "execution_count": 36
        }
      ]
    }
  ]
}