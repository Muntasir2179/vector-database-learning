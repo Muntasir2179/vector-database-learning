{
  "nbformat": 4,
  "nbformat_minor": 0,
  "metadata": {
    "colab": {
      "provenance": [],
      "toc_visible": true,
      "authorship_tag": "ABX9TyOfLV1vSWOmjRjjZzPXJp6q",
      "include_colab_link": true
    },
    "kernelspec": {
      "name": "python3",
      "display_name": "Python 3"
    },
    "language_info": {
      "name": "python"
    }
  },
  "cells": [
    {
      "cell_type": "markdown",
      "metadata": {
        "id": "view-in-github",
        "colab_type": "text"
      },
      "source": [
        "<a href=\"https://colab.research.google.com/github/Muntasir2179/vector-database-learning/blob/main/VD_SQLite_Vector_search.ipynb\" target=\"_parent\"><img src=\"https://colab.research.google.com/assets/colab-badge.svg\" alt=\"Open In Colab\"/></a>"
      ]
    },
    {
      "cell_type": "markdown",
      "source": [
        "# SQLite Database\n",
        "\n",
        "There are some open source vector database available in the internet. One of them is `Chromadb`.\n",
        "\n",
        "https://docs.trychroma.com/"
      ],
      "metadata": {
        "id": "t8jbrmUStDr2"
      }
    },
    {
      "cell_type": "code",
      "execution_count": 1,
      "metadata": {
        "id": "eplJD_hIoDRX"
      },
      "outputs": [],
      "source": [
        "import sqlite3"
      ]
    },
    {
      "cell_type": "code",
      "source": [
        "# create a connection to SQLite DB\n",
        "conn = sqlite3.connect(\"sample.db\")"
      ],
      "metadata": {
        "id": "HM6o2bvttJJ8"
      },
      "execution_count": 2,
      "outputs": []
    },
    {
      "cell_type": "code",
      "source": [
        "# Create a cursor\n",
        "'''\n",
        "The cursor objects is going to help us execute all the SQL commands\n",
        "'''\n",
        "cursor = conn.cursor()"
      ],
      "metadata": {
        "id": "VOy02SPGpZF3"
      },
      "execution_count": 3,
      "outputs": []
    },
    {
      "cell_type": "markdown",
      "source": [
        "## Now let's create a table\n",
        "\n",
        "Here we are going to create a table. It will be a `stocks` table. There will be two columns -\n",
        "\n",
        "* stock_code\n",
        "* stock_name"
      ],
      "metadata": {
        "id": "kec6_xQCp1wu"
      }
    },
    {
      "cell_type": "code",
      "source": [
        "cursor.execute(\"\"\"\n",
        "CREATE TABLE IF NOT EXISTS stocks(\n",
        "  stock_code INTEGER PROMARY KEY,\n",
        "  stock_name TEXT NOT NULL\n",
        ")\n",
        "\"\"\")"
      ],
      "metadata": {
        "colab": {
          "base_uri": "https://localhost:8080/"
        },
        "id": "LhYr9OlHp4tV",
        "outputId": "a7a84233-535a-44f3-923e-9dc6fa67995e"
      },
      "execution_count": 4,
      "outputs": [
        {
          "output_type": "execute_result",
          "data": {
            "text/plain": [
              "<sqlite3.Cursor at 0x7ca26bc10f40>"
            ]
          },
          "metadata": {},
          "execution_count": 4
        }
      ]
    },
    {
      "cell_type": "code",
      "source": [
        "# let's now insert some data\n",
        "cursor.execute(\"INSERT INTO stocks (stock_name) VALUES (?)\", ('TESLA',))\n",
        "cursor.execute(\"INSERT INTO stocks (stock_name) VALUES (?)\", ('Microsoft',))"
      ],
      "metadata": {
        "colab": {
          "base_uri": "https://localhost:8080/"
        },
        "id": "tHAo0WwTqyZm",
        "outputId": "d78abe8c-5575-4fa8-9456-e68948da48ec"
      },
      "execution_count": 10,
      "outputs": [
        {
          "output_type": "execute_result",
          "data": {
            "text/plain": [
              "<sqlite3.Cursor at 0x7ca26bc10f40>"
            ]
          },
          "metadata": {},
          "execution_count": 10
        }
      ]
    },
    {
      "cell_type": "code",
      "source": [
        "# select records\n",
        "cursor.execute(\"SELECT * FROM stocks\")"
      ],
      "metadata": {
        "colab": {
          "base_uri": "https://localhost:8080/"
        },
        "id": "12zLFfGNsD6m",
        "outputId": "b8b6041a-d520-4aa4-bd0b-16b292b0c344"
      },
      "execution_count": 12,
      "outputs": [
        {
          "output_type": "execute_result",
          "data": {
            "text/plain": [
              "<sqlite3.Cursor at 0x7ca26bc10f40>"
            ]
          },
          "metadata": {},
          "execution_count": 12
        }
      ]
    },
    {
      "cell_type": "code",
      "source": [
        "rows = cursor.fetchall()\n",
        "rows"
      ],
      "metadata": {
        "colab": {
          "base_uri": "https://localhost:8080/"
        },
        "id": "aJ54vK4ksRbO",
        "outputId": "8e5312fa-6eea-4080-b42f-14311533d8c7"
      },
      "execution_count": 13,
      "outputs": [
        {
          "output_type": "execute_result",
          "data": {
            "text/plain": [
              "[(None, 'TESLA'), (None, 'TESLA'), (None, 'Microsoft')]"
            ]
          },
          "metadata": {},
          "execution_count": 13
        }
      ]
    },
    {
      "cell_type": "code",
      "source": [
        "# save the changes\n",
        "conn.commit()"
      ],
      "metadata": {
        "id": "T-yvRB9esb_w"
      },
      "execution_count": 14,
      "outputs": []
    },
    {
      "cell_type": "code",
      "source": [
        "# it is a good practise to always close the database connection whenever we connect with some database\n",
        "conn.close()"
      ],
      "metadata": {
        "id": "VXX1dVTRsg3A"
      },
      "execution_count": 15,
      "outputs": []
    },
    {
      "cell_type": "markdown",
      "source": [
        "## Using SQLite as a vector storage\n",
        "\n",
        "What is a vector?\n",
        "> The vectors in machine learning signify input data, including bias and weight. In the same way, output from a machine-learning model (for example, a predicted class), can be put into vector format.\n",
        "\n",
        "```python\n",
        "# array of numbers -> numpy arrays\n",
        "vector = [1.2, 2.5, 3.7, 7.5, 5.9]\n",
        "```\n",
        "\n",
        "🧮 NOTE: The information, in orther words the vectors must be stored in a bytes format."
      ],
      "metadata": {
        "id": "YS6QuoqRulXf"
      }
    },
    {
      "cell_type": "code",
      "source": [
        "import numpy as np\n",
        "\n",
        "# creating a new connection to store vectors\n",
        "conn = sqlite3.connect(\"sample_vectors.db\")\n",
        "\n",
        "# creting cursor to execute SQL commands\n",
        "cursor = conn.cursor()"
      ],
      "metadata": {
        "id": "csDKxx17u8k_"
      },
      "execution_count": 33,
      "outputs": []
    },
    {
      "cell_type": "code",
      "source": [
        "cursor.execute(\"\"\"\n",
        "CREATE TABLE IF NOT EXISTS vectors (\n",
        "  vector_id INTEGER PRIMARY KEY,\n",
        "  vector BLOB NOT NULL\n",
        ")\n",
        "\"\"\")"
      ],
      "metadata": {
        "colab": {
          "base_uri": "https://localhost:8080/"
        },
        "id": "DOkVOJLSwF7h",
        "outputId": "4e94137e-3d1d-42d8-ae1f-274bb6c5ed86"
      },
      "execution_count": 34,
      "outputs": [
        {
          "output_type": "execute_result",
          "data": {
            "text/plain": [
              "<sqlite3.Cursor at 0x7ca252ec4bc0>"
            ]
          },
          "metadata": {},
          "execution_count": 34
        }
      ]
    },
    {
      "cell_type": "code",
      "source": [
        "# creating some vectors as numpy array\n",
        "vector_tesla = np.array([1.4, 3.5, 2.2, 0.9])\n",
        "vector_microsoft = np.array([2.8, 1.6, 3.8, 2.2])"
      ],
      "metadata": {
        "id": "m6b7ym6awoyL"
      },
      "execution_count": 35,
      "outputs": []
    },
    {
      "cell_type": "code",
      "source": [
        "# we have to convert our vector into bytes format before inderting into the database\n",
        "vector_tesla.tobytes()"
      ],
      "metadata": {
        "colab": {
          "base_uri": "https://localhost:8080/"
        },
        "id": "g4mAzB67xrPm",
        "outputId": "06f53c59-b199-43f5-c4fe-2b85a9f3790b"
      },
      "execution_count": 36,
      "outputs": [
        {
          "output_type": "execute_result",
          "data": {
            "text/plain": [
              "b'ffffff\\xf6?\\x00\\x00\\x00\\x00\\x00\\x00\\x0c@\\x9a\\x99\\x99\\x99\\x99\\x99\\x01@\\xcd\\xcc\\xcc\\xcc\\xcc\\xcc\\xec?'"
            ]
          },
          "metadata": {},
          "execution_count": 36
        }
      ]
    },
    {
      "cell_type": "code",
      "source": [
        "# we have to specify sqlite3 that it is stored in Binary format\n",
        "cursor.execute(\"INSERT INTO vectors (vector) VALUES (?)\", (sqlite3.Binary(vector_tesla.tobytes()),))"
      ],
      "metadata": {
        "colab": {
          "base_uri": "https://localhost:8080/"
        },
        "id": "G6OXokZ2xMsm",
        "outputId": "0ea07914-b24c-4da9-9e87-7d26e4943bac"
      },
      "execution_count": 37,
      "outputs": [
        {
          "output_type": "execute_result",
          "data": {
            "text/plain": [
              "<sqlite3.Cursor at 0x7ca252ec4bc0>"
            ]
          },
          "metadata": {},
          "execution_count": 37
        }
      ]
    },
    {
      "cell_type": "code",
      "source": [
        "cursor.execute(\"INSERT INTO vectors (vector) VALUES (?)\", (sqlite3.Binary(vector_microsoft.tobytes()),))"
      ],
      "metadata": {
        "colab": {
          "base_uri": "https://localhost:8080/"
        },
        "id": "k4hIOkO81TvI",
        "outputId": "2aa83dd6-747c-4ab2-e4e2-3240408f85ce"
      },
      "execution_count": 38,
      "outputs": [
        {
          "output_type": "execute_result",
          "data": {
            "text/plain": [
              "<sqlite3.Cursor at 0x7ca252ec4bc0>"
            ]
          },
          "metadata": {},
          "execution_count": 38
        }
      ]
    },
    {
      "cell_type": "code",
      "source": [
        "cursor.execute(\"SELECT * FROM vectors\")\n",
        "rows = cursor.fetchall()\n",
        "rows"
      ],
      "metadata": {
        "colab": {
          "base_uri": "https://localhost:8080/"
        },
        "id": "GFKl2qWS1XtX",
        "outputId": "4de386e5-d0e3-4ec6-ca4c-57365358fb70"
      },
      "execution_count": 39,
      "outputs": [
        {
          "output_type": "execute_result",
          "data": {
            "text/plain": [
              "[(1,\n",
              "  b'ffffff\\xf6?\\x00\\x00\\x00\\x00\\x00\\x00\\x0c@\\x9a\\x99\\x99\\x99\\x99\\x99\\x01@\\xcd\\xcc\\xcc\\xcc\\xcc\\xcc\\xec?'),\n",
              " (2,\n",
              "  b'ffffff\\x06@\\x9a\\x99\\x99\\x99\\x99\\x99\\xf9?ffffff\\x0e@\\x9a\\x99\\x99\\x99\\x99\\x99\\x01@')]"
            ]
          },
          "metadata": {},
          "execution_count": 39
        }
      ]
    },
    {
      "cell_type": "markdown",
      "source": [
        "## Retriving vecotr from the database\n",
        "\n",
        "Now we can see that the data has been converted into bytes and stored in the database. But, when we will try to retrive the data, we will not going to get the data in the format that we have inserted. We have to do some transformation to get the data/vector in actual format.\n",
        "\n",
        "The process is called `Deserialization`."
      ],
      "metadata": {
        "id": "kqtpLaAY2XlI"
      }
    },
    {
      "cell_type": "code",
      "source": [
        "rows[0][1]"
      ],
      "metadata": {
        "colab": {
          "base_uri": "https://localhost:8080/"
        },
        "id": "QEwH_YpZ3PPw",
        "outputId": "84ad444d-cb80-48e6-9568-aae070b98bc1"
      },
      "execution_count": 41,
      "outputs": [
        {
          "output_type": "execute_result",
          "data": {
            "text/plain": [
              "b'ffffff\\xf6?\\x00\\x00\\x00\\x00\\x00\\x00\\x0c@\\x9a\\x99\\x99\\x99\\x99\\x99\\x01@\\xcd\\xcc\\xcc\\xcc\\xcc\\xcc\\xec?'"
            ]
          },
          "metadata": {},
          "execution_count": 41
        }
      ]
    },
    {
      "cell_type": "code",
      "source": [
        "# applying deserialization\n",
        "vector = np.frombuffer(rows[0][1], dtype=np.float64)\n",
        "vector"
      ],
      "metadata": {
        "colab": {
          "base_uri": "https://localhost:8080/"
        },
        "id": "8i3F0slI1par",
        "outputId": "67b108cc-1e94-46cb-b41b-9e0e7d2214ba"
      },
      "execution_count": 44,
      "outputs": [
        {
          "output_type": "execute_result",
          "data": {
            "text/plain": [
              "array([1.4, 3.5, 2.2, 0.9])"
            ]
          },
          "metadata": {},
          "execution_count": 44
        }
      ]
    },
    {
      "cell_type": "code",
      "source": [
        "# retriving all the vectors\n",
        "vectors = []\n",
        "for row in rows:\n",
        "  vectors.append(np.frombuffer(row[1], dtype=np.float64))\n",
        "vectors"
      ],
      "metadata": {
        "colab": {
          "base_uri": "https://localhost:8080/"
        },
        "id": "Hw-hzoXH3qCZ",
        "outputId": "d53bbdb5-1e3c-4717-e948-55bd1ee01e88"
      },
      "execution_count": 46,
      "outputs": [
        {
          "output_type": "execute_result",
          "data": {
            "text/plain": [
              "[array([1.4, 3.5, 2.2, 0.9]), array([2.8, 1.6, 3.8, 2.2])]"
            ]
          },
          "metadata": {},
          "execution_count": 46
        }
      ]
    }
  ]
}