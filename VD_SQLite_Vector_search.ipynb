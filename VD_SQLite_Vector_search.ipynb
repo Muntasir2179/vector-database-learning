{
  "nbformat": 4,
  "nbformat_minor": 0,
  "metadata": {
    "colab": {
      "provenance": [],
      "authorship_tag": "ABX9TyNsy/eEwzV3DamicIjexQmU",
      "include_colab_link": true
    },
    "kernelspec": {
      "name": "python3",
      "display_name": "Python 3"
    },
    "language_info": {
      "name": "python"
    }
  },
  "cells": [
    {
      "cell_type": "markdown",
      "metadata": {
        "id": "view-in-github",
        "colab_type": "text"
      },
      "source": [
        "<a href=\"https://colab.research.google.com/github/Muntasir2179/vector-database-learning/blob/main/VD_SQLite_Vector_search.ipynb\" target=\"_parent\"><img src=\"https://colab.research.google.com/assets/colab-badge.svg\" alt=\"Open In Colab\"/></a>"
      ]
    },
    {
      "cell_type": "markdown",
      "source": [
        "# SQLite Database"
      ],
      "metadata": {
        "id": "t8jbrmUStDr2"
      }
    },
    {
      "cell_type": "code",
      "execution_count": 1,
      "metadata": {
        "id": "eplJD_hIoDRX"
      },
      "outputs": [],
      "source": [
        "import sqlite3"
      ]
    },
    {
      "cell_type": "code",
      "source": [
        "# create a connection to SQLite DB\n",
        "conn = sqlite3.connect(\"sample.db\")"
      ],
      "metadata": {
        "id": "HM6o2bvttJJ8"
      },
      "execution_count": 2,
      "outputs": []
    },
    {
      "cell_type": "code",
      "source": [
        "# Create a cursor\n",
        "'''\n",
        "The cursor objects is going to help us execute all the SQL commands\n",
        "'''\n",
        "cursor = conn.cursor()"
      ],
      "metadata": {
        "id": "VOy02SPGpZF3"
      },
      "execution_count": 3,
      "outputs": []
    },
    {
      "cell_type": "markdown",
      "source": [
        "## Now let's create a table\n",
        "\n",
        "Here we are going to create a table. It will be a `stocks` table. There will be two columns -\n",
        "\n",
        "* stock_code\n",
        "* stock_name"
      ],
      "metadata": {
        "id": "kec6_xQCp1wu"
      }
    },
    {
      "cell_type": "code",
      "source": [
        "cursor.execute(\"\"\"\n",
        "CREATE TABLE IF NOT EXISTS stocks(\n",
        "  stock_code INTEGER PROMARY KEY,\n",
        "  stock_name TEXT NOT NULL\n",
        ")\n",
        "\"\"\")"
      ],
      "metadata": {
        "colab": {
          "base_uri": "https://localhost:8080/"
        },
        "id": "LhYr9OlHp4tV",
        "outputId": "a7a84233-535a-44f3-923e-9dc6fa67995e"
      },
      "execution_count": 4,
      "outputs": [
        {
          "output_type": "execute_result",
          "data": {
            "text/plain": [
              "<sqlite3.Cursor at 0x7ca26bc10f40>"
            ]
          },
          "metadata": {},
          "execution_count": 4
        }
      ]
    },
    {
      "cell_type": "code",
      "source": [
        "# let's now insert some data\n",
        "cursor.execute(\"INSERT INTO stocks (stock_name) VALUES (?)\", ('TESLA',))\n",
        "cursor.execute(\"INSERT INTO stocks (stock_name) VALUES (?)\", ('Microsoft',))"
      ],
      "metadata": {
        "colab": {
          "base_uri": "https://localhost:8080/"
        },
        "id": "tHAo0WwTqyZm",
        "outputId": "d78abe8c-5575-4fa8-9456-e68948da48ec"
      },
      "execution_count": 10,
      "outputs": [
        {
          "output_type": "execute_result",
          "data": {
            "text/plain": [
              "<sqlite3.Cursor at 0x7ca26bc10f40>"
            ]
          },
          "metadata": {},
          "execution_count": 10
        }
      ]
    },
    {
      "cell_type": "code",
      "source": [
        "# select records\n",
        "cursor.execute(\"SELECT * FROM stocks\")"
      ],
      "metadata": {
        "colab": {
          "base_uri": "https://localhost:8080/"
        },
        "id": "12zLFfGNsD6m",
        "outputId": "b8b6041a-d520-4aa4-bd0b-16b292b0c344"
      },
      "execution_count": 12,
      "outputs": [
        {
          "output_type": "execute_result",
          "data": {
            "text/plain": [
              "<sqlite3.Cursor at 0x7ca26bc10f40>"
            ]
          },
          "metadata": {},
          "execution_count": 12
        }
      ]
    },
    {
      "cell_type": "code",
      "source": [
        "rows = cursor.fetchall()\n",
        "rows"
      ],
      "metadata": {
        "colab": {
          "base_uri": "https://localhost:8080/"
        },
        "id": "aJ54vK4ksRbO",
        "outputId": "8e5312fa-6eea-4080-b42f-14311533d8c7"
      },
      "execution_count": 13,
      "outputs": [
        {
          "output_type": "execute_result",
          "data": {
            "text/plain": [
              "[(None, 'TESLA'), (None, 'TESLA'), (None, 'Microsoft')]"
            ]
          },
          "metadata": {},
          "execution_count": 13
        }
      ]
    },
    {
      "cell_type": "code",
      "source": [
        "# save the changes\n",
        "conn.commit()"
      ],
      "metadata": {
        "id": "T-yvRB9esb_w"
      },
      "execution_count": 14,
      "outputs": []
    },
    {
      "cell_type": "code",
      "source": [
        "# it is a good practise to always close the database connection whenever we connect with some database\n",
        "conn.close()"
      ],
      "metadata": {
        "id": "VXX1dVTRsg3A"
      },
      "execution_count": 15,
      "outputs": []
    }
  ]
}