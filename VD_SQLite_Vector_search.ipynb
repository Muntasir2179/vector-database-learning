{
  "nbformat": 4,
  "nbformat_minor": 0,
  "metadata": {
    "colab": {
      "provenance": [],
      "authorship_tag": "ABX9TyPgn1Mv9wlBHjyrvDRCl/aG",
      "include_colab_link": true
    },
    "kernelspec": {
      "name": "python3",
      "display_name": "Python 3"
    },
    "language_info": {
      "name": "python"
    }
  },
  "cells": [
    {
      "cell_type": "markdown",
      "metadata": {
        "id": "view-in-github",
        "colab_type": "text"
      },
      "source": [
        "<a href=\"https://colab.research.google.com/github/Muntasir2179/vector-database-learning/blob/main/VD_SQLite_Vector_search.ipynb\" target=\"_parent\"><img src=\"https://colab.research.google.com/assets/colab-badge.svg\" alt=\"Open In Colab\"/></a>"
      ]
    },
    {
      "cell_type": "markdown",
      "source": [
        "# SQLite Database\n",
        "\n",
        "There are some open source vector database available in the internet. One of them is `Chromadb`.\n",
        "\n",
        "https://docs.trychroma.com/"
      ],
      "metadata": {
        "id": "t8jbrmUStDr2"
      }
    },
    {
      "cell_type": "code",
      "execution_count": 1,
      "metadata": {
        "id": "eplJD_hIoDRX"
      },
      "outputs": [],
      "source": [
        "import sqlite3"
      ]
    },
    {
      "cell_type": "code",
      "source": [
        "# create a connection to SQLite DB\n",
        "conn = sqlite3.connect(\"sample.db\")"
      ],
      "metadata": {
        "id": "HM6o2bvttJJ8"
      },
      "execution_count": 2,
      "outputs": []
    },
    {
      "cell_type": "code",
      "source": [
        "# Create a cursor\n",
        "'''\n",
        "The cursor objects is going to help us execute all the SQL commands\n",
        "'''\n",
        "cursor = conn.cursor()"
      ],
      "metadata": {
        "id": "VOy02SPGpZF3"
      },
      "execution_count": 3,
      "outputs": []
    },
    {
      "cell_type": "markdown",
      "source": [
        "## Now let's create a table\n",
        "\n",
        "Here we are going to create a table. It will be a `stocks` table. There will be two columns -\n",
        "\n",
        "* stock_code\n",
        "* stock_name"
      ],
      "metadata": {
        "id": "kec6_xQCp1wu"
      }
    },
    {
      "cell_type": "code",
      "source": [
        "cursor.execute(\"\"\"\n",
        "CREATE TABLE IF NOT EXISTS stocks(\n",
        "  stock_code INTEGER PROMARY KEY,\n",
        "  stock_name TEXT NOT NULL\n",
        ")\n",
        "\"\"\")"
      ],
      "metadata": {
        "colab": {
          "base_uri": "https://localhost:8080/"
        },
        "id": "LhYr9OlHp4tV",
        "outputId": "24c4acc5-ef37-4afa-a85d-30af374da51a"
      },
      "execution_count": 4,
      "outputs": [
        {
          "output_type": "execute_result",
          "data": {
            "text/plain": [
              "<sqlite3.Cursor at 0x7b66d351d3c0>"
            ]
          },
          "metadata": {},
          "execution_count": 4
        }
      ]
    },
    {
      "cell_type": "code",
      "source": [
        "# let's now insert some data\n",
        "cursor.execute(\"INSERT INTO stocks (stock_name) VALUES (?)\", ('TESLA',))\n",
        "cursor.execute(\"INSERT INTO stocks (stock_name) VALUES (?)\", ('Microsoft',))"
      ],
      "metadata": {
        "colab": {
          "base_uri": "https://localhost:8080/"
        },
        "id": "tHAo0WwTqyZm",
        "outputId": "a8f926c5-c6aa-4a01-dab3-b75ef7aab989"
      },
      "execution_count": 5,
      "outputs": [
        {
          "output_type": "execute_result",
          "data": {
            "text/plain": [
              "<sqlite3.Cursor at 0x7b66d351d3c0>"
            ]
          },
          "metadata": {},
          "execution_count": 5
        }
      ]
    },
    {
      "cell_type": "code",
      "source": [
        "# select records\n",
        "cursor.execute(\"SELECT * FROM stocks\")"
      ],
      "metadata": {
        "colab": {
          "base_uri": "https://localhost:8080/"
        },
        "id": "12zLFfGNsD6m",
        "outputId": "d088f334-6359-4b73-d85d-b047c3f3c04f"
      },
      "execution_count": 6,
      "outputs": [
        {
          "output_type": "execute_result",
          "data": {
            "text/plain": [
              "<sqlite3.Cursor at 0x7b66d351d3c0>"
            ]
          },
          "metadata": {},
          "execution_count": 6
        }
      ]
    },
    {
      "cell_type": "code",
      "source": [
        "rows = cursor.fetchall()\n",
        "rows"
      ],
      "metadata": {
        "colab": {
          "base_uri": "https://localhost:8080/"
        },
        "id": "aJ54vK4ksRbO",
        "outputId": "c8a05aac-c000-43ce-af88-85b47017a99e"
      },
      "execution_count": 7,
      "outputs": [
        {
          "output_type": "execute_result",
          "data": {
            "text/plain": [
              "[(None, 'TESLA'), (None, 'Microsoft')]"
            ]
          },
          "metadata": {},
          "execution_count": 7
        }
      ]
    },
    {
      "cell_type": "code",
      "source": [
        "# save the changes\n",
        "conn.commit()"
      ],
      "metadata": {
        "id": "T-yvRB9esb_w"
      },
      "execution_count": 8,
      "outputs": []
    },
    {
      "cell_type": "code",
      "source": [
        "# it is a good practise to always close the database connection whenever we connect with some database\n",
        "conn.close()"
      ],
      "metadata": {
        "id": "VXX1dVTRsg3A"
      },
      "execution_count": 9,
      "outputs": []
    },
    {
      "cell_type": "markdown",
      "source": [
        "## Using SQLite as a vector storage\n",
        "\n",
        "What is a vector?\n",
        "> The vectors in machine learning signify input data, including bias and weight. In the same way, output from a machine-learning model (for example, a predicted class), can be put into vector format.\n",
        "\n",
        "```python\n",
        "# array of numbers -> numpy arrays\n",
        "vector = [1.2, 2.5, 3.7, 7.5, 5.9]\n",
        "```\n",
        "\n",
        "🧮 NOTE: The information, in orther words the vectors must be stored in a bytes format."
      ],
      "metadata": {
        "id": "YS6QuoqRulXf"
      }
    },
    {
      "cell_type": "code",
      "source": [
        "import numpy as np\n",
        "\n",
        "# creating a new connection to store vectors\n",
        "conn = sqlite3.connect(\"sample_vectors.db\")\n",
        "\n",
        "# creting cursor to execute SQL commands\n",
        "cursor = conn.cursor()"
      ],
      "metadata": {
        "id": "csDKxx17u8k_"
      },
      "execution_count": 10,
      "outputs": []
    },
    {
      "cell_type": "code",
      "source": [
        "cursor.execute(\"\"\"\n",
        "CREATE TABLE IF NOT EXISTS vectors (\n",
        "  vector_id INTEGER PRIMARY KEY,\n",
        "  vector BLOB NOT NULL\n",
        ")\n",
        "\"\"\")"
      ],
      "metadata": {
        "colab": {
          "base_uri": "https://localhost:8080/"
        },
        "id": "DOkVOJLSwF7h",
        "outputId": "2ef7d02c-e79c-4848-fcdd-4e9b49365a69"
      },
      "execution_count": 11,
      "outputs": [
        {
          "output_type": "execute_result",
          "data": {
            "text/plain": [
              "<sqlite3.Cursor at 0x7b66d351ce40>"
            ]
          },
          "metadata": {},
          "execution_count": 11
        }
      ]
    },
    {
      "cell_type": "code",
      "source": [
        "# creating some vectors as numpy array\n",
        "vector_tesla = np.array([1.4, 3.5, 2.2, 0.9])\n",
        "vector_microsoft = np.array([2.8, 1.6, 3.8, 2.2])"
      ],
      "metadata": {
        "id": "m6b7ym6awoyL"
      },
      "execution_count": 12,
      "outputs": []
    },
    {
      "cell_type": "code",
      "source": [
        "# we have to convert our vector into bytes format before inderting into the database\n",
        "vector_tesla.tobytes()"
      ],
      "metadata": {
        "colab": {
          "base_uri": "https://localhost:8080/"
        },
        "id": "g4mAzB67xrPm",
        "outputId": "e1b07014-9aba-46d0-a367-1fceb71bb6b4"
      },
      "execution_count": 13,
      "outputs": [
        {
          "output_type": "execute_result",
          "data": {
            "text/plain": [
              "b'ffffff\\xf6?\\x00\\x00\\x00\\x00\\x00\\x00\\x0c@\\x9a\\x99\\x99\\x99\\x99\\x99\\x01@\\xcd\\xcc\\xcc\\xcc\\xcc\\xcc\\xec?'"
            ]
          },
          "metadata": {},
          "execution_count": 13
        }
      ]
    },
    {
      "cell_type": "code",
      "source": [
        "# we have to specify sqlite3 that it is stored in Binary format\n",
        "cursor.execute(\"INSERT INTO vectors (vector) VALUES (?)\", (sqlite3.Binary(vector_tesla.tobytes()),))"
      ],
      "metadata": {
        "colab": {
          "base_uri": "https://localhost:8080/"
        },
        "id": "G6OXokZ2xMsm",
        "outputId": "6c04614b-f02b-4bf4-d6b6-bd56f7104c33"
      },
      "execution_count": 14,
      "outputs": [
        {
          "output_type": "execute_result",
          "data": {
            "text/plain": [
              "<sqlite3.Cursor at 0x7b66d351ce40>"
            ]
          },
          "metadata": {},
          "execution_count": 14
        }
      ]
    },
    {
      "cell_type": "code",
      "source": [
        "cursor.execute(\"INSERT INTO vectors (vector) VALUES (?)\", (sqlite3.Binary(vector_microsoft.tobytes()),))"
      ],
      "metadata": {
        "colab": {
          "base_uri": "https://localhost:8080/"
        },
        "id": "k4hIOkO81TvI",
        "outputId": "f0c44210-392b-4244-9030-e59414ff28d8"
      },
      "execution_count": 15,
      "outputs": [
        {
          "output_type": "execute_result",
          "data": {
            "text/plain": [
              "<sqlite3.Cursor at 0x7b66d351ce40>"
            ]
          },
          "metadata": {},
          "execution_count": 15
        }
      ]
    },
    {
      "cell_type": "code",
      "source": [
        "cursor.execute(\"SELECT * FROM vectors\")\n",
        "rows = cursor.fetchall()\n",
        "rows"
      ],
      "metadata": {
        "colab": {
          "base_uri": "https://localhost:8080/"
        },
        "id": "GFKl2qWS1XtX",
        "outputId": "2ef3d91e-b8f9-410b-f54c-4ba1cd2d56ca"
      },
      "execution_count": 16,
      "outputs": [
        {
          "output_type": "execute_result",
          "data": {
            "text/plain": [
              "[(1,\n",
              "  b'ffffff\\xf6?\\x00\\x00\\x00\\x00\\x00\\x00\\x0c@\\x9a\\x99\\x99\\x99\\x99\\x99\\x01@\\xcd\\xcc\\xcc\\xcc\\xcc\\xcc\\xec?'),\n",
              " (2,\n",
              "  b'ffffff\\x06@\\x9a\\x99\\x99\\x99\\x99\\x99\\xf9?ffffff\\x0e@\\x9a\\x99\\x99\\x99\\x99\\x99\\x01@')]"
            ]
          },
          "metadata": {},
          "execution_count": 16
        }
      ]
    },
    {
      "cell_type": "markdown",
      "source": [
        "## Retriving vecotr from the database\n",
        "\n",
        "Now we can see that the data has been converted into bytes and stored in the database. But, when we will try to retrive the data, we will not going to get the data in the format that we have inserted. We have to do some transformation to get the data/vector in actual format.\n",
        "\n",
        "The process is called `Deserialization`."
      ],
      "metadata": {
        "id": "kqtpLaAY2XlI"
      }
    },
    {
      "cell_type": "code",
      "source": [
        "rows[0][1]"
      ],
      "metadata": {
        "colab": {
          "base_uri": "https://localhost:8080/"
        },
        "id": "QEwH_YpZ3PPw",
        "outputId": "57706b87-dc77-4788-e0a9-b876e6f1d38b"
      },
      "execution_count": 17,
      "outputs": [
        {
          "output_type": "execute_result",
          "data": {
            "text/plain": [
              "b'ffffff\\xf6?\\x00\\x00\\x00\\x00\\x00\\x00\\x0c@\\x9a\\x99\\x99\\x99\\x99\\x99\\x01@\\xcd\\xcc\\xcc\\xcc\\xcc\\xcc\\xec?'"
            ]
          },
          "metadata": {},
          "execution_count": 17
        }
      ]
    },
    {
      "cell_type": "code",
      "source": [
        "# applying deserialization\n",
        "vector = np.frombuffer(rows[0][1], dtype=np.float64)\n",
        "vector"
      ],
      "metadata": {
        "colab": {
          "base_uri": "https://localhost:8080/"
        },
        "id": "8i3F0slI1par",
        "outputId": "6bc854df-d611-49bb-ae65-4da25d0a2c14"
      },
      "execution_count": 18,
      "outputs": [
        {
          "output_type": "execute_result",
          "data": {
            "text/plain": [
              "array([1.4, 3.5, 2.2, 0.9])"
            ]
          },
          "metadata": {},
          "execution_count": 18
        }
      ]
    },
    {
      "cell_type": "code",
      "source": [
        "# retriving all the vectors\n",
        "vectors = []\n",
        "for row in rows:\n",
        "  vectors.append(np.frombuffer(row[1], dtype=np.float64))\n",
        "vectors"
      ],
      "metadata": {
        "colab": {
          "base_uri": "https://localhost:8080/"
        },
        "id": "Hw-hzoXH3qCZ",
        "outputId": "622a9ffd-b151-4ec4-9544-2756b6dac62b"
      },
      "execution_count": 19,
      "outputs": [
        {
          "output_type": "execute_result",
          "data": {
            "text/plain": [
              "[array([1.4, 3.5, 2.2, 0.9]), array([2.8, 1.6, 3.8, 2.2])]"
            ]
          },
          "metadata": {},
          "execution_count": 19
        }
      ]
    },
    {
      "cell_type": "markdown",
      "source": [
        "## Finding the nearest vector"
      ],
      "metadata": {
        "id": "PkumNJJ5wZfK"
      }
    },
    {
      "cell_type": "code",
      "source": [
        "q_vector = np.array([2.5, 1.2, 3.5, 5.5])\n",
        "\n",
        "cursor.execute(\"\"\"\n",
        "SELECT vector FROM vectors ORDER BY abs(vector - ?) ASC\n",
        "\"\"\", (sqlite3.Binary(q_vector.tobytes()),))"
      ],
      "metadata": {
        "colab": {
          "base_uri": "https://localhost:8080/"
        },
        "id": "ZdV438nrwduZ",
        "outputId": "82e4998d-7e48-4b20-f157-f2aafcadb5d2"
      },
      "execution_count": 20,
      "outputs": [
        {
          "output_type": "execute_result",
          "data": {
            "text/plain": [
              "<sqlite3.Cursor at 0x7b66d351ce40>"
            ]
          },
          "metadata": {},
          "execution_count": 20
        }
      ]
    },
    {
      "cell_type": "code",
      "source": [
        "res = cursor.fetchone()\n",
        "np.frombuffer(res[0], dtype=np.float64)"
      ],
      "metadata": {
        "colab": {
          "base_uri": "https://localhost:8080/"
        },
        "id": "-QDSDyn0xBxQ",
        "outputId": "618ffe82-4926-492a-ff65-07f6f19af408"
      },
      "execution_count": 21,
      "outputs": [
        {
          "output_type": "execute_result",
          "data": {
            "text/plain": [
              "array([1.4, 3.5, 2.2, 0.9])"
            ]
          },
          "metadata": {},
          "execution_count": 21
        }
      ]
    }
  ]
}