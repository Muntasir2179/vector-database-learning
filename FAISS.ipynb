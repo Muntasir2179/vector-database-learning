{
  "nbformat": 4,
  "nbformat_minor": 0,
  "metadata": {
    "colab": {
      "provenance": [],
      "toc_visible": true,
      "gpuType": "T4",
      "authorship_tag": "ABX9TyOvWVn+GvfLZuQsMDZ2vj/E",
      "include_colab_link": true
    },
    "kernelspec": {
      "name": "python3",
      "display_name": "Python 3"
    },
    "language_info": {
      "name": "python"
    },
    "accelerator": "GPU"
  },
  "cells": [
    {
      "cell_type": "markdown",
      "metadata": {
        "id": "view-in-github",
        "colab_type": "text"
      },
      "source": [
        "<a href=\"https://colab.research.google.com/github/Muntasir2179/vector-database-learning/blob/main/FAISS.ipynb\" target=\"_parent\"><img src=\"https://colab.research.google.com/assets/colab-badge.svg\" alt=\"Open In Colab\"/></a>"
      ]
    },
    {
      "cell_type": "markdown",
      "source": [
        "# FAISS\n",
        "\n",
        "* An AI library developed by Facebook.\n",
        "* A library for efficiant similarity search.\n",
        "* It has lot's of indexes to compute the approximate nearest neighborus vectors.\n",
        "* They used Euclidean distance (L2) as a distance calculator.\n",
        "\n",
        "https://engineering.fb.com/2017/03/29/data-infrastructure/faiss-a-library-for-efficient-similarity-search/\n",
        "\n",
        "https://github.com/facebookresearch/faiss/wiki\n",
        "\n",
        "https://github.com/facebookresearch/faiss/wiki/Faiss-indexes\n"
      ],
      "metadata": {
        "id": "NZug9OiMIjb_"
      }
    },
    {
      "cell_type": "code",
      "execution_count": 1,
      "metadata": {
        "colab": {
          "base_uri": "https://localhost:8080/"
        },
        "id": "mA_OUg2cIf6q",
        "outputId": "da199360-805c-46f9-fef8-7a5fe31ed621"
      },
      "outputs": [
        {
          "output_type": "stream",
          "name": "stdout",
          "text": [
            "Collecting faiss-cpu\n",
            "  Downloading faiss_cpu-1.7.4-cp310-cp310-manylinux_2_17_x86_64.manylinux2014_x86_64.whl (17.6 MB)\n",
            "\u001b[2K     \u001b[90m━━━━━━━━━━━━━━━━━━━━━━━━━━━━━━━━━━━━━━━━\u001b[0m \u001b[32m17.6/17.6 MB\u001b[0m \u001b[31m48.5 MB/s\u001b[0m eta \u001b[36m0:00:00\u001b[0m\n",
            "\u001b[?25hInstalling collected packages: faiss-cpu\n",
            "Successfully installed faiss-cpu-1.7.4\n"
          ]
        }
      ],
      "source": [
        "!pip install faiss-cpu"
      ]
    },
    {
      "cell_type": "code",
      "source": [
        "# Efficient, High dimentional indexing, GPU Accelaration, Versatility - Flat, IVF, PQ\n",
        "import faiss\n",
        "import numpy as np"
      ],
      "metadata": {
        "id": "-WQfHOl2JvOY"
      },
      "execution_count": 2,
      "outputs": []
    },
    {
      "cell_type": "code",
      "source": [
        "# generate some random vectors for demonstration\n",
        "dimension = 64\n",
        "num_vectors = 1000\n",
        "\n",
        "query_vector = np.random.random((1, dimension)).astype('float32')\n",
        "data_vectors = np.random.random((num_vectors, dimension)).astype('float32')"
      ],
      "metadata": {
        "id": "-8omziuqKZnA"
      },
      "execution_count": 7,
      "outputs": []
    },
    {
      "cell_type": "code",
      "source": [
        "query_vector"
      ],
      "metadata": {
        "colab": {
          "base_uri": "https://localhost:8080/"
        },
        "id": "aZWoEoB3K3qr",
        "outputId": "02362265-2ed7-4706-eb06-36118c24544c"
      },
      "execution_count": 8,
      "outputs": [
        {
          "output_type": "execute_result",
          "data": {
            "text/plain": [
              "array([[0.9932728 , 0.33787355, 0.33527374, 0.39188364, 0.5995351 ,\n",
              "        0.28439292, 0.31221855, 0.7154759 , 0.25144863, 0.09005238,\n",
              "        0.4547749 , 0.59130615, 0.17342636, 0.3503499 , 0.23633611,\n",
              "        0.7707198 , 0.72179   , 0.19349201, 0.59803814, 0.21339674,\n",
              "        0.01577327, 0.29388714, 0.94400555, 0.03979702, 0.01720465,\n",
              "        0.93168986, 0.8199632 , 0.5674565 , 0.30094662, 0.09998444,\n",
              "        0.8607662 , 0.4509885 , 0.5405522 , 0.4346473 , 0.5113422 ,\n",
              "        0.9282156 , 0.22377856, 0.4692353 , 0.50481117, 0.78731906,\n",
              "        0.91413915, 0.90727466, 0.5191103 , 0.2164343 , 0.5680139 ,\n",
              "        0.47461796, 0.8368694 , 0.35883552, 0.7108311 , 0.27201176,\n",
              "        0.4496254 , 0.25079197, 0.6736545 , 0.7261447 , 0.3398566 ,\n",
              "        0.73620725, 0.02766731, 0.50112754, 0.35258806, 0.7725332 ,\n",
              "        0.89405215, 0.03154451, 0.03621171, 0.54656637]], dtype=float32)"
            ]
          },
          "metadata": {},
          "execution_count": 8
        }
      ]
    },
    {
      "cell_type": "code",
      "source": [
        "len(query_vector)"
      ],
      "metadata": {
        "colab": {
          "base_uri": "https://localhost:8080/"
        },
        "id": "u2lnzMJsK7WQ",
        "outputId": "3b8765e2-7630-4f2f-d103-b45bd12738c5"
      },
      "execution_count": 9,
      "outputs": [
        {
          "output_type": "execute_result",
          "data": {
            "text/plain": [
              "1"
            ]
          },
          "metadata": {},
          "execution_count": 9
        }
      ]
    },
    {
      "cell_type": "code",
      "source": [
        "data_vectors"
      ],
      "metadata": {
        "colab": {
          "base_uri": "https://localhost:8080/"
        },
        "id": "MJhODEiQLD6G",
        "outputId": "ac286f86-1df7-4e3e-b335-3155e1ea642d"
      },
      "execution_count": 10,
      "outputs": [
        {
          "output_type": "execute_result",
          "data": {
            "text/plain": [
              "array([[0.6334693 , 0.6409039 , 0.6956127 , ..., 0.32730928, 0.8262217 ,\n",
              "        0.33912712],\n",
              "       [0.05353097, 0.92386365, 0.65792835, ..., 0.7270941 , 0.04579284,\n",
              "        0.26877815],\n",
              "       [0.715858  , 0.5029775 , 0.9510248 , ..., 0.3194666 , 0.01511947,\n",
              "        0.6320814 ],\n",
              "       ...,\n",
              "       [0.18523325, 0.84113055, 0.952441  , ..., 0.76215374, 0.20170404,\n",
              "        0.3505453 ],\n",
              "       [0.4456768 , 0.82598585, 0.14953357, ..., 0.70368105, 0.7090703 ,\n",
              "        0.46619004],\n",
              "       [0.6111498 , 0.2561166 , 0.4904543 , ..., 0.14536957, 0.75645936,\n",
              "        0.01847457]], dtype=float32)"
            ]
          },
          "metadata": {},
          "execution_count": 10
        }
      ]
    },
    {
      "cell_type": "code",
      "source": [
        "len(data_vectors)"
      ],
      "metadata": {
        "colab": {
          "base_uri": "https://localhost:8080/"
        },
        "id": "jAnd_HJELNYQ",
        "outputId": "c371c3d6-6dbe-4252-eadb-c69587286b36"
      },
      "execution_count": 11,
      "outputs": [
        {
          "output_type": "execute_result",
          "data": {
            "text/plain": [
              "1000"
            ]
          },
          "metadata": {},
          "execution_count": 11
        }
      ]
    },
    {
      "cell_type": "code",
      "source": [
        "# create a simple 'flat' index\n",
        "# index: data structure to help us perform efficiently similarity search\n",
        "index = faiss.IndexFlatL2(dimension)\n",
        "index"
      ],
      "metadata": {
        "colab": {
          "base_uri": "https://localhost:8080/"
        },
        "id": "TonwI4NGLQ6k",
        "outputId": "c425b457-07c1-474e-cf0a-5e4193e85689"
      },
      "execution_count": 12,
      "outputs": [
        {
          "output_type": "execute_result",
          "data": {
            "text/plain": [
              "<faiss.swigfaiss_avx2.IndexFlatL2; proxy of <Swig Object of type 'faiss::IndexFlatL2 *' at 0x7b1e71560780> >"
            ]
          },
          "metadata": {},
          "execution_count": 12
        }
      ]
    },
    {
      "cell_type": "code",
      "source": [
        "# index > vecotrs\n",
        "# add data vectors to index\n",
        "index.add(data_vectors)"
      ],
      "metadata": {
        "id": "NWg8zhPTLuKf"
      },
      "execution_count": 13,
      "outputs": []
    },
    {
      "cell_type": "code",
      "source": [
        "# perform a vector search\n",
        "k = 5  # number of nearest neighbours to retrieve\n",
        "distance, indices = index.search(query_vector, k)"
      ],
      "metadata": {
        "id": "seFCoHBQL8zg"
      },
      "execution_count": 15,
      "outputs": []
    },
    {
      "cell_type": "code",
      "source": [
        "# print some results\n",
        "print(\"Query Vector:\\n\", query_vector)\n",
        "print(\"\\nNearest Neighbors:\")\n",
        "for i in range(k):\n",
        "  print(f\"Index: {indices[0][i]}, Distance: {distance[0][i]}\")"
      ],
      "metadata": {
        "colab": {
          "base_uri": "https://localhost:8080/"
        },
        "id": "Qc1LHHCwMV5y",
        "outputId": "914e9b56-4d97-43f2-b12e-ed779082ccd1"
      },
      "execution_count": 16,
      "outputs": [
        {
          "output_type": "stream",
          "name": "stdout",
          "text": [
            "Query Vector:\n",
            " [[0.9932728  0.33787355 0.33527374 0.39188364 0.5995351  0.28439292\n",
            "  0.31221855 0.7154759  0.25144863 0.09005238 0.4547749  0.59130615\n",
            "  0.17342636 0.3503499  0.23633611 0.7707198  0.72179    0.19349201\n",
            "  0.59803814 0.21339674 0.01577327 0.29388714 0.94400555 0.03979702\n",
            "  0.01720465 0.93168986 0.8199632  0.5674565  0.30094662 0.09998444\n",
            "  0.8607662  0.4509885  0.5405522  0.4346473  0.5113422  0.9282156\n",
            "  0.22377856 0.4692353  0.50481117 0.78731906 0.91413915 0.90727466\n",
            "  0.5191103  0.2164343  0.5680139  0.47461796 0.8368694  0.35883552\n",
            "  0.7108311  0.27201176 0.4496254  0.25079197 0.6736545  0.7261447\n",
            "  0.3398566  0.73620725 0.02766731 0.50112754 0.35258806 0.7725332\n",
            "  0.89405215 0.03154451 0.03621171 0.54656637]]\n",
            "\n",
            "Nearest Neighbors:\n",
            "Index: 353, Distance: 6.318154335021973\n",
            "Index: 454, Distance: 6.662356376647949\n",
            "Index: 461, Distance: 6.704074859619141\n",
            "Index: 61, Distance: 6.747608184814453\n",
            "Index: 521, Distance: 6.861794471740723\n"
          ]
        }
      ]
    },
    {
      "cell_type": "code",
      "source": [
        "q_vector = np.array([[10.0]*64], dtype='float32')\n",
        "q_vector"
      ],
      "metadata": {
        "colab": {
          "base_uri": "https://localhost:8080/"
        },
        "id": "VrJlAL2yNi0p",
        "outputId": "fe8ad4d0-f6ad-4092-fd32-81df3c6fba1b"
      },
      "execution_count": 17,
      "outputs": [
        {
          "output_type": "execute_result",
          "data": {
            "text/plain": [
              "array([[10., 10., 10., 10., 10., 10., 10., 10., 10., 10., 10., 10., 10.,\n",
              "        10., 10., 10., 10., 10., 10., 10., 10., 10., 10., 10., 10., 10.,\n",
              "        10., 10., 10., 10., 10., 10., 10., 10., 10., 10., 10., 10., 10.,\n",
              "        10., 10., 10., 10., 10., 10., 10., 10., 10., 10., 10., 10., 10.,\n",
              "        10., 10., 10., 10., 10., 10., 10., 10., 10., 10., 10., 10.]],\n",
              "      dtype=float32)"
            ]
          },
          "metadata": {},
          "execution_count": 17
        }
      ]
    },
    {
      "cell_type": "code",
      "source": [
        "dim = 64\n",
        "n_vectors = 1000\n",
        "data_vectors = np.random.normal(loc=10, scale=1, size=(n_vectors, dim)).astype('float32')"
      ],
      "metadata": {
        "id": "lPDuOhsmNtiR"
      },
      "execution_count": 18,
      "outputs": []
    },
    {
      "cell_type": "code",
      "source": [
        "data_vectors"
      ],
      "metadata": {
        "colab": {
          "base_uri": "https://localhost:8080/"
        },
        "id": "Pl89OncgOKnO",
        "outputId": "31721456-7320-4a15-9346-506d76b12ab9"
      },
      "execution_count": 19,
      "outputs": [
        {
          "output_type": "execute_result",
          "data": {
            "text/plain": [
              "array([[ 9.531637 ,  9.962012 , 10.860139 , ..., 10.398864 , 10.066621 ,\n",
              "        11.794895 ],\n",
              "       [ 8.520374 ,  9.344363 ,  9.206383 , ..., 10.760792 , 11.253601 ,\n",
              "         9.964624 ],\n",
              "       [12.092402 , 10.210333 ,  9.572696 , ...,  9.476865 ,  8.029657 ,\n",
              "        11.257387 ],\n",
              "       ...,\n",
              "       [ 9.516434 ,  9.4802265, 11.256768 , ...,  9.747739 , 10.38346  ,\n",
              "        12.083225 ],\n",
              "       [ 9.455781 ,  9.861315 ,  8.030725 , ...,  9.933279 , 12.311387 ,\n",
              "        11.716488 ],\n",
              "       [10.636586 , 11.185635 , 10.975823 , ...,  8.539745 , 11.396238 ,\n",
              "        10.771271 ]], dtype=float32)"
            ]
          },
          "metadata": {},
          "execution_count": 19
        }
      ]
    },
    {
      "cell_type": "code",
      "source": [
        "index = faiss.IndexFlatL2(dim)"
      ],
      "metadata": {
        "id": "RCJrWmg5ORpm"
      },
      "execution_count": 20,
      "outputs": []
    },
    {
      "cell_type": "code",
      "source": [
        "index.add(data_vectors)"
      ],
      "metadata": {
        "id": "7Oc6XDxbOYTT"
      },
      "execution_count": 21,
      "outputs": []
    },
    {
      "cell_type": "code",
      "source": [
        "k = 5\n",
        "distance, indices = index.search(q_vector, k)"
      ],
      "metadata": {
        "id": "0yb4Fd1PObCH"
      },
      "execution_count": 22,
      "outputs": []
    },
    {
      "cell_type": "code",
      "source": [
        "distance, indices"
      ],
      "metadata": {
        "colab": {
          "base_uri": "https://localhost:8080/"
        },
        "id": "WijUmceEPlUG",
        "outputId": "045d16e8-8bb0-484b-dcb7-bc2b7d743af4"
      },
      "execution_count": 25,
      "outputs": [
        {
          "output_type": "execute_result",
          "data": {
            "text/plain": [
              "(array([[34.110367, 36.836845, 37.05505 , 37.2392  , 38.14089 ]],\n",
              "       dtype=float32),\n",
              " array([[259, 804, 623, 607, 950]]))"
            ]
          },
          "metadata": {},
          "execution_count": 25
        }
      ]
    },
    {
      "cell_type": "code",
      "source": [
        "# print some results\n",
        "print(\"Query Vector:\\n\", q_vector)\n",
        "print(\"\\nNearest Neighbors:\")\n",
        "for i in range(k):\n",
        "  index_number = indices[0][i]\n",
        "  distance_value = distance[0][i]\n",
        "  actual_number = data_vectors[index_number]\n",
        "  print(f\"Index: {index_number}, Actual number: {actual_number}, Distance: {distance_value}\")"
      ],
      "metadata": {
        "colab": {
          "base_uri": "https://localhost:8080/"
        },
        "id": "M0jEYpiIOjwO",
        "outputId": "f8d3c3d2-0f5b-4480-fca2-51cb51bc388b"
      },
      "execution_count": 26,
      "outputs": [
        {
          "output_type": "stream",
          "name": "stdout",
          "text": [
            "Query Vector:\n",
            " [[10. 10. 10. 10. 10. 10. 10. 10. 10. 10. 10. 10. 10. 10. 10. 10. 10. 10.\n",
            "  10. 10. 10. 10. 10. 10. 10. 10. 10. 10. 10. 10. 10. 10. 10. 10. 10. 10.\n",
            "  10. 10. 10. 10. 10. 10. 10. 10. 10. 10. 10. 10. 10. 10. 10. 10. 10. 10.\n",
            "  10. 10. 10. 10. 10. 10. 10. 10. 10. 10.]]\n",
            "\n",
            "Nearest Neighbors:\n",
            "Index: 259, Actual number: [ 9.860562   9.967293   9.264588  11.488277  10.100862   9.557025\n",
            " 11.406849  10.126077   9.265676   9.865199  10.665492   9.877952\n",
            " 10.700755  10.887103  10.0175705 10.160958  10.267502  10.763585\n",
            "  9.029133  10.228721  10.113755  11.155575  10.384308   9.777743\n",
            " 10.366804  10.378546  10.190891  10.898963   8.5469475 10.171102\n",
            " 10.404936  10.501387  10.605814   8.530529  11.547781   9.827949\n",
            " 10.65582    9.446324   9.425369  10.021056   9.50651   10.529587\n",
            "  9.399088   9.283451   9.479576  10.85793    9.699737   9.900868\n",
            " 10.820981  10.116371  11.003421  10.439315  10.589415  10.387228\n",
            " 11.567235   8.838104  10.179745  10.380811  11.911008   9.628653\n",
            "  8.9770565  9.980939  10.458741  10.012164 ], Distance: 34.11036682128906\n",
            "Index: 804, Actual number: [10.666373  10.448446  11.071598  10.144692   9.906432  10.287614\n",
            " 10.043198   9.202754   9.351243  10.819937  10.160297   9.395454\n",
            "  9.076902  10.795304   9.392425  11.392388  10.416693  11.741263\n",
            "  9.909934  10.697177  10.462649   9.683907  11.403459  10.113103\n",
            " 10.457159  10.423145  10.548932   8.757166   8.789592  10.888013\n",
            " 12.003691   9.826981  10.649114   9.870546   9.286498  10.541244\n",
            "  9.947682   9.9810095  9.279496  10.364746  10.368718  10.483002\n",
            " 10.662044  10.715943   8.449603   8.667563  10.726492   9.748947\n",
            " 10.82149    9.654318   9.084227  11.317291   9.904309   9.389071\n",
            "  9.37699    9.141841   9.550846  10.658272   9.763418  10.231677\n",
            " 10.231495   9.951816   9.908326  10.904607 ], Distance: 36.83684539794922\n",
            "Index: 623, Actual number: [ 9.001318   9.925815   9.915096  10.039294   9.463031   9.460661\n",
            " 10.272271   9.334743  11.0983     9.866007  10.261397  10.479986\n",
            "  8.5060625  9.940797   9.659193   9.435887  10.188257  12.470944\n",
            " 10.201197  10.205938  10.81474    9.039425   9.642404   8.814422\n",
            "  9.370509   9.570681  10.56269    9.654398   9.59105    9.514154\n",
            " 10.511165   9.625748  10.079309   9.870456   9.501705   9.004274\n",
            "  9.708563  11.471832   9.768446   9.690692  10.694034  10.1355\n",
            "  9.977298   9.356082   9.28568   10.450663  10.566202   9.886469\n",
            " 10.75483    9.848547  10.660213  10.785847  10.744153   9.397662\n",
            " 11.215377  11.149452  10.628243   9.283366   8.28951    9.2842455\n",
            " 10.285902  10.066416   9.283707  11.912502 ], Distance: 37.055049896240234\n",
            "Index: 607, Actual number: [11.112991   9.710499  11.450425   9.804631  10.490576  10.115025\n",
            " 10.726719   8.77731    9.076672  11.037576   9.816383   9.318971\n",
            " 10.080148   9.5081215 11.117184  10.22093   10.733834   9.726743\n",
            " 10.806164  10.546606  10.865848  10.419293   9.591378  10.381668\n",
            "  8.22061   10.158241  10.204337   9.036689  10.625769  10.217898\n",
            " 10.232309  10.408291   9.642245  10.350296   8.378097   9.010994\n",
            " 10.2859     9.694206  10.008968   8.772394   9.648537   9.73155\n",
            " 10.697265   9.852704  10.51864    9.3273325  9.048038  10.258239\n",
            "  9.798325  10.364715   8.030011  11.028674  10.107819   9.509832\n",
            " 11.187522   8.901769   9.321954  10.260129   9.639156  10.540465\n",
            " 11.130487  10.930876  10.939021  10.092692 ], Distance: 37.239200592041016\n",
            "Index: 950, Actual number: [ 9.4033575 10.304052  10.040155  11.627856  10.693658   9.626994\n",
            "  9.740042   9.876221  10.537986  11.205692  10.39104   10.305461\n",
            " 11.470917   9.53106    9.376376  10.0370655  9.864783  11.351037\n",
            " 10.525425   9.390444  10.998706   8.54767    9.245167   9.636956\n",
            "  9.289024  10.065521  10.695469  10.352186   8.968942   9.762499\n",
            "  8.574979  11.085688   8.904239  10.264598   9.917025  10.318393\n",
            "  8.605312   9.731459  10.316186  10.347177  10.014526   9.179936\n",
            " 10.30829   10.009701  10.044791  11.238221  11.392188   9.461105\n",
            " 10.62885   10.377495  10.32355   10.16263   10.604229   9.650428\n",
            " 11.296372   9.040231  10.45451   10.446811  11.109002  11.649115\n",
            "  9.05827   10.407914  10.264135   9.333992 ], Distance: 38.14088821411133\n"
          ]
        }
      ]
    }
  ]
}