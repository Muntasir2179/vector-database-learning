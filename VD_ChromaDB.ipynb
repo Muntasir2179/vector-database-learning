{
  "nbformat": 4,
  "nbformat_minor": 0,
  "metadata": {
    "colab": {
      "provenance": [],
      "toc_visible": true,
      "gpuType": "T4",
      "authorship_tag": "ABX9TyOgDp+QHacfj/9KXPP4cOPj",
      "include_colab_link": true
    },
    "kernelspec": {
      "name": "python3",
      "display_name": "Python 3"
    },
    "language_info": {
      "name": "python"
    },
    "accelerator": "GPU"
  },
  "cells": [
    {
      "cell_type": "markdown",
      "metadata": {
        "id": "view-in-github",
        "colab_type": "text"
      },
      "source": [
        "<a href=\"https://colab.research.google.com/github/Muntasir2179/vector-database-learning/blob/main/VD_ChromaDB.ipynb\" target=\"_parent\"><img src=\"https://colab.research.google.com/assets/colab-badge.svg\" alt=\"Open In Colab\"/></a>"
      ]
    },
    {
      "cell_type": "markdown",
      "source": [
        "# Chroma DB\n",
        "\n",
        "[Chroma](https://docs.trychroma.com/) is an open source vector database. It also has built in capabilities for embedding as well.\n",
        "\n",
        "**Working principle:** As it is called a database it must have features to store data. The data here is the embedding. Embedding is the learnable number representation of any kind of data. When data (doc, images, audio, video etc.) is passes into the vector database, it converts the data into embedding by passing the data through some embedding generation model.\n",
        "\n",
        "> We can choose our own embedding model if we like. [HuggingFace](https://huggingface.co/models) hub is a good source where we will find embedding models that better suits for our problem.\n",
        "\n",
        "<br>\n",
        "\n",
        "<img src=\"https://docs.trychroma.com/img/hrm4.svg\" height=\"300\">"
      ],
      "metadata": {
        "id": "uM8JXk_gSg2G"
      }
    },
    {
      "cell_type": "code",
      "source": [
        "try:\n",
        "  !pip install python-multipart\n",
        "  !pip install kaleido\n",
        "  !pip install typing-extensions==4.5.0\n",
        "  print(\"\\n[INFO] Successfully installed all the packages.\")\n",
        "except:\n",
        "  print(\"\\n[INFO] Not able to install all the packages.\")"
      ],
      "metadata": {
        "colab": {
          "base_uri": "https://localhost:8080/"
        },
        "id": "dYoFksc4Yk8d",
        "outputId": "0e8c4c07-7566-4454-e2f9-b97e35e759c8"
      },
      "execution_count": 1,
      "outputs": [
        {
          "output_type": "stream",
          "name": "stdout",
          "text": [
            "Collecting python-multipart\n",
            "  Downloading python_multipart-0.0.6-py3-none-any.whl (45 kB)\n",
            "\u001b[2K     \u001b[90m━━━━━━━━━━━━━━━━━━━━━━━━━━━━━━━━━━━━━━━━\u001b[0m \u001b[32m45.7/45.7 kB\u001b[0m \u001b[31m794.0 kB/s\u001b[0m eta \u001b[36m0:00:00\u001b[0m\n",
            "\u001b[?25hInstalling collected packages: python-multipart\n",
            "\u001b[31mERROR: pip's dependency resolver does not currently take into account all the packages that are installed. This behaviour is the source of the following dependency conflicts.\n",
            "lida 0.0.10 requires fastapi, which is not installed.\n",
            "lida 0.0.10 requires kaleido, which is not installed.\n",
            "lida 0.0.10 requires uvicorn, which is not installed.\u001b[0m\u001b[31m\n",
            "\u001b[0mSuccessfully installed python-multipart-0.0.6\n",
            "Collecting kaleido\n",
            "  Downloading kaleido-0.2.1-py2.py3-none-manylinux1_x86_64.whl (79.9 MB)\n",
            "\u001b[2K     \u001b[90m━━━━━━━━━━━━━━━━━━━━━━━━━━━━━━━━━━━━━━━━\u001b[0m \u001b[32m79.9/79.9 MB\u001b[0m \u001b[31m8.8 MB/s\u001b[0m eta \u001b[36m0:00:00\u001b[0m\n",
            "\u001b[?25hInstalling collected packages: kaleido\n",
            "\u001b[31mERROR: pip's dependency resolver does not currently take into account all the packages that are installed. This behaviour is the source of the following dependency conflicts.\n",
            "lida 0.0.10 requires fastapi, which is not installed.\n",
            "lida 0.0.10 requires uvicorn, which is not installed.\u001b[0m\u001b[31m\n",
            "\u001b[0mSuccessfully installed kaleido-0.2.1\n",
            "Requirement already satisfied: typing-extensions==4.5.0 in /usr/local/lib/python3.10/dist-packages (4.5.0)\n",
            "\n",
            "[INFO] Successfully installed all the packages.\n"
          ]
        }
      ]
    },
    {
      "cell_type": "code",
      "execution_count": 2,
      "metadata": {
        "colab": {
          "base_uri": "https://localhost:8080/"
        },
        "id": "yrT8EJ66Sbo_",
        "outputId": "27d0fba1-68ac-4fd0-b628-836d95d807f4"
      },
      "outputs": [
        {
          "output_type": "stream",
          "name": "stdout",
          "text": [
            "\u001b[2K     \u001b[90m━━━━━━━━━━━━━━━━━━━━━━━━━━━━━━━━━━━━━━━━\u001b[0m \u001b[32m509.0/509.0 kB\u001b[0m \u001b[31m3.9 MB/s\u001b[0m eta \u001b[36m0:00:00\u001b[0m\n",
            "\u001b[2K     \u001b[90m━━━━━━━━━━━━━━━━━━━━━━━━━━━━━━━━━━━━━━━━\u001b[0m \u001b[32m2.4/2.4 MB\u001b[0m \u001b[31m27.4 MB/s\u001b[0m eta \u001b[36m0:00:00\u001b[0m\n",
            "\u001b[2K     \u001b[90m━━━━━━━━━━━━━━━━━━━━━━━━━━━━━━━━━━━━━━━━\u001b[0m \u001b[32m92.0/92.0 kB\u001b[0m \u001b[31m13.3 MB/s\u001b[0m eta \u001b[36m0:00:00\u001b[0m\n",
            "\u001b[2K     \u001b[90m━━━━━━━━━━━━━━━━━━━━━━━━━━━━━━━━━━━━━━━━\u001b[0m \u001b[32m60.3/60.3 kB\u001b[0m \u001b[31m9.1 MB/s\u001b[0m eta \u001b[36m0:00:00\u001b[0m\n",
            "\u001b[2K     \u001b[90m━━━━━━━━━━━━━━━━━━━━━━━━━━━━━━━━━━━━━━━━\u001b[0m \u001b[32m5.4/5.4 MB\u001b[0m \u001b[31m74.5 MB/s\u001b[0m eta \u001b[36m0:00:00\u001b[0m\n",
            "\u001b[2K     \u001b[90m━━━━━━━━━━━━━━━━━━━━━━━━━━━━━━━━━━━━━━━━\u001b[0m \u001b[32m6.4/6.4 MB\u001b[0m \u001b[31m59.4 MB/s\u001b[0m eta \u001b[36m0:00:00\u001b[0m\n",
            "\u001b[2K     \u001b[90m━━━━━━━━━━━━━━━━━━━━━━━━━━━━━━━━━━━━━━━━\u001b[0m \u001b[32m57.9/57.9 kB\u001b[0m \u001b[31m8.1 MB/s\u001b[0m eta \u001b[36m0:00:00\u001b[0m\n",
            "\u001b[2K     \u001b[90m━━━━━━━━━━━━━━━━━━━━━━━━━━━━━━━━━━━━━━━━\u001b[0m \u001b[32m105.6/105.6 kB\u001b[0m \u001b[31m12.5 MB/s\u001b[0m eta \u001b[36m0:00:00\u001b[0m\n",
            "\u001b[2K     \u001b[90m━━━━━━━━━━━━━━━━━━━━━━━━━━━━━━━━━━━━━━━━\u001b[0m \u001b[32m67.3/67.3 kB\u001b[0m \u001b[31m9.0 MB/s\u001b[0m eta \u001b[36m0:00:00\u001b[0m\n",
            "\u001b[?25h  Installing build dependencies ... \u001b[?25l\u001b[?25hdone\n",
            "  Getting requirements to build wheel ... \u001b[?25l\u001b[?25hdone\n",
            "  Preparing metadata (pyproject.toml) ... \u001b[?25l\u001b[?25hdone\n",
            "\u001b[2K     \u001b[90m━━━━━━━━━━━━━━━━━━━━━━━━━━━━━━━━━━━━━━━━\u001b[0m \u001b[32m698.9/698.9 kB\u001b[0m \u001b[31m60.0 MB/s\u001b[0m eta \u001b[36m0:00:00\u001b[0m\n",
            "\u001b[2K     \u001b[90m━━━━━━━━━━━━━━━━━━━━━━━━━━━━━━━━━━━━━━━━\u001b[0m \u001b[32m1.6/1.6 MB\u001b[0m \u001b[31m84.5 MB/s\u001b[0m eta \u001b[36m0:00:00\u001b[0m\n",
            "\u001b[2K     \u001b[90m━━━━━━━━━━━━━━━━━━━━━━━━━━━━━━━━━━━━━━━━\u001b[0m \u001b[32m72.6/72.6 kB\u001b[0m \u001b[31m10.4 MB/s\u001b[0m eta \u001b[36m0:00:00\u001b[0m\n",
            "\u001b[2K     \u001b[90m━━━━━━━━━━━━━━━━━━━━━━━━━━━━━━━━━━━━━━━━\u001b[0m \u001b[32m70.0/70.0 kB\u001b[0m \u001b[31m10.6 MB/s\u001b[0m eta \u001b[36m0:00:00\u001b[0m\n",
            "\u001b[2K     \u001b[90m━━━━━━━━━━━━━━━━━━━━━━━━━━━━━━━━━━━━━━━━\u001b[0m \u001b[32m143.8/143.8 kB\u001b[0m \u001b[31m20.2 MB/s\u001b[0m eta \u001b[36m0:00:00\u001b[0m\n",
            "\u001b[2K     \u001b[90m━━━━━━━━━━━━━━━━━━━━━━━━━━━━━━━━━━━━━━━━\u001b[0m \u001b[32m46.0/46.0 kB\u001b[0m \u001b[31m6.6 MB/s\u001b[0m eta \u001b[36m0:00:00\u001b[0m\n",
            "\u001b[2K     \u001b[90m━━━━━━━━━━━━━━━━━━━━━━━━━━━━━━━━━━━━━━━━\u001b[0m \u001b[32m50.8/50.8 kB\u001b[0m \u001b[31m323.3 kB/s\u001b[0m eta \u001b[36m0:00:00\u001b[0m\n",
            "\u001b[2K     \u001b[90m━━━━━━━━━━━━━━━━━━━━━━━━━━━━━━━━━━━━━━━━\u001b[0m \u001b[32m58.3/58.3 kB\u001b[0m \u001b[31m8.5 MB/s\u001b[0m eta \u001b[36m0:00:00\u001b[0m\n",
            "\u001b[2K     \u001b[90m━━━━━━━━━━━━━━━━━━━━━━━━━━━━━━━━━━━━━━━━\u001b[0m \u001b[32m341.4/341.4 kB\u001b[0m \u001b[31m44.1 MB/s\u001b[0m eta \u001b[36m0:00:00\u001b[0m\n",
            "\u001b[2K     \u001b[90m━━━━━━━━━━━━━━━━━━━━━━━━━━━━━━━━━━━━━━━━\u001b[0m \u001b[32m3.4/3.4 MB\u001b[0m \u001b[31m64.4 MB/s\u001b[0m eta \u001b[36m0:00:00\u001b[0m\n",
            "\u001b[2K     \u001b[90m━━━━━━━━━━━━━━━━━━━━━━━━━━━━━━━━━━━━━━━━\u001b[0m \u001b[32m1.3/1.3 MB\u001b[0m \u001b[31m82.0 MB/s\u001b[0m eta \u001b[36m0:00:00\u001b[0m\n",
            "\u001b[2K     \u001b[90m━━━━━━━━━━━━━━━━━━━━━━━━━━━━━━━━━━━━━━━━\u001b[0m \u001b[32m130.2/130.2 kB\u001b[0m \u001b[31m19.2 MB/s\u001b[0m eta \u001b[36m0:00:00\u001b[0m\n",
            "\u001b[2K     \u001b[90m━━━━━━━━━━━━━━━━━━━━━━━━━━━━━━━━━━━━━━━━\u001b[0m \u001b[32m86.8/86.8 kB\u001b[0m \u001b[31m12.5 MB/s\u001b[0m eta \u001b[36m0:00:00\u001b[0m\n",
            "\u001b[?25h  Building wheel for pypika (pyproject.toml) ... \u001b[?25l\u001b[?25hdone\n",
            "\u001b[31mERROR: pip's dependency resolver does not currently take into account all the packages that are installed. This behaviour is the source of the following dependency conflicts.\n",
            "tensorflow-probability 0.22.0 requires typing-extensions<4.6.0, but you have typing-extensions 4.9.0 which is incompatible.\u001b[0m\u001b[31m\n",
            "\u001b[0m"
          ]
        }
      ],
      "source": [
        "!pip install chromadb -q"
      ]
    },
    {
      "cell_type": "code",
      "source": [
        "!pip install sentence-transformers -q"
      ],
      "metadata": {
        "colab": {
          "base_uri": "https://localhost:8080/"
        },
        "id": "kKnJjbvNWSMz",
        "outputId": "ad9ca34b-4bb4-4b04-c7c4-60ed03ad402f"
      },
      "execution_count": 3,
      "outputs": [
        {
          "output_type": "stream",
          "name": "stdout",
          "text": [
            "\u001b[?25l     \u001b[90m━━━━━━━━━━━━━━━━━━━━━━━━━━━━━━━━━━━━━━━━\u001b[0m \u001b[32m0.0/86.0 kB\u001b[0m \u001b[31m?\u001b[0m eta \u001b[36m-:--:--\u001b[0m\r\u001b[2K     \u001b[91m━━━━━━━━━━━━━━\u001b[0m\u001b[90m╺\u001b[0m\u001b[90m━━━━━━━━━━━━━━━━━━━━━━━━━\u001b[0m \u001b[32m30.7/86.0 kB\u001b[0m \u001b[31m834.5 kB/s\u001b[0m eta \u001b[36m0:00:01\u001b[0m\r\u001b[2K     \u001b[91m━━━━━━━━━━━━━━━━━━━━━━━━━━━━\u001b[0m\u001b[91m╸\u001b[0m\u001b[90m━━━━━━━━━━━\u001b[0m \u001b[32m61.4/86.0 kB\u001b[0m \u001b[31m930.2 kB/s\u001b[0m eta \u001b[36m0:00:01\u001b[0m\r\u001b[2K     \u001b[90m━━━━━━━━━━━━━━━━━━━━━━━━━━━━━━━━━━━━━━━━\u001b[0m \u001b[32m86.0/86.0 kB\u001b[0m \u001b[31m1.1 MB/s\u001b[0m eta \u001b[36m0:00:00\u001b[0m\n",
            "\u001b[?25h  Preparing metadata (setup.py) ... \u001b[?25l\u001b[?25hdone\n",
            "\u001b[2K     \u001b[90m━━━━━━━━━━━━━━━━━━━━━━━━━━━━━━━━━━━━━━━━\u001b[0m \u001b[32m1.3/1.3 MB\u001b[0m \u001b[31m8.8 MB/s\u001b[0m eta \u001b[36m0:00:00\u001b[0m\n",
            "\u001b[?25h  Building wheel for sentence-transformers (setup.py) ... \u001b[?25l\u001b[?25hdone\n"
          ]
        }
      ]
    },
    {
      "cell_type": "markdown",
      "source": [
        "## What is Collection?\n",
        "\n",
        "> It is a database instance that can store informations. It can be called a table or vector database."
      ],
      "metadata": {
        "id": "O7_k2eBgbNko"
      }
    },
    {
      "cell_type": "code",
      "source": [
        "import chromadb\n",
        "client = chromadb.Client()"
      ],
      "metadata": {
        "id": "koU4fmKTbZuX"
      },
      "execution_count": 4,
      "outputs": []
    },
    {
      "cell_type": "code",
      "source": [
        "collection1 = client.create_collection(name=\"my_collection1\", get_or_create=True)\n",
        "print(collection1)"
      ],
      "metadata": {
        "colab": {
          "base_uri": "https://localhost:8080/"
        },
        "id": "_AbB_FNQbhJg",
        "outputId": "a33178de-b63d-4bb3-bcad-5b6c62d56490"
      },
      "execution_count": 5,
      "outputs": [
        {
          "output_type": "stream",
          "name": "stdout",
          "text": [
            "name='my_collection1' id=UUID('f8173d5c-093f-4aa1-b730-0f3230590e97') metadata=None tenant='default_tenant' database='default_database'\n"
          ]
        }
      ]
    },
    {
      "cell_type": "markdown",
      "source": [
        "## Adding some text documents to the collection"
      ],
      "metadata": {
        "id": "8nkfo-CKhraf"
      }
    },
    {
      "cell_type": "code",
      "source": [
        "collection1.add(\n",
        "    # documents that i want to add to the database\n",
        "    documents=[\"This is a document\", \"This is another document\"],\n",
        "    # metadata refers to the information about the documents that we have been passing\n",
        "    metadatas=[{\"source\": \"source1\", \"language\": \"en\"}, {\"source\": \"source2\", \"language\": \"bangla\"}],\n",
        "    # providing distinct ids to each documents\n",
        "    ids=[\"id1\", \"id2\"]\n",
        ")"
      ],
      "metadata": {
        "id": "3NxlAvyzfwK7",
        "colab": {
          "base_uri": "https://localhost:8080/"
        },
        "outputId": "15303138-a6e1-4419-a2c9-30b8e2ec3ed4"
      },
      "execution_count": 6,
      "outputs": [
        {
          "output_type": "stream",
          "name": "stderr",
          "text": [
            "/root/.cache/chroma/onnx_models/all-MiniLM-L6-v2/onnx.tar.gz: 100%|██████████| 79.3M/79.3M [00:02<00:00, 29.5MiB/s]\n"
          ]
        }
      ]
    },
    {
      "cell_type": "code",
      "source": [
        "# methods can be run on client\n",
        "client.list_collections()  # chcking how many collections I created so far"
      ],
      "metadata": {
        "colab": {
          "base_uri": "https://localhost:8080/"
        },
        "id": "PmyERk6Jh2uK",
        "outputId": "75a23d52-0633-479e-f1f1-28aa767da7da"
      },
      "execution_count": 7,
      "outputs": [
        {
          "output_type": "execute_result",
          "data": {
            "text/plain": [
              "[Collection(name=my_collection1)]"
            ]
          },
          "metadata": {},
          "execution_count": 7
        }
      ]
    },
    {
      "cell_type": "code",
      "source": [
        "collection2 = client.create_collection(name=\"my_collection2\",\n",
        "                                       get_or_create=True) # returns the collection if it is already created"
      ],
      "metadata": {
        "id": "T1LJsLOCimZ9"
      },
      "execution_count": 8,
      "outputs": []
    },
    {
      "cell_type": "code",
      "source": [
        "client.list_collections()"
      ],
      "metadata": {
        "colab": {
          "base_uri": "https://localhost:8080/"
        },
        "id": "c8AwNyCci9aW",
        "outputId": "0e325bdc-d579-4fff-fc89-ed9a4250840f"
      },
      "execution_count": 9,
      "outputs": [
        {
          "output_type": "execute_result",
          "data": {
            "text/plain": [
              "[Collection(name=my_collection2), Collection(name=my_collection1)]"
            ]
          },
          "metadata": {},
          "execution_count": 9
        }
      ]
    },
    {
      "cell_type": "code",
      "source": [
        "# get an existing collection\n",
        "collect = client.get_collection(\"my_collection1\")\n",
        "collect"
      ],
      "metadata": {
        "colab": {
          "base_uri": "https://localhost:8080/"
        },
        "id": "qlQXi4WriSA-",
        "outputId": "5101f4fc-413a-4462-9707-c68ff365d7ca"
      },
      "execution_count": 10,
      "outputs": [
        {
          "output_type": "execute_result",
          "data": {
            "text/plain": [
              "Collection(name=my_collection1)"
            ]
          },
          "metadata": {},
          "execution_count": 10
        }
      ]
    },
    {
      "cell_type": "code",
      "source": [
        "# get a collection or create if it doesn't exist\n",
        "collection3 = client.get_or_create_collection(\"my_collection3\")\n",
        "client.list_collections()"
      ],
      "metadata": {
        "colab": {
          "base_uri": "https://localhost:8080/"
        },
        "id": "ArU8Hs5ljohx",
        "outputId": "bf756e81-4ea2-4592-96d1-81845eed489b"
      },
      "execution_count": 11,
      "outputs": [
        {
          "output_type": "execute_result",
          "data": {
            "text/plain": [
              "[Collection(name=my_collection3),\n",
              " Collection(name=my_collection2),\n",
              " Collection(name=my_collection1)]"
            ]
          },
          "metadata": {},
          "execution_count": 11
        }
      ]
    },
    {
      "cell_type": "code",
      "source": [
        "# removing collection\n",
        "client.delete_collection(\"my_collection3\")\n",
        "client.list_collections()"
      ],
      "metadata": {
        "colab": {
          "base_uri": "https://localhost:8080/"
        },
        "id": "F4Vqu5K6jw8f",
        "outputId": "6d37898b-15d3-4cd6-e7c5-dc30e302861a"
      },
      "execution_count": 12,
      "outputs": [
        {
          "output_type": "execute_result",
          "data": {
            "text/plain": [
              "[Collection(name=my_collection2), Collection(name=my_collection1)]"
            ]
          },
          "metadata": {},
          "execution_count": 12
        }
      ]
    },
    {
      "cell_type": "code",
      "source": [
        "# heartbeat - check if the collections is still running on server or not\n",
        "# it will return a number which refers to the time stemp of the collection\n",
        "# the number changes each time we run the heartbeat() function\n",
        "client.heartbeat()"
      ],
      "metadata": {
        "colab": {
          "base_uri": "https://localhost:8080/"
        },
        "id": "JtlciW34kW82",
        "outputId": "fb7a0363-e78a-4be3-90b8-f434cc6a36bd"
      },
      "execution_count": 13,
      "outputs": [
        {
          "output_type": "execute_result",
          "data": {
            "text/plain": [
              "1704516373507141322"
            ]
          },
          "metadata": {},
          "execution_count": 13
        }
      ]
    },
    {
      "cell_type": "code",
      "source": [
        "# it immediately resets all the changes we have made to the database so far\n",
        "# changing the settings to allow reset operation on collections object\n",
        "client.get_settings().allow_reset = True\n",
        "\n",
        "# calling reset() function to undo all the changes we have made so far\n",
        "# it basically going to delete all the collections that we have created so far\n",
        "client.reset() # ⚠️ not recommanded\n",
        "client.list_collections()"
      ],
      "metadata": {
        "id": "YAyu5nYalOX9"
      },
      "execution_count": null,
      "outputs": []
    },
    {
      "cell_type": "markdown",
      "source": [
        "## Methods on Collectinos\n",
        "\n",
        "Vector DB -> Collections -> Documents/Items"
      ],
      "metadata": {
        "id": "4vaRgy-tF9d3"
      }
    },
    {
      "cell_type": "code",
      "source": [
        "# counting how many items in our collections\n",
        "collection1.count()"
      ],
      "metadata": {
        "colab": {
          "base_uri": "https://localhost:8080/"
        },
        "id": "_Il30fLGGCFe",
        "outputId": "0714991c-9a0a-4de9-bb6b-baf2450b79b0"
      },
      "execution_count": 14,
      "outputs": [
        {
          "output_type": "execute_result",
          "data": {
            "text/plain": [
              "2"
            ]
          },
          "metadata": {},
          "execution_count": 14
        }
      ]
    },
    {
      "cell_type": "code",
      "source": [
        "# get all the items from the collection\n",
        "collection1.get()"
      ],
      "metadata": {
        "colab": {
          "base_uri": "https://localhost:8080/"
        },
        "id": "DRU0Czy2GmE3",
        "outputId": "b4951230-4e00-4e90-f17c-79e5d02cb221"
      },
      "execution_count": 15,
      "outputs": [
        {
          "output_type": "execute_result",
          "data": {
            "text/plain": [
              "{'ids': ['id1', 'id2'],\n",
              " 'embeddings': None,\n",
              " 'metadatas': [{'language': 'en', 'source': 'source1'},\n",
              "  {'language': 'bangla', 'source': 'source2'}],\n",
              " 'documents': ['This is a document', 'This is another document'],\n",
              " 'uris': None,\n",
              " 'data': None}"
            ]
          },
          "metadata": {},
          "execution_count": 15
        }
      ]
    },
    {
      "cell_type": "code",
      "source": [
        "import numpy as np\n",
        "\n",
        "# creating some dummy embedding\n",
        "embedding_doc3 = np.random.rand(384).tolist()  # using the default embedding size of the vector database which is 384\n",
        "embedding_doc4 = np.random.rand(384).tolist()\n",
        "\n",
        "# adding new item to the collection\n",
        "collection1.add(\n",
        "    embeddings=[embedding_doc3, embedding_doc4],\n",
        "    documents=[\"This is document 3\", \"This is document 4\"],\n",
        "    metadatas=[{\"source\": \"source3\", \"language\": \"en\"}, {\"source\": \"source4\"}],\n",
        "    ids=[\"id3\", \"id4\"]\n",
        ")"
      ],
      "metadata": {
        "id": "rSpxybJpG9Lu"
      },
      "execution_count": 21,
      "outputs": []
    },
    {
      "cell_type": "code",
      "source": [
        "collection1.get()"
      ],
      "metadata": {
        "colab": {
          "base_uri": "https://localhost:8080/"
        },
        "id": "zQ41_cm1JI59",
        "outputId": "b0bde325-4b07-4a15-be6f-0c4740e5afa6"
      },
      "execution_count": 22,
      "outputs": [
        {
          "output_type": "execute_result",
          "data": {
            "text/plain": [
              "{'ids': ['id1', 'id2', 'id3', 'id4'],\n",
              " 'embeddings': None,\n",
              " 'metadatas': [{'language': 'en', 'source': 'source1'},\n",
              "  {'language': 'bangla', 'source': 'source2'},\n",
              "  {'language': 'en', 'source': 'source3'},\n",
              "  {'source': 'source4'}],\n",
              " 'documents': ['This is a document',\n",
              "  'This is another document',\n",
              "  'This is document 3',\n",
              "  'This is document 4'],\n",
              " 'uris': None,\n",
              " 'data': None}"
            ]
          },
          "metadata": {},
          "execution_count": 22
        }
      ]
    },
    {
      "cell_type": "code",
      "source": [
        "# overriding the existing data using collection.upsert() method\n",
        "collection1.upsert(\n",
        "    documents=[\"Doc3\", \"This is document 4\"],\n",
        "    metadatas=[{\"source\": \"source3\", \"language\": \"en\"}, {\"source\": \"source4\"}],\n",
        "    ids=[\"id3\", \"id4\"]\n",
        ")"
      ],
      "metadata": {
        "id": "9uD-R-d7J1Hv"
      },
      "execution_count": 25,
      "outputs": []
    },
    {
      "cell_type": "code",
      "source": [
        "collection1.get()"
      ],
      "metadata": {
        "colab": {
          "base_uri": "https://localhost:8080/"
        },
        "id": "PMbqIvvZKJFN",
        "outputId": "7c197761-93eb-46f3-a301-c4ce810f2a24"
      },
      "execution_count": 26,
      "outputs": [
        {
          "output_type": "execute_result",
          "data": {
            "text/plain": [
              "{'ids': ['id1', 'id2', 'id3', 'id4'],\n",
              " 'embeddings': None,\n",
              " 'metadatas': [{'language': 'en', 'source': 'source1'},\n",
              "  {'language': 'bangla', 'source': 'source2'},\n",
              "  {'language': 'en', 'source': 'source3'},\n",
              "  {'source': 'source4'}],\n",
              " 'documents': ['This is a document',\n",
              "  'This is another document',\n",
              "  'Doc3',\n",
              "  'This is document 4'],\n",
              " 'uris': None,\n",
              " 'data': None}"
            ]
          },
          "metadata": {},
          "execution_count": 26
        }
      ]
    },
    {
      "cell_type": "code",
      "source": [
        "# we can use the peek() function to get first 4 items from the database\n",
        "len(collection1.peek()[\"embeddings\"][2])"
      ],
      "metadata": {
        "colab": {
          "base_uri": "https://localhost:8080/"
        },
        "id": "iB704gF5Kgmn",
        "outputId": "784d0f50-4b35-4420-e3cb-07ab3e8f7adc"
      },
      "execution_count": 34,
      "outputs": [
        {
          "output_type": "execute_result",
          "data": {
            "text/plain": [
              "384"
            ]
          },
          "metadata": {},
          "execution_count": 34
        }
      ]
    },
    {
      "cell_type": "markdown",
      "source": [
        "## Now we will wrap up the whole thing with a broader demonstration"
      ],
      "metadata": {
        "id": "RNYvj-ZyOvfV"
      }
    },
    {
      "cell_type": "code",
      "source": [
        "movie_collection = client.create_collection(name=\"matrix_movie_collection\", get_or_create=True)\n",
        "print(movie_collection)"
      ],
      "metadata": {
        "colab": {
          "base_uri": "https://localhost:8080/"
        },
        "id": "1EtuzCQdO7rt",
        "outputId": "3918e54f-b475-4034-85d0-8277cb824b72"
      },
      "execution_count": 52,
      "outputs": [
        {
          "output_type": "stream",
          "name": "stdout",
          "text": [
            "name='matrix_movie_collection' id=UUID('6c0f6d42-1b0a-488c-b784-c5bcf5a43d07') metadata=None tenant='default_tenant' database='default_database'\n"
          ]
        }
      ]
    },
    {
      "cell_type": "code",
      "source": [
        "# if we want to rename the collection\n",
        "movie_collection.modify(name=\"movie_collection\")\n",
        "print(movie_collection)"
      ],
      "metadata": {
        "colab": {
          "base_uri": "https://localhost:8080/"
        },
        "id": "f8b0wS8DPU2e",
        "outputId": "1d6e6d99-3bc8-4b45-ffd2-71f27f98d95e"
      },
      "execution_count": 53,
      "outputs": [
        {
          "output_type": "stream",
          "name": "stdout",
          "text": [
            "name='movie_collection' id=UUID('6c0f6d42-1b0a-488c-b784-c5bcf5a43d07') metadata=None tenant='default_tenant' database='default_database'\n"
          ]
        }
      ]
    },
    {
      "cell_type": "code",
      "source": [
        "# checking the number of items in the collection\n",
        "movie_collection.count()"
      ],
      "metadata": {
        "colab": {
          "base_uri": "https://localhost:8080/"
        },
        "id": "2M_F_4gnQTLO",
        "outputId": "e8e96c7b-a17d-43e3-bb9d-c3d7cc82c864"
      },
      "execution_count": 54,
      "outputs": [
        {
          "output_type": "execute_result",
          "data": {
            "text/plain": [
              "0"
            ]
          },
          "metadata": {},
          "execution_count": 54
        }
      ]
    },
    {
      "cell_type": "markdown",
      "source": [
        "### Distance function in ChromaDB\n",
        "\n",
        "In ChromaDB distance function determines how the \"distance\" or \"difference\" between two items in the collection is calculated. This is crucial when performing operations like querying for similar items. The default function in ChromaDB is `\"l2\"`, which stands for `Euclidean Distance`. It's common measure of distance in a plane.\n",
        "\n",
        "https://docs.trychroma.com/usage-guide#changing-the-distance-function\n",
        "\n",
        "There are no way available to insert custom distance funciton: https://github.com/langchain-ai/langchain/issues/2595"
      ],
      "metadata": {
        "id": "WpdWQsT9QgOB"
      }
    },
    {
      "cell_type": "code",
      "source": [
        "movie_collection = client.get_or_create_collection(name=\"movie_collection\",\n",
        "                                                   metadata={\"hnsw:space\": \"cosine\"})\n",
        "print(movie_collection)"
      ],
      "metadata": {
        "colab": {
          "base_uri": "https://localhost:8080/"
        },
        "id": "k5IsSnM2RZFr",
        "outputId": "1131a992-ab36-4ae8-c1c1-1c866518efc5"
      },
      "execution_count": 55,
      "outputs": [
        {
          "output_type": "stream",
          "name": "stdout",
          "text": [
            "name='movie_collection' id=UUID('6c0f6d42-1b0a-488c-b784-c5bcf5a43d07') metadata={'hnsw:space': 'cosine'} tenant='default_tenant' database='default_database'\n"
          ]
        }
      ]
    },
    {
      "cell_type": "code",
      "source": [
        "client.list_collections()"
      ],
      "metadata": {
        "colab": {
          "base_uri": "https://localhost:8080/"
        },
        "id": "BftaKJZTSdjn",
        "outputId": "f687ae78-d098-4bb2-f98d-375a36e7f41e"
      },
      "execution_count": 56,
      "outputs": [
        {
          "output_type": "execute_result",
          "data": {
            "text/plain": [
              "[Collection(name=movie_collection),\n",
              " Collection(name=my_collection2),\n",
              " Collection(name=my_collection1)]"
            ]
          },
          "metadata": {},
          "execution_count": 56
        }
      ]
    },
    {
      "cell_type": "code",
      "source": [
        "# let's add some data to our collection\n",
        "movie_collection.add(\n",
        "    ids=[\"quote1\", \"quote2\"],\n",
        "    documents=[\n",
        "        \"There is no spoon.\",\n",
        "        \"I know kung fu.\"\n",
        "    ]\n",
        ")"
      ],
      "metadata": {
        "id": "5qDzi-nrW63t"
      },
      "execution_count": 57,
      "outputs": []
    },
    {
      "cell_type": "code",
      "source": [
        "movie_collection.count()"
      ],
      "metadata": {
        "colab": {
          "base_uri": "https://localhost:8080/"
        },
        "id": "nP4sYYn2cqrN",
        "outputId": "5f1def54-a85d-4ad1-9c1f-3326b1e46093"
      },
      "execution_count": 58,
      "outputs": [
        {
          "output_type": "execute_result",
          "data": {
            "text/plain": [
              "2"
            ]
          },
          "metadata": {},
          "execution_count": 58
        }
      ]
    },
    {
      "cell_type": "code",
      "source": [
        "movie_collection.peek(limit=1)  # we can specify the number of items we want"
      ],
      "metadata": {
        "colab": {
          "base_uri": "https://localhost:8080/"
        },
        "id": "Jo6oVVhdcwJl",
        "outputId": "fa84a76f-0981-4f63-d6c5-151c4ced33e7"
      },
      "execution_count": 60,
      "outputs": [
        {
          "output_type": "execute_result",
          "data": {
            "text/plain": [
              "{'ids': ['quote1'],\n",
              " 'embeddings': [[0.004506412893533707,\n",
              "   -0.07763516902923584,\n",
              "   -0.038877587765455246,\n",
              "   -0.01235272828489542,\n",
              "   -0.08395075052976608,\n",
              "   0.04847825691103935,\n",
              "   0.027022896334528923,\n",
              "   -0.08260542154312134,\n",
              "   0.07585711777210236,\n",
              "   0.016495604068040848,\n",
              "   0.034576863050460815,\n",
              "   -0.0697631761431694,\n",
              "   -0.012515238486230373,\n",
              "   -0.05832795426249504,\n",
              "   -0.0736757442355156,\n",
              "   -0.12272055447101593,\n",
              "   -0.0331801138818264,\n",
              "   -0.10826481133699417,\n",
              "   -0.010775878094136715,\n",
              "   0.0024138721637427807,\n",
              "   0.03132103383541107,\n",
              "   0.000363168801413849,\n",
              "   0.057470910251140594,\n",
              "   -0.01934056729078293,\n",
              "   0.06213092431426048,\n",
              "   0.05513307452201843,\n",
              "   0.019474970176815987,\n",
              "   -0.06181753799319267,\n",
              "   -0.025465352460741997,\n",
              "   0.06344398111104965,\n",
              "   -0.019318535923957825,\n",
              "   -0.005409401375800371,\n",
              "   -0.08224662393331528,\n",
              "   -0.04527893662452698,\n",
              "   0.037652596831321716,\n",
              "   0.007059104740619659,\n",
              "   0.050451889634132385,\n",
              "   0.040108174085617065,\n",
              "   0.05018293857574463,\n",
              "   0.015969539061188698,\n",
              "   -0.06825977563858032,\n",
              "   -0.0721675306558609,\n",
              "   -0.0508137047290802,\n",
              "   0.00978314783424139,\n",
              "   0.0441795252263546,\n",
              "   0.039904944598674774,\n",
              "   -0.011201131157577038,\n",
              "   -0.064549520611763,\n",
              "   0.004284086637198925,\n",
              "   -0.028175348415970802,\n",
              "   -0.07202748209238052,\n",
              "   -0.008583989925682545,\n",
              "   -0.018231134861707687,\n",
              "   -0.010825513862073421,\n",
              "   0.006209216546267271,\n",
              "   -0.005042899865657091,\n",
              "   0.0980745255947113,\n",
              "   0.03547963872551918,\n",
              "   -0.03446827456355095,\n",
              "   0.08118514716625214,\n",
              "   -0.014328761957585812,\n",
              "   -0.01989717222750187,\n",
              "   0.03304331377148628,\n",
              "   0.04088518023490906,\n",
              "   0.02543088234961033,\n",
              "   -0.011577427387237549,\n",
              "   -0.0006447611376643181,\n",
              "   -0.03172149881720543,\n",
              "   -0.012750943191349506,\n",
              "   -0.01977469213306904,\n",
              "   -0.03904127702116966,\n",
              "   0.04559657722711563,\n",
              "   0.010284634307026863,\n",
              "   0.06927920877933502,\n",
              "   -0.0079053258523345,\n",
              "   -0.03878583386540413,\n",
              "   0.013397759757936,\n",
              "   -0.024028019979596138,\n",
              "   0.02143619954586029,\n",
              "   0.13550345599651337,\n",
              "   -0.1161705031991005,\n",
              "   0.028934571892023087,\n",
              "   0.09869161993265152,\n",
              "   0.09323232620954514,\n",
              "   -0.09287209808826447,\n",
              "   0.017198167741298676,\n",
              "   -0.003923508338630199,\n",
              "   -0.012464535422623158,\n",
              "   -0.08061356097459793,\n",
              "   -0.040752112865448,\n",
              "   -0.0696076974272728,\n",
              "   0.050709620118141174,\n",
              "   -0.04665809124708176,\n",
              "   0.02334439568221569,\n",
              "   0.040696803480386734,\n",
              "   0.040433917194604874,\n",
              "   -0.015482109971344471,\n",
              "   0.03927581012248993,\n",
              "   -0.09700021892786026,\n",
              "   0.09696080535650253,\n",
              "   -0.06128056347370148,\n",
              "   0.03884432092308998,\n",
              "   -0.07275819033384323,\n",
              "   0.019143935292959213,\n",
              "   0.05837962403893471,\n",
              "   0.08920978754758835,\n",
              "   -0.008780322968959808,\n",
              "   -0.07334178686141968,\n",
              "   -0.03713040053844452,\n",
              "   0.015287286601960659,\n",
              "   0.003578141098842025,\n",
              "   0.009929172694683075,\n",
              "   -0.001524931052699685,\n",
              "   -0.012914154678583145,\n",
              "   -0.13676223158836365,\n",
              "   -0.0654069259762764,\n",
              "   -0.017372269183397293,\n",
              "   -0.049146074801683426,\n",
              "   -0.08455262333154678,\n",
              "   0.016672076657414436,\n",
              "   -0.004323532804846764,\n",
              "   -0.008424156345427036,\n",
              "   -0.022465961053967476,\n",
              "   0.02349899336695671,\n",
              "   -0.05194159224629402,\n",
              "   -0.011793801560997963,\n",
              "   0.04190320521593094,\n",
              "   -6.403677392153219e-33,\n",
              "   -0.027521122246980667,\n",
              "   -0.07137420028448105,\n",
              "   0.11814640462398529,\n",
              "   -0.06280333548784256,\n",
              "   0.00029342577909119427,\n",
              "   0.045741286128759384,\n",
              "   0.0526987686753273,\n",
              "   0.03961766138672829,\n",
              "   0.06975818425416946,\n",
              "   0.0009288860019296408,\n",
              "   -0.03785526379942894,\n",
              "   -0.03694203123450279,\n",
              "   -0.03562247008085251,\n",
              "   -0.05575888603925705,\n",
              "   0.04709477350115776,\n",
              "   -0.01441675890237093,\n",
              "   0.016992364078760147,\n",
              "   0.04907270520925522,\n",
              "   0.043104756623506546,\n",
              "   -0.02849672921001911,\n",
              "   0.013234969228506088,\n",
              "   0.07553772628307343,\n",
              "   -0.02466033212840557,\n",
              "   -0.01719522848725319,\n",
              "   -0.09896911680698395,\n",
              "   0.032160334289073944,\n",
              "   -0.006608865689486265,\n",
              "   -0.03888804838061333,\n",
              "   -0.031235307455062866,\n",
              "   0.01250061672180891,\n",
              "   -0.08226996660232544,\n",
              "   0.00391686474904418,\n",
              "   0.04622717946767807,\n",
              "   -0.04753202944993973,\n",
              "   -0.053531646728515625,\n",
              "   -0.09943389892578125,\n",
              "   -0.03552883490920067,\n",
              "   -0.04097086563706398,\n",
              "   -0.06398932635784149,\n",
              "   -0.03750713914632797,\n",
              "   -0.06703025102615356,\n",
              "   0.026522068306803703,\n",
              "   0.004128947388380766,\n",
              "   -0.019862161949276924,\n",
              "   -0.06796027719974518,\n",
              "   0.028472010046243668,\n",
              "   0.03623342141509056,\n",
              "   0.02147100120782852,\n",
              "   -0.06617563217878342,\n",
              "   -0.018994122743606567,\n",
              "   0.08508868515491486,\n",
              "   0.03801865503191948,\n",
              "   0.02174222841858864,\n",
              "   0.05227065458893776,\n",
              "   0.004867785144597292,\n",
              "   -0.00904923677444458,\n",
              "   -0.015232342295348644,\n",
              "   0.04652361944317818,\n",
              "   -0.057270314544439316,\n",
              "   0.01536891981959343,\n",
              "   -0.010492299683392048,\n",
              "   -0.036021050065755844,\n",
              "   -0.036485426127910614,\n",
              "   0.030291814357042313,\n",
              "   -0.030621331185102463,\n",
              "   0.051526132971048355,\n",
              "   -0.012711474671959877,\n",
              "   -0.011150721460580826,\n",
              "   0.11201528459787369,\n",
              "   -0.01624324545264244,\n",
              "   0.005826304666697979,\n",
              "   0.023435940966010094,\n",
              "   0.021237479522824287,\n",
              "   0.0655781477689743,\n",
              "   0.017404288053512573,\n",
              "   -0.04747234284877777,\n",
              "   0.0012097530998289585,\n",
              "   -0.04018506035208702,\n",
              "   0.029654111713171005,\n",
              "   0.007202140521258116,\n",
              "   0.15408575534820557,\n",
              "   -0.013915984891355038,\n",
              "   -0.007491589058190584,\n",
              "   -0.033626530319452286,\n",
              "   -0.011834106408059597,\n",
              "   0.037963736802339554,\n",
              "   -0.06818950176239014,\n",
              "   0.0022597552742809057,\n",
              "   0.045773088932037354,\n",
              "   0.006281249690800905,\n",
              "   -0.09415273368358612,\n",
              "   -0.057213425636291504,\n",
              "   -0.01790780946612358,\n",
              "   -0.07122308760881424,\n",
              "   -0.08588698506355286,\n",
              "   3.651681649695083e-33,\n",
              "   0.023824479430913925,\n",
              "   0.03902367502450943,\n",
              "   -0.10877541452646255,\n",
              "   0.0712517723441124,\n",
              "   -0.018043944612145424,\n",
              "   0.036815982311964035,\n",
              "   0.04973866790533066,\n",
              "   -0.00027437583776190877,\n",
              "   0.04533817991614342,\n",
              "   0.00616731820628047,\n",
              "   0.04041488096117973,\n",
              "   -0.016960052773356438,\n",
              "   0.04184802249073982,\n",
              "   0.011336554773151875,\n",
              "   0.024928417056798935,\n",
              "   0.1202538013458252,\n",
              "   -0.01351709384471178,\n",
              "   0.05862248316407204,\n",
              "   -0.005093262065201998,\n",
              "   0.0520934984087944,\n",
              "   0.01269944291561842,\n",
              "   0.024896781891584396,\n",
              "   -0.01434896420687437,\n",
              "   -0.06794212013483047,\n",
              "   -0.06110503152012825,\n",
              "   0.007957465015351772,\n",
              "   -0.012057119980454445,\n",
              "   0.016885923221707344,\n",
              "   -0.1289052963256836,\n",
              "   0.035027675330638885,\n",
              "   0.07120621204376221,\n",
              "   -0.0896097868680954,\n",
              "   -0.0007642364362254739,\n",
              "   -0.08148716390132904,\n",
              "   -0.051209405064582825,\n",
              "   0.007835102267563343,\n",
              "   -0.023056140169501305,\n",
              "   -0.09074898809194565,\n",
              "   -0.06253448128700256,\n",
              "   0.005544378887861967,\n",
              "   0.03728802129626274,\n",
              "   -0.0020156160462647676,\n",
              "   0.07216396927833557,\n",
              "   0.0684366449713707,\n",
              "   -0.029789861291646957,\n",
              "   0.0019484340446069837,\n",
              "   -0.052043721079826355,\n",
              "   0.03542280197143555,\n",
              "   0.03604261577129364,\n",
              "   0.006790576968342066,\n",
              "   -0.02253156155347824,\n",
              "   -0.0032554888166487217,\n",
              "   0.08839654922485352,\n",
              "   -0.046813104301691055,\n",
              "   0.011423353105783463,\n",
              "   0.019125623628497124,\n",
              "   -0.019698306918144226,\n",
              "   -0.10672853142023087,\n",
              "   0.018979530781507492,\n",
              "   0.020097073167562485,\n",
              "   0.06359006464481354,\n",
              "   0.07595288008451462,\n",
              "   0.0021123415790498257,\n",
              "   0.1199185699224472,\n",
              "   0.08020878583192825,\n",
              "   0.06531967222690582,\n",
              "   -0.027310069650411606,\n",
              "   0.11547543108463287,\n",
              "   0.007320564705878496,\n",
              "   -0.07436089217662811,\n",
              "   0.05379951000213623,\n",
              "   -0.013500266708433628,\n",
              "   0.08037098497152328,\n",
              "   -0.07607728242874146,\n",
              "   0.0641295313835144,\n",
              "   0.13673654198646545,\n",
              "   -0.042393188923597336,\n",
              "   0.000553591875359416,\n",
              "   -0.015855547040700912,\n",
              "   -0.06224849820137024,\n",
              "   -0.0005386928678490222,\n",
              "   -0.0024243416264653206,\n",
              "   -0.00652763107791543,\n",
              "   -0.0013700776034966111,\n",
              "   0.01187110599130392,\n",
              "   -0.04404832422733307,\n",
              "   0.03704151138663292,\n",
              "   -0.030512573197484016,\n",
              "   -0.028746426105499268,\n",
              "   0.055730439722537994,\n",
              "   -0.03843314200639725,\n",
              "   -0.07306411117315292,\n",
              "   0.04225471243262291,\n",
              "   0.06552886217832565,\n",
              "   0.0932956337928772,\n",
              "   -1.52559138655306e-08,\n",
              "   0.1408858597278595,\n",
              "   0.044754378497600555,\n",
              "   0.0660981833934784,\n",
              "   0.013256119564175606,\n",
              "   -0.0065672919154167175,\n",
              "   0.03651321679353714,\n",
              "   -0.001998936990275979,\n",
              "   -0.03720429167151451,\n",
              "   0.009914200752973557,\n",
              "   0.07873531430959702,\n",
              "   -0.024056876078248024,\n",
              "   0.04015840217471123,\n",
              "   -0.08734776079654694,\n",
              "   0.05176307260990143,\n",
              "   -0.013613458722829819,\n",
              "   0.02066303789615631,\n",
              "   0.04129078984260559,\n",
              "   -0.018810613080859184,\n",
              "   -0.04821748286485672,\n",
              "   -0.006408737041056156,\n",
              "   -0.041052453219890594,\n",
              "   0.0337047204375267,\n",
              "   -0.018666306510567665,\n",
              "   -0.04144701734185219,\n",
              "   0.04725600406527519,\n",
              "   0.04747039079666138,\n",
              "   -0.02856281027197838,\n",
              "   0.059923723340034485,\n",
              "   0.019695846363902092,\n",
              "   0.03169657289981842,\n",
              "   0.06382730603218079,\n",
              "   -0.02067624405026436,\n",
              "   0.0024101068265736103,\n",
              "   0.0008354909950867295,\n",
              "   -0.05344151705503464,\n",
              "   0.013785318471491337,\n",
              "   -0.06527269631624222,\n",
              "   0.1180756613612175,\n",
              "   -0.02732032723724842,\n",
              "   -0.05623927339911461,\n",
              "   -0.07921219617128372,\n",
              "   0.013147869147360325,\n",
              "   0.005299774929881096,\n",
              "   0.001284890342503786,\n",
              "   -0.04422591254115105,\n",
              "   0.09763043373823166,\n",
              "   -0.05610092356801033,\n",
              "   0.0250407624989748,\n",
              "   -0.08592406660318375,\n",
              "   0.025803769007325172,\n",
              "   0.04648486152291298,\n",
              "   0.015129652805626392,\n",
              "   0.04980834200978279,\n",
              "   0.03839382529258728,\n",
              "   0.01601114496588707,\n",
              "   0.020460141822695732,\n",
              "   0.030375303700566292,\n",
              "   0.06988563388586044,\n",
              "   -0.004369743634015322,\n",
              "   0.055688172578811646,\n",
              "   -0.01026802510023117,\n",
              "   -0.006257201079279184,\n",
              "   0.025641433894634247,\n",
              "   0.005344754550606012]],\n",
              " 'metadatas': [None],\n",
              " 'documents': ['There is no spoon.'],\n",
              " 'uris': None,\n",
              " 'data': None}"
            ]
          },
          "metadata": {},
          "execution_count": 60
        }
      ]
    },
    {
      "cell_type": "markdown",
      "source": [
        "### Adding document-associated embeddings"
      ],
      "metadata": {
        "id": "JGO6mZO9krq2"
      }
    },
    {
      "cell_type": "code",
      "source": [
        "morpheus_collection = client.create_collection(name=\"morpheus\")"
      ],
      "metadata": {
        "id": "Snz06QnUk0sS"
      },
      "execution_count": 61,
      "outputs": []
    },
    {
      "cell_type": "code",
      "source": [
        "morpheus_collection.add(\n",
        "    documents = [\n",
        "        \"Welcome to the real world.\",\n",
        "        \"What if I told you everything you knew was a lie.\"\n",
        "    ],\n",
        "    embeddings=[\n",
        "        # these are all hypothetical embeddings\n",
        "        [0.1, 0.2, 0.3],\n",
        "        [0.4, 0.5, 0.6]\n",
        "    ],\n",
        "    ids=[\"quote1\", \"quote2\"]\n",
        ")"
      ],
      "metadata": {
        "id": "3Jn213yYk9xA"
      },
      "execution_count": 62,
      "outputs": []
    },
    {
      "cell_type": "code",
      "source": [
        "morpheus_collection.count()"
      ],
      "metadata": {
        "colab": {
          "base_uri": "https://localhost:8080/"
        },
        "id": "6RntD6tclcfF",
        "outputId": "fd7d9940-bd72-45aa-e7d3-342fe0d02949"
      },
      "execution_count": 63,
      "outputs": [
        {
          "output_type": "execute_result",
          "data": {
            "text/plain": [
              "2"
            ]
          },
          "metadata": {},
          "execution_count": 63
        }
      ]
    },
    {
      "cell_type": "code",
      "source": [
        "morpheus_collection.get()"
      ],
      "metadata": {
        "colab": {
          "base_uri": "https://localhost:8080/"
        },
        "id": "FkKlWJ_mlfyl",
        "outputId": "c5a044f5-79a0-465f-db24-a9d12493b928"
      },
      "execution_count": 64,
      "outputs": [
        {
          "output_type": "execute_result",
          "data": {
            "text/plain": [
              "{'ids': ['quote1', 'quote2'],\n",
              " 'embeddings': None,\n",
              " 'metadatas': [None, None],\n",
              " 'documents': ['Welcome to the real world.',\n",
              "  'What if I told you everything you knew was a lie.'],\n",
              " 'uris': None,\n",
              " 'data': None}"
            ]
          },
          "metadata": {},
          "execution_count": 64
        }
      ]
    },
    {
      "cell_type": "code",
      "source": [
        "# create the collection\n",
        "locations_collection = client.create_collection(name=\"locations\")"
      ],
      "metadata": {
        "id": "VmLfVnFdllQm"
      },
      "execution_count": 65,
      "outputs": []
    },
    {
      "cell_type": "code",
      "source": [
        "# adding emebdding and metadata\n",
        "locations_collection.add(\n",
        "    embeddings=[\n",
        "        [0.1, 0.2, 0.3],\n",
        "        [0.4, 0.5, 0.6]\n",
        "    ],\n",
        "    metadatas=[\n",
        "        {\"location\": \"Machine City\", \"description\": \"City inhabited by machines\"},\n",
        "        {\"location\": \"Zion\", \"description\": \"Last human city\"}\n",
        "    ],\n",
        "    ids=[\"location1\", \"location2\"]\n",
        ")"
      ],
      "metadata": {
        "id": "WoGUJrF-l93u"
      },
      "execution_count": 66,
      "outputs": []
    },
    {
      "cell_type": "code",
      "source": [
        "locations_collection.count()"
      ],
      "metadata": {
        "colab": {
          "base_uri": "https://localhost:8080/"
        },
        "id": "cObxOw2qnF55",
        "outputId": "ff384900-5732-4531-f0bb-dd13b3fa0a16"
      },
      "execution_count": 67,
      "outputs": [
        {
          "output_type": "execute_result",
          "data": {
            "text/plain": [
              "2"
            ]
          },
          "metadata": {},
          "execution_count": 67
        }
      ]
    },
    {
      "cell_type": "code",
      "source": [
        "locations_collection.get()"
      ],
      "metadata": {
        "colab": {
          "base_uri": "https://localhost:8080/"
        },
        "id": "mogJp4Q2nIXM",
        "outputId": "e401c926-a572-4d38-bbe1-ee081685470a"
      },
      "execution_count": 68,
      "outputs": [
        {
          "output_type": "execute_result",
          "data": {
            "text/plain": [
              "{'ids': ['location1', 'location2'],\n",
              " 'embeddings': None,\n",
              " 'metadatas': [{'description': 'City inhabited by machines',\n",
              "   'location': 'Machine City'},\n",
              "  {'description': 'Last human city', 'location': 'Zion'}],\n",
              " 'documents': [None, None],\n",
              " 'uris': None,\n",
              " 'data': None}"
            ]
          },
          "metadata": {},
          "execution_count": 68
        }
      ]
    },
    {
      "cell_type": "markdown",
      "source": [
        "### Query the collection"
      ],
      "metadata": {
        "id": "uQxxDJnenN4_"
      }
    },
    {
      "cell_type": "code",
      "source": [
        "try:\n",
        "  client.delete_collection(name=\"morpheus\")\n",
        "  print(\"[INFO] Collection deleted successfully.\")\n",
        "except ValueError as e:\n",
        "  print(f\"[INFO] Error: {e}\")"
      ],
      "metadata": {
        "colab": {
          "base_uri": "https://localhost:8080/"
        },
        "id": "nF8t-O3inMBC",
        "outputId": "c32a9788-15d7-470f-f5ae-5a12c6931e98"
      },
      "execution_count": 69,
      "outputs": [
        {
          "output_type": "stream",
          "name": "stdout",
          "text": [
            "[INFO] Collection deleted successfully.\n"
          ]
        }
      ]
    },
    {
      "cell_type": "code",
      "source": [
        "morpheus_collection = client.create_collection(\n",
        "    name=\"morpheus\",\n",
        "    metadata={\"hnsw:space\": \"cosine\"}  # assigning Cosine Similarity as distance function\n",
        ")"
      ],
      "metadata": {
        "id": "zvURVYMMn-Mw"
      },
      "execution_count": 70,
      "outputs": []
    },
    {
      "cell_type": "code",
      "source": [
        "morpheus_collection.add(\n",
        "    documents=[\n",
        "        \"This is your last chance. After this, there is no turning back.\",\n",
        "        \"You take the blue pill, the story ends, you wake up in your bed and believe whatever you want to believe.\",\n",
        "        \"You take the red pill, you stay in Wonderland, and I show you how deep the rabbit hole goes.\"\n",
        "    ],\n",
        "    ids=[\"quote1\", \"quote2\", \"quote3\"]\n",
        ")"
      ],
      "metadata": {
        "id": "IhGRKXWLoR8c"
      },
      "execution_count": 71,
      "outputs": []
    },
    {
      "cell_type": "code",
      "source": [
        "morpheus_collection.get()"
      ],
      "metadata": {
        "colab": {
          "base_uri": "https://localhost:8080/"
        },
        "id": "TiIiE-dRpLDB",
        "outputId": "0795714a-bc54-437c-ee95-280edf104863"
      },
      "execution_count": 72,
      "outputs": [
        {
          "output_type": "execute_result",
          "data": {
            "text/plain": [
              "{'ids': ['quote1', 'quote2', 'quote3'],\n",
              " 'embeddings': None,\n",
              " 'metadatas': [None, None, None],\n",
              " 'documents': ['This is your last chance. After this, there is no turning back.',\n",
              "  'You take the blue pill, the story ends, you wake up in your bed and believe whatever you want to believe.',\n",
              "  'You take the red pill, you stay in Wonderland, and I show you how deep the rabbit hole goes.'],\n",
              " 'uris': None,\n",
              " 'data': None}"
            ]
          },
          "metadata": {},
          "execution_count": 72
        }
      ]
    },
    {
      "cell_type": "code",
      "source": [
        "# querying by a set of query texts\n",
        "results = morpheus_collection.query(\n",
        "    query_texts=[\"Take the red pill\"],\n",
        "    n_results=2,\n",
        "    include=[\"embeddings\", \"distances\"]\n",
        ")\n",
        "\n",
        "print(results)"
      ],
      "metadata": {
        "colab": {
          "base_uri": "https://localhost:8080/"
        },
        "id": "TFOhiv_npGh2",
        "outputId": "f0a1ebcb-79d2-43ec-ac70-19b44974a090"
      },
      "execution_count": 74,
      "outputs": [
        {
          "output_type": "stream",
          "name": "stdout",
          "text": [
            "{'ids': [['quote3', 'quote2']], 'distances': [[0.4833802580833435, 0.523399829864502]], 'metadatas': None, 'embeddings': [[[0.0612788051366806, -0.02984556369483471, -0.019049806520342827, 0.055405668914318085, -0.007395263761281967, 0.043489884585142136, 0.12292641401290894, 0.019732583314180374, 0.05923592671751976, -0.05111175775527954, -0.09325962513685226, 0.037388864904642105, -0.03443676233291626, 0.02969019114971161, 0.008961701765656471, -0.008797801099717617, 0.04690297320485115, -0.012945846654474735, -0.06328832358121872, 0.007151228375732899, 0.004883265122771263, 0.038365889340639114, 0.055117808282375336, 0.05231316387653351, -0.09759976714849472, -0.02976042963564396, -0.0029865610413253307, -0.017095468938350677, -0.1617484837770462, -0.01317501813173294, 0.0669235959649086, 0.022074854001402855, 0.02148345671594143, -0.02672904171049595, 0.02127642184495926, 0.06961461901664734, 0.01167245302349329, -0.01919923909008503, 0.06758654862642288, 0.04263416305184364, -0.025372076779603958, -0.04455849900841713, 0.017889203503727913, 0.08541586995124817, 0.04137060418725014, 0.01255220640450716, -0.0474720224738121, 0.06620215624570847, 0.06795308738946915, -0.0302774328738451, -0.04722534492611885, 0.019993798807263374, -0.03824571892619133, 0.05654553323984146, -0.06478867679834366, 0.08433829993009567, -0.014386757276952267, -0.031716059893369675, -0.0018619571346789598, 0.02773980237543583, -0.051171425729990005, -0.001500368700362742, 0.016741614788770676, 0.0706712007522583, -0.07642839103937149, 0.05707294121384621, -0.014828963205218315, 0.021899178624153137, 0.00948137417435646, 0.12224512547254562, -0.02229229547083378, -0.015678366646170616, -0.04253653064370155, -0.04303424060344696, -0.04048614576458931, -0.04835819825530052, 0.003415972227230668, -0.04635649174451828, -0.008654916658997536, -0.006520465947687626, 0.0297123771160841, 0.033457864075899124, 0.06756873428821564, 0.046848706901073456, -0.020428910851478577, 0.0027677014004439116, 0.056728120893239975, -0.04333820194005966, -0.00975506566464901, -0.029838552698493004, -0.027034694328904152, -0.05851074308156967, -0.027360163629055023, 0.09447590261697769, -0.03949582576751709, -0.12492091953754425, -0.04450441524386406, 0.00990825705230236, -0.05570384860038757, 0.09742558747529984, 0.019638750702142715, -0.057847362011671066, 0.023634297773241997, -0.019837168976664543, 0.08849000185728073, -0.05731069669127464, -0.03436499089002609, 0.020169304683804512, 0.08303432911634445, -0.032925087958574295, 0.06615480035543442, -0.054171644151210785, 0.059415142983198166, 0.014577662572264671, 0.049883101135492325, -0.026334727182984352, 0.07958570122718811, -0.015276429243385792, -0.06107310950756073, 0.07847350090742111, 0.04693692922592163, 0.0026629434432834387, -0.05326032638549805, 0.04585541412234306, -0.04497382044792175, -0.030352497473359108, 0.0009616249008104205, -4.153328639354294e-33, -0.07603130489587784, -0.03455140069127083, 0.060557980090379715, 0.15990008413791656, 0.03416933864355087, 0.06781483441591263, -0.08848057687282562, -0.01275978609919548, 0.005206035450100899, 0.07820543646812439, -0.02869788371026516, 0.0010521173244342208, -0.09560315310955048, 0.048365700989961624, -0.015378654934465885, 0.06768006831407547, -0.025916794314980507, 0.06541569530963898, 0.036600980907678604, 0.03832972049713135, -0.09293404966592789, 0.014571106992661953, -0.020574184134602547, -0.003598846960812807, -0.012617710046470165, 0.02738373354077339, -0.011069290339946747, 0.002850821241736412, -0.0001775503478711471, 0.02355794794857502, 0.05748676881194115, 0.058878153562545776, 0.01689981110394001, 0.0004940731450915337, -0.08309169113636017, -0.010122078470885754, -0.05474866181612015, -0.013904946856200695, 0.03713856264948845, 0.05385245755314827, -0.07120752334594727, -0.015967071056365967, -0.034009918570518494, 0.11791727691888809, 0.017466140910983086, -0.034228213131427765, 0.010728024877607822, 0.05279826745390892, -0.025053132325410843, 0.08582598716020584, -0.04180697351694107, 0.03876328095793724, 0.055138010531663895, 0.029800519347190857, -0.03709052875638008, -0.004495861008763313, -0.08881042152643204, 0.06821874529123306, 0.06390991806983948, -0.0007680270937271416, 0.03173893690109253, 0.012836171314120293, -0.03295353055000305, -0.011445970274508, -0.003146896604448557, 0.03893319517374039, -0.022319287061691284, -0.04681173712015152, -0.02979188784956932, 0.08069828152656555, 0.001324215903878212, 0.005744526162743568, 0.020917214453220367, -0.039043065160512924, -0.0011205311166122556, -0.05408530309796333, -0.04070572927594185, -0.025991111993789673, 0.036836057901382446, -0.08936920017004013, 0.045570410788059235, -0.03703376650810242, -0.036341141909360886, 0.014806730672717094, 0.026504063978791237, -0.010029935277998447, 0.09575510025024414, 0.0024329880252480507, 0.042372770607471466, -0.055167365819215775, -0.023875148966908455, -0.038391441106796265, 0.037465717643499374, -0.061106618493795395, 0.02961365133523941, 4.1073660755531734e-33, -0.02088402397930622, -0.053622595965862274, 0.010355325415730476, 0.03350667655467987, 0.049953121691942215, -0.05303031578660011, -0.01883883774280548, -0.01644308865070343, 0.01579843834042549, 0.09548451006412506, 0.01264888048171997, -0.004069260787218809, 0.009849227033555508, 0.03876302018761635, 0.02504989132285118, -0.033982351422309875, 0.06850002706050873, -0.07109016180038452, -0.036858417093753815, 0.01403358206152916, -0.08159464597702026, -0.024369627237319946, -0.08881022781133652, 0.017362024635076523, -0.0009426915785297751, 0.019606230780482292, 0.11689463257789612, -0.03169579058885574, 0.03866148740053177, -0.08810263872146606, -0.03863633796572685, 0.005029116757214069, -0.12022538483142853, -0.07012124359607697, -0.02517048642039299, 0.006135690491646528, -0.0130902249366045, -0.047976572066545486, -0.10053468495607376, -0.09600374102592468, -0.05724158510565758, -0.045505572110414505, -0.1025884598493576, -0.016649287194013596, 0.0037152180448174477, 0.018375983461737633, 0.023866191506385803, 0.0989738255739212, -0.005845323204994202, 0.0808705985546112, -0.06049157306551933, -0.1100817546248436, 0.040117282420396805, 0.020817413926124573, -0.02017676644027233, -0.00325763993896544, -0.03793974220752716, -0.017964771017432213, 0.01492677815258503, -0.02374144457280636, -0.06497412919998169, 0.008168228901922703, -0.02599349617958069, 0.06721608340740204, 0.022106926888227463, -0.06011233851313591, -0.06568990647792816, 0.07674518972635269, 0.015555846504867077, 0.03291837126016617, 0.012892908416688442, 0.04093625023961067, 0.03223167359828949, -0.029072752222418785, 0.000819006294477731, -0.013414938002824783, 0.02694985643029213, -0.07987760007381439, -0.06611337512731552, -0.062496960163116455, 0.042297277599573135, -0.12416346371173859, 0.10319053381681442, 0.0371810607612133, 0.012942430563271046, -0.008135301060974598, 0.003731433767825365, -0.00846158154308796, -0.09658344089984894, 0.05177707597613335, 0.07063659280538559, -0.025864282622933388, -0.058108359575271606, 0.006921654101461172, 0.05615445226430893, -2.442527069490552e-08, -9.270688315154985e-05, 0.01395760104060173, 0.002249006414785981, -0.08480957895517349, 0.0893922820687294, -0.009190949611365795, 0.01023169793188572, 0.03471675142645836, 0.0006629775161854923, 0.058088429272174835, 0.00024648834369145334, 0.0693628191947937, 0.06867868453264236, -0.030086293816566467, -0.007307487539947033, 0.14457926154136658, -0.002397027565166354, -0.06511670351028442, -0.029409026727080345, 0.06015504151582718, -0.023857245221734047, 0.03693969175219536, 0.04926903545856476, 0.05210132896900177, -0.010127030313014984, 0.037559106945991516, 0.01939665898680687, -0.003180220490321517, -0.01015370525419712, -0.028534097597002983, 0.039538487792015076, 0.03205857798457146, -0.04558585584163666, 0.08669433742761612, -0.021534083411097527, -0.07792221754789352, -0.022000396624207497, 0.09328010678291321, 0.011079870164394379, -0.03783310949802399, -0.08974602073431015, -0.035313576459884644, 0.117662712931633, 0.021355019882321358, -0.07874808460474014, -0.027805842459201813, 0.013304750435054302, -0.014092219062149525, -0.011627568863332272, -0.019449541345238686, -0.02266814559698105, 0.04587613418698311, 0.04486457258462906, 0.05986106023192406, 0.04165732115507126, -0.022542312741279602, -0.00025069937692023814, 0.03309553116559982, -0.06722191721200943, 0.05544491112232208, -0.0615285262465477, -0.007733617443591356, 0.03247705101966858, -0.12806496024131775], [0.0020301039330661297, -0.03444109857082367, -0.03992977738380432, 0.05591466277837753, 0.08983257412910461, 0.04790664464235306, 0.03481559082865715, 0.04194574058055878, 0.1608247309923172, 0.002199552720412612, -0.0698804035782814, 0.05016661435365677, 0.0022353583481162786, 0.027154946699738503, -0.0014707120135426521, 0.05114632472395897, -0.03977464139461517, -0.004704284016042948, -0.07122515887022018, 0.04370495676994324, 0.01075044460594654, 0.018265975639224052, 0.009847350418567657, 0.09322532266378403, -0.07805909961462021, 0.09144572913646698, 0.00864508654922247, -0.02949981391429901, -0.0504743829369545, -0.014194702729582787, 0.07489461451768875, 0.04443100467324257, 0.003051042789593339, -0.022724376991391182, 0.022804241627454758, 0.005676147062331438, 0.016245054081082344, 0.03483559563755989, 0.06196141242980957, 0.07031849771738052, 0.05718039721250534, -0.049278706312179565, -0.004419287201017141, 0.014804169535636902, 0.03400018438696861, -0.011680267751216888, -0.03664811700582504, 0.04483020305633545, 0.05801747366786003, -0.02250942587852478, -0.05477842316031456, -0.01908019557595253, -0.01912248507142067, 0.029193321242928505, -0.08241993188858032, 0.005001329351216555, -0.013859369792044163, 0.03346545249223709, 0.07009977847337723, 0.04160626232624054, -0.03307659178972244, 0.035714708268642426, -0.013880710117518902, 0.05986844748258591, 0.06086309254169464, 0.15533137321472168, -0.050215817987918854, 0.05501122027635574, -0.0008947448804974556, -0.018758727237582207, 0.02296663261950016, -0.03220551833510399, -0.04627608135342598, 0.06555720418691635, 0.02243596874177456, -0.04363793879747391, 0.04094443842768669, -0.05541495233774185, 0.05031878128647804, -0.011073636822402477, -0.06434714049100876, -0.016082117334008217, -0.023953497409820557, 0.017589695751667023, 0.023490194231271744, -0.022303616628050804, 0.01941743679344654, 0.06440086662769318, 0.03987324237823486, 0.10335531830787659, 0.007634526584297419, -0.07553709298372269, -0.09942922741174698, 0.021725505590438843, -0.009551115334033966, 0.02260761521756649, -0.1449257880449295, -0.0166105255484581, -0.017968636006116867, 0.03150929510593414, -0.10122284293174744, -0.04395757615566254, -0.035277292132377625, -0.07354886084794998, 0.048210978507995605, -0.08504149317741394, 0.0012779615353792906, -0.053958576172590256, 0.049485817551612854, -0.02878846786916256, 0.03472337871789932, -0.06625053286552429, 0.005404923111200333, 0.09484463930130005, 0.05727891996502876, 0.01828906498849392, 0.06305296719074249, 0.06981261074542999, -0.08564989268779755, -0.04898541793227196, 0.008924410678446293, 0.021130545064806938, 0.0034802414011210203, 0.05425209552049637, -0.06154661253094673, -0.0854492038488388, 0.08851199597120285, -3.716634692075722e-33, 0.008626513183116913, 0.0020786726381629705, 0.04570232704281807, 0.11971881240606308, 0.002924986183643341, 0.04021294042468071, -0.05107951536774635, 0.01771504059433937, 0.018833916634321213, 0.00960717722773552, -0.02805190533399582, 0.01943914219737053, -0.07430916279554367, 0.02875359170138836, -0.025127733126282692, -0.020638482645154, -0.1166180893778801, 0.006867085583508015, -0.0028822545427829027, 0.048983652144670486, -0.04681021720170975, 0.01772862672805786, -0.009626351296901703, -0.009032453410327435, -0.017251156270503998, 0.011486818082630634, 0.07747764140367508, 0.11900273710489273, -0.044622473418712616, 0.015226569958031178, 0.007733707781881094, 0.026591382920742035, 0.02299203909933567, -0.009916199371218681, -0.04215269908308983, 0.020994484424591064, -0.00448270421475172, -0.020323606207966805, 0.025687621906399727, 0.011052983812987804, -0.0025814822874963284, 0.010637075640261173, -0.10150731354951859, 0.02719232439994812, 0.012684979476034641, -0.02093343995511532, 0.03714775666594505, -0.049795761704444885, -0.03185661882162094, -0.021396012976765633, -0.03663884475827217, 0.0315256342291832, 0.023678094148635864, -0.05741433426737785, -0.052616432309150696, 0.0018149694660678506, -0.07349108159542084, -0.014019633643329144, 0.05789631977677345, 0.04279070720076561, 0.08519797772169113, -0.016562776640057564, -0.03446933999657631, 0.016435733065009117, -0.04790259525179863, 0.00564893102273345, -0.03649650886654854, -0.09370733797550201, -0.06004823371767998, -0.04016083851456642, 0.02431025542318821, -0.060495298355817795, 0.041507162153720856, 0.03923067823052406, 0.013432049192488194, -0.010797976516187191, -0.04414086416363716, -0.010814637877047062, -0.018340378999710083, -0.031024202704429626, 0.059753574430942535, -0.08973269164562225, -0.0036590315867215395, 0.057041190564632416, 0.03203790634870529, 0.04250125214457512, 0.03572434186935425, -0.06203382834792137, -0.03492613881826401, -0.12186625599861145, -0.004218554124236107, -0.09071920812129974, 0.08191724866628647, -0.04270724579691887, -0.03614209592342377, 2.7733010265538133e-33, -0.030221939086914062, -0.04516657441854477, 0.026948070153594017, 0.027728838846087456, 0.0007491879514418542, -0.06202767416834831, -0.011462877504527569, -0.0695720911026001, 0.02602468989789486, 0.05848846957087517, 0.08871632814407349, -0.020224930718541145, 0.024662163108587265, 0.039404693990945816, 0.018173696473240852, -0.11963796615600586, 0.058260492980480194, -0.05258664861321449, -0.09829439222812653, -0.023774005472660065, -0.05292569845914841, -0.023411031812429428, -0.022014319896697998, -0.03539374843239784, 0.0659017562866211, 0.059123046696186066, 0.07159683108329773, 0.08503692597150803, 0.051945626735687256, -0.04328589141368866, -0.008650322444736958, 0.05296851322054863, -0.04926643520593643, -0.05384897440671921, -0.0503801591694355, 0.06838304549455643, 0.00108332559466362, -0.02946530282497406, 0.02337297610938549, -0.14086556434631348, -0.012175187468528748, -0.13489247858524323, -0.12639012932777405, -0.10127732157707214, -0.040131133049726486, -0.042051296681165695, 0.08181269466876984, 0.1556062549352646, 0.0464695580303669, 0.0005038602976128459, -0.035005468875169754, 0.0323205441236496, 0.04592075198888779, -0.01388042327016592, -0.025359097868204117, -0.11079192161560059, -0.023814309388399124, -0.004413846880197525, -0.010228893719613552, 0.0010924185626208782, 0.03134386986494064, 0.0619356632232666, 0.029254060238599777, 0.02689903974533081, -0.0005532632349058986, -0.05562721937894821, -0.03555941581726074, 0.03605014458298683, 0.034174855798482895, 0.007505613379180431, 0.04842222481966019, -0.0296471044421196, 0.014513622038066387, 0.023551465943455696, -0.011796992272138596, -0.027505172416567802, -0.06548863649368286, -0.0830811932682991, -0.015389899723231792, -0.06083273887634277, 0.02258133515715599, -0.10906752198934555, 0.08194127678871155, 0.010403663851320744, -0.06281614303588867, -0.06748360395431519, -0.03179823234677315, -0.028152896091341972, -0.005398763809353113, 0.039495550096035004, -0.020922008901834488, -0.017360376194119453, 0.0031100038904696703, 0.10457505285739899, -0.029060332104563713, -2.3795076131705173e-08, 0.01787298545241356, -0.05844078212976456, 0.10526107251644135, -0.016078392043709755, 0.04944862052798271, 0.0326373465359211, 0.023687273263931274, -0.03464113548398018, 0.005327548831701279, 0.026876455172896385, -0.03938188776373863, -0.0007081583607941866, -0.020929288119077682, -0.002425895305350423, -0.07963401824235916, 0.10924931615591049, 0.014348132535815239, -0.0515163280069828, 0.0449473075568676, -0.026136459782719612, 0.0060450793243944645, 0.04040620103478432, -0.026635533198714256, -0.025770973414182663, 0.09961754828691483, 0.07591268420219421, -0.02188790589570999, 0.0691022053360939, 0.03045216016471386, 0.020206857472658157, 0.07062692940235138, -0.01433510147035122, 0.020214391872286797, 0.0881858766078949, -0.03944678232073784, -0.0285362359136343, 0.0016608183505013585, 0.08375362306833267, 0.006238569039851427, -0.04908671975135803, 0.029459359124302864, 0.039952352643013, 0.028274135664105415, 0.028378764167428017, -0.08585789799690247, -0.05393468216061592, 0.019226256757974625, 0.04836320877075195, -0.013107117265462875, 0.05359544977545738, 0.04934054613113403, 0.02738690748810768, 0.03765442594885826, 0.028498375788331032, -0.014287278987467289, -0.04278195649385452, -0.041019123047590256, -0.011428272351622581, 0.005510191433131695, -0.04563741385936737, 0.008757331408560276, -0.040941644459962845, -0.005652691703289747, -0.033272407948970795]]], 'documents': None, 'uris': None, 'data': None}\n"
          ]
        }
      ]
    },
    {
      "cell_type": "code",
      "source": [
        "np.shape(results[\"embeddings\"])"
      ],
      "metadata": {
        "colab": {
          "base_uri": "https://localhost:8080/"
        },
        "id": "USRaujPXqqgV",
        "outputId": "6fa22d52-6ccc-4f7d-b16e-43152ea5c783"
      },
      "execution_count": 79,
      "outputs": [
        {
          "output_type": "execute_result",
          "data": {
            "text/plain": [
              "(1, 2, 384)"
            ]
          },
          "metadata": {},
          "execution_count": 79
        }
      ]
    }
  ]
}