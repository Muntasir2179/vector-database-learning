{
  "nbformat": 4,
  "nbformat_minor": 0,
  "metadata": {
    "colab": {
      "provenance": [],
      "toc_visible": true,
      "gpuType": "T4",
      "authorship_tag": "ABX9TyM6TPjc9ZEppa1eztUTFzda",
      "include_colab_link": true
    },
    "kernelspec": {
      "name": "python3",
      "display_name": "Python 3"
    },
    "language_info": {
      "name": "python"
    },
    "accelerator": "GPU"
  },
  "cells": [
    {
      "cell_type": "markdown",
      "metadata": {
        "id": "view-in-github",
        "colab_type": "text"
      },
      "source": [
        "<a href=\"https://colab.research.google.com/github/Muntasir2179/vector-database-learning/blob/main/VD_ChromaDB.ipynb\" target=\"_parent\"><img src=\"https://colab.research.google.com/assets/colab-badge.svg\" alt=\"Open In Colab\"/></a>"
      ]
    },
    {
      "cell_type": "markdown",
      "source": [
        "# Chroma DB\n",
        "\n",
        "[Chroma](https://docs.trychroma.com/) is an open source vector database. It also has built in capabilities for embedding as well.\n",
        "\n",
        "**Working principle:** As it is called a database it must have features to store data. The data here is the embedding. Embedding is the learnable number representation of any kind of data. When data (doc, images, audio, video etc.) is passes into the vector database, it converts the data into embedding by passing the data through some embedding generation model.\n",
        "\n",
        "> We can choose our own embedding model if we like. [HuggingFace](https://huggingface.co/models) hub is a good source where we will find embedding models that better suits for our problem.\n",
        "\n",
        "<br>\n",
        "\n",
        "<img src=\"https://docs.trychroma.com/img/hrm4.svg\" height=\"300\">"
      ],
      "metadata": {
        "id": "uM8JXk_gSg2G"
      }
    },
    {
      "cell_type": "code",
      "source": [
        "try:\n",
        "  !pip install python-multipart\n",
        "  !pip install kaleido\n",
        "  !pip install typing-extensions==4.5.0\n",
        "  print(\"\\n[INFO] Successfully installed all the packages.\")\n",
        "except:\n",
        "  print(\"\\n[INFO] Not able to install all the packages.\")"
      ],
      "metadata": {
        "colab": {
          "base_uri": "https://localhost:8080/"
        },
        "id": "dYoFksc4Yk8d",
        "outputId": "0e8c4c07-7566-4454-e2f9-b97e35e759c8"
      },
      "execution_count": 1,
      "outputs": [
        {
          "output_type": "stream",
          "name": "stdout",
          "text": [
            "Collecting python-multipart\n",
            "  Downloading python_multipart-0.0.6-py3-none-any.whl (45 kB)\n",
            "\u001b[2K     \u001b[90m━━━━━━━━━━━━━━━━━━━━━━━━━━━━━━━━━━━━━━━━\u001b[0m \u001b[32m45.7/45.7 kB\u001b[0m \u001b[31m794.0 kB/s\u001b[0m eta \u001b[36m0:00:00\u001b[0m\n",
            "\u001b[?25hInstalling collected packages: python-multipart\n",
            "\u001b[31mERROR: pip's dependency resolver does not currently take into account all the packages that are installed. This behaviour is the source of the following dependency conflicts.\n",
            "lida 0.0.10 requires fastapi, which is not installed.\n",
            "lida 0.0.10 requires kaleido, which is not installed.\n",
            "lida 0.0.10 requires uvicorn, which is not installed.\u001b[0m\u001b[31m\n",
            "\u001b[0mSuccessfully installed python-multipart-0.0.6\n",
            "Collecting kaleido\n",
            "  Downloading kaleido-0.2.1-py2.py3-none-manylinux1_x86_64.whl (79.9 MB)\n",
            "\u001b[2K     \u001b[90m━━━━━━━━━━━━━━━━━━━━━━━━━━━━━━━━━━━━━━━━\u001b[0m \u001b[32m79.9/79.9 MB\u001b[0m \u001b[31m8.8 MB/s\u001b[0m eta \u001b[36m0:00:00\u001b[0m\n",
            "\u001b[?25hInstalling collected packages: kaleido\n",
            "\u001b[31mERROR: pip's dependency resolver does not currently take into account all the packages that are installed. This behaviour is the source of the following dependency conflicts.\n",
            "lida 0.0.10 requires fastapi, which is not installed.\n",
            "lida 0.0.10 requires uvicorn, which is not installed.\u001b[0m\u001b[31m\n",
            "\u001b[0mSuccessfully installed kaleido-0.2.1\n",
            "Requirement already satisfied: typing-extensions==4.5.0 in /usr/local/lib/python3.10/dist-packages (4.5.0)\n",
            "\n",
            "[INFO] Successfully installed all the packages.\n"
          ]
        }
      ]
    },
    {
      "cell_type": "code",
      "execution_count": 2,
      "metadata": {
        "colab": {
          "base_uri": "https://localhost:8080/"
        },
        "id": "yrT8EJ66Sbo_",
        "outputId": "27d0fba1-68ac-4fd0-b628-836d95d807f4"
      },
      "outputs": [
        {
          "output_type": "stream",
          "name": "stdout",
          "text": [
            "\u001b[2K     \u001b[90m━━━━━━━━━━━━━━━━━━━━━━━━━━━━━━━━━━━━━━━━\u001b[0m \u001b[32m509.0/509.0 kB\u001b[0m \u001b[31m3.9 MB/s\u001b[0m eta \u001b[36m0:00:00\u001b[0m\n",
            "\u001b[2K     \u001b[90m━━━━━━━━━━━━━━━━━━━━━━━━━━━━━━━━━━━━━━━━\u001b[0m \u001b[32m2.4/2.4 MB\u001b[0m \u001b[31m27.4 MB/s\u001b[0m eta \u001b[36m0:00:00\u001b[0m\n",
            "\u001b[2K     \u001b[90m━━━━━━━━━━━━━━━━━━━━━━━━━━━━━━━━━━━━━━━━\u001b[0m \u001b[32m92.0/92.0 kB\u001b[0m \u001b[31m13.3 MB/s\u001b[0m eta \u001b[36m0:00:00\u001b[0m\n",
            "\u001b[2K     \u001b[90m━━━━━━━━━━━━━━━━━━━━━━━━━━━━━━━━━━━━━━━━\u001b[0m \u001b[32m60.3/60.3 kB\u001b[0m \u001b[31m9.1 MB/s\u001b[0m eta \u001b[36m0:00:00\u001b[0m\n",
            "\u001b[2K     \u001b[90m━━━━━━━━━━━━━━━━━━━━━━━━━━━━━━━━━━━━━━━━\u001b[0m \u001b[32m5.4/5.4 MB\u001b[0m \u001b[31m74.5 MB/s\u001b[0m eta \u001b[36m0:00:00\u001b[0m\n",
            "\u001b[2K     \u001b[90m━━━━━━━━━━━━━━━━━━━━━━━━━━━━━━━━━━━━━━━━\u001b[0m \u001b[32m6.4/6.4 MB\u001b[0m \u001b[31m59.4 MB/s\u001b[0m eta \u001b[36m0:00:00\u001b[0m\n",
            "\u001b[2K     \u001b[90m━━━━━━━━━━━━━━━━━━━━━━━━━━━━━━━━━━━━━━━━\u001b[0m \u001b[32m57.9/57.9 kB\u001b[0m \u001b[31m8.1 MB/s\u001b[0m eta \u001b[36m0:00:00\u001b[0m\n",
            "\u001b[2K     \u001b[90m━━━━━━━━━━━━━━━━━━━━━━━━━━━━━━━━━━━━━━━━\u001b[0m \u001b[32m105.6/105.6 kB\u001b[0m \u001b[31m12.5 MB/s\u001b[0m eta \u001b[36m0:00:00\u001b[0m\n",
            "\u001b[2K     \u001b[90m━━━━━━━━━━━━━━━━━━━━━━━━━━━━━━━━━━━━━━━━\u001b[0m \u001b[32m67.3/67.3 kB\u001b[0m \u001b[31m9.0 MB/s\u001b[0m eta \u001b[36m0:00:00\u001b[0m\n",
            "\u001b[?25h  Installing build dependencies ... \u001b[?25l\u001b[?25hdone\n",
            "  Getting requirements to build wheel ... \u001b[?25l\u001b[?25hdone\n",
            "  Preparing metadata (pyproject.toml) ... \u001b[?25l\u001b[?25hdone\n",
            "\u001b[2K     \u001b[90m━━━━━━━━━━━━━━━━━━━━━━━━━━━━━━━━━━━━━━━━\u001b[0m \u001b[32m698.9/698.9 kB\u001b[0m \u001b[31m60.0 MB/s\u001b[0m eta \u001b[36m0:00:00\u001b[0m\n",
            "\u001b[2K     \u001b[90m━━━━━━━━━━━━━━━━━━━━━━━━━━━━━━━━━━━━━━━━\u001b[0m \u001b[32m1.6/1.6 MB\u001b[0m \u001b[31m84.5 MB/s\u001b[0m eta \u001b[36m0:00:00\u001b[0m\n",
            "\u001b[2K     \u001b[90m━━━━━━━━━━━━━━━━━━━━━━━━━━━━━━━━━━━━━━━━\u001b[0m \u001b[32m72.6/72.6 kB\u001b[0m \u001b[31m10.4 MB/s\u001b[0m eta \u001b[36m0:00:00\u001b[0m\n",
            "\u001b[2K     \u001b[90m━━━━━━━━━━━━━━━━━━━━━━━━━━━━━━━━━━━━━━━━\u001b[0m \u001b[32m70.0/70.0 kB\u001b[0m \u001b[31m10.6 MB/s\u001b[0m eta \u001b[36m0:00:00\u001b[0m\n",
            "\u001b[2K     \u001b[90m━━━━━━━━━━━━━━━━━━━━━━━━━━━━━━━━━━━━━━━━\u001b[0m \u001b[32m143.8/143.8 kB\u001b[0m \u001b[31m20.2 MB/s\u001b[0m eta \u001b[36m0:00:00\u001b[0m\n",
            "\u001b[2K     \u001b[90m━━━━━━━━━━━━━━━━━━━━━━━━━━━━━━━━━━━━━━━━\u001b[0m \u001b[32m46.0/46.0 kB\u001b[0m \u001b[31m6.6 MB/s\u001b[0m eta \u001b[36m0:00:00\u001b[0m\n",
            "\u001b[2K     \u001b[90m━━━━━━━━━━━━━━━━━━━━━━━━━━━━━━━━━━━━━━━━\u001b[0m \u001b[32m50.8/50.8 kB\u001b[0m \u001b[31m323.3 kB/s\u001b[0m eta \u001b[36m0:00:00\u001b[0m\n",
            "\u001b[2K     \u001b[90m━━━━━━━━━━━━━━━━━━━━━━━━━━━━━━━━━━━━━━━━\u001b[0m \u001b[32m58.3/58.3 kB\u001b[0m \u001b[31m8.5 MB/s\u001b[0m eta \u001b[36m0:00:00\u001b[0m\n",
            "\u001b[2K     \u001b[90m━━━━━━━━━━━━━━━━━━━━━━━━━━━━━━━━━━━━━━━━\u001b[0m \u001b[32m341.4/341.4 kB\u001b[0m \u001b[31m44.1 MB/s\u001b[0m eta \u001b[36m0:00:00\u001b[0m\n",
            "\u001b[2K     \u001b[90m━━━━━━━━━━━━━━━━━━━━━━━━━━━━━━━━━━━━━━━━\u001b[0m \u001b[32m3.4/3.4 MB\u001b[0m \u001b[31m64.4 MB/s\u001b[0m eta \u001b[36m0:00:00\u001b[0m\n",
            "\u001b[2K     \u001b[90m━━━━━━━━━━━━━━━━━━━━━━━━━━━━━━━━━━━━━━━━\u001b[0m \u001b[32m1.3/1.3 MB\u001b[0m \u001b[31m82.0 MB/s\u001b[0m eta \u001b[36m0:00:00\u001b[0m\n",
            "\u001b[2K     \u001b[90m━━━━━━━━━━━━━━━━━━━━━━━━━━━━━━━━━━━━━━━━\u001b[0m \u001b[32m130.2/130.2 kB\u001b[0m \u001b[31m19.2 MB/s\u001b[0m eta \u001b[36m0:00:00\u001b[0m\n",
            "\u001b[2K     \u001b[90m━━━━━━━━━━━━━━━━━━━━━━━━━━━━━━━━━━━━━━━━\u001b[0m \u001b[32m86.8/86.8 kB\u001b[0m \u001b[31m12.5 MB/s\u001b[0m eta \u001b[36m0:00:00\u001b[0m\n",
            "\u001b[?25h  Building wheel for pypika (pyproject.toml) ... \u001b[?25l\u001b[?25hdone\n",
            "\u001b[31mERROR: pip's dependency resolver does not currently take into account all the packages that are installed. This behaviour is the source of the following dependency conflicts.\n",
            "tensorflow-probability 0.22.0 requires typing-extensions<4.6.0, but you have typing-extensions 4.9.0 which is incompatible.\u001b[0m\u001b[31m\n",
            "\u001b[0m"
          ]
        }
      ],
      "source": [
        "!pip install chromadb -q"
      ]
    },
    {
      "cell_type": "code",
      "source": [
        "!pip install sentence-transformers -q"
      ],
      "metadata": {
        "colab": {
          "base_uri": "https://localhost:8080/"
        },
        "id": "kKnJjbvNWSMz",
        "outputId": "ad9ca34b-4bb4-4b04-c7c4-60ed03ad402f"
      },
      "execution_count": 3,
      "outputs": [
        {
          "output_type": "stream",
          "name": "stdout",
          "text": [
            "\u001b[?25l     \u001b[90m━━━━━━━━━━━━━━━━━━━━━━━━━━━━━━━━━━━━━━━━\u001b[0m \u001b[32m0.0/86.0 kB\u001b[0m \u001b[31m?\u001b[0m eta \u001b[36m-:--:--\u001b[0m\r\u001b[2K     \u001b[91m━━━━━━━━━━━━━━\u001b[0m\u001b[90m╺\u001b[0m\u001b[90m━━━━━━━━━━━━━━━━━━━━━━━━━\u001b[0m \u001b[32m30.7/86.0 kB\u001b[0m \u001b[31m834.5 kB/s\u001b[0m eta \u001b[36m0:00:01\u001b[0m\r\u001b[2K     \u001b[91m━━━━━━━━━━━━━━━━━━━━━━━━━━━━\u001b[0m\u001b[91m╸\u001b[0m\u001b[90m━━━━━━━━━━━\u001b[0m \u001b[32m61.4/86.0 kB\u001b[0m \u001b[31m930.2 kB/s\u001b[0m eta \u001b[36m0:00:01\u001b[0m\r\u001b[2K     \u001b[90m━━━━━━━━━━━━━━━━━━━━━━━━━━━━━━━━━━━━━━━━\u001b[0m \u001b[32m86.0/86.0 kB\u001b[0m \u001b[31m1.1 MB/s\u001b[0m eta \u001b[36m0:00:00\u001b[0m\n",
            "\u001b[?25h  Preparing metadata (setup.py) ... \u001b[?25l\u001b[?25hdone\n",
            "\u001b[2K     \u001b[90m━━━━━━━━━━━━━━━━━━━━━━━━━━━━━━━━━━━━━━━━\u001b[0m \u001b[32m1.3/1.3 MB\u001b[0m \u001b[31m8.8 MB/s\u001b[0m eta \u001b[36m0:00:00\u001b[0m\n",
            "\u001b[?25h  Building wheel for sentence-transformers (setup.py) ... \u001b[?25l\u001b[?25hdone\n"
          ]
        }
      ]
    },
    {
      "cell_type": "markdown",
      "source": [
        "## What is Collection?\n",
        "\n",
        "> It is a database instance that can store informations. It can be called a table or vector database."
      ],
      "metadata": {
        "id": "O7_k2eBgbNko"
      }
    },
    {
      "cell_type": "code",
      "source": [
        "import chromadb\n",
        "client = chromadb.Client()"
      ],
      "metadata": {
        "id": "koU4fmKTbZuX"
      },
      "execution_count": 4,
      "outputs": []
    },
    {
      "cell_type": "code",
      "source": [
        "collection1 = client.create_collection(name=\"my_collection1\", get_or_create=True)\n",
        "print(collection1)"
      ],
      "metadata": {
        "colab": {
          "base_uri": "https://localhost:8080/"
        },
        "id": "_AbB_FNQbhJg",
        "outputId": "a33178de-b63d-4bb3-bcad-5b6c62d56490"
      },
      "execution_count": 5,
      "outputs": [
        {
          "output_type": "stream",
          "name": "stdout",
          "text": [
            "name='my_collection1' id=UUID('f8173d5c-093f-4aa1-b730-0f3230590e97') metadata=None tenant='default_tenant' database='default_database'\n"
          ]
        }
      ]
    },
    {
      "cell_type": "markdown",
      "source": [
        "## Adding some text documents to the collection"
      ],
      "metadata": {
        "id": "8nkfo-CKhraf"
      }
    },
    {
      "cell_type": "code",
      "source": [
        "collection1.add(\n",
        "    # documents that i want to add to the database\n",
        "    documents=[\"This is a document\", \"This is another document\"],\n",
        "    # metadata refers to the information about the documents that we have been passing\n",
        "    metadatas=[{\"source\": \"source1\", \"language\": \"en\"}, {\"source\": \"source2\", \"language\": \"bangla\"}],\n",
        "    # providing distinct ids to each documents\n",
        "    ids=[\"id1\", \"id2\"]\n",
        ")"
      ],
      "metadata": {
        "id": "3NxlAvyzfwK7",
        "colab": {
          "base_uri": "https://localhost:8080/"
        },
        "outputId": "15303138-a6e1-4419-a2c9-30b8e2ec3ed4"
      },
      "execution_count": 6,
      "outputs": [
        {
          "output_type": "stream",
          "name": "stderr",
          "text": [
            "/root/.cache/chroma/onnx_models/all-MiniLM-L6-v2/onnx.tar.gz: 100%|██████████| 79.3M/79.3M [00:02<00:00, 29.5MiB/s]\n"
          ]
        }
      ]
    },
    {
      "cell_type": "code",
      "source": [
        "# methods can be run on client\n",
        "client.list_collections()  # chcking how many collections I created so far"
      ],
      "metadata": {
        "colab": {
          "base_uri": "https://localhost:8080/"
        },
        "id": "PmyERk6Jh2uK",
        "outputId": "75a23d52-0633-479e-f1f1-28aa767da7da"
      },
      "execution_count": 7,
      "outputs": [
        {
          "output_type": "execute_result",
          "data": {
            "text/plain": [
              "[Collection(name=my_collection1)]"
            ]
          },
          "metadata": {},
          "execution_count": 7
        }
      ]
    },
    {
      "cell_type": "code",
      "source": [
        "collection2 = client.create_collection(name=\"my_collection2\",\n",
        "                                       get_or_create=True) # returns the collection if it is already created"
      ],
      "metadata": {
        "id": "T1LJsLOCimZ9"
      },
      "execution_count": 8,
      "outputs": []
    },
    {
      "cell_type": "code",
      "source": [
        "client.list_collections()"
      ],
      "metadata": {
        "colab": {
          "base_uri": "https://localhost:8080/"
        },
        "id": "c8AwNyCci9aW",
        "outputId": "0e325bdc-d579-4fff-fc89-ed9a4250840f"
      },
      "execution_count": 9,
      "outputs": [
        {
          "output_type": "execute_result",
          "data": {
            "text/plain": [
              "[Collection(name=my_collection2), Collection(name=my_collection1)]"
            ]
          },
          "metadata": {},
          "execution_count": 9
        }
      ]
    },
    {
      "cell_type": "code",
      "source": [
        "# get an existing collection\n",
        "collect = client.get_collection(\"my_collection1\")\n",
        "collect"
      ],
      "metadata": {
        "colab": {
          "base_uri": "https://localhost:8080/"
        },
        "id": "qlQXi4WriSA-",
        "outputId": "5101f4fc-413a-4462-9707-c68ff365d7ca"
      },
      "execution_count": 10,
      "outputs": [
        {
          "output_type": "execute_result",
          "data": {
            "text/plain": [
              "Collection(name=my_collection1)"
            ]
          },
          "metadata": {},
          "execution_count": 10
        }
      ]
    },
    {
      "cell_type": "code",
      "source": [
        "# get a collection or create if it doesn't exist\n",
        "collection3 = client.get_or_create_collection(\"my_collection3\")\n",
        "client.list_collections()"
      ],
      "metadata": {
        "colab": {
          "base_uri": "https://localhost:8080/"
        },
        "id": "ArU8Hs5ljohx",
        "outputId": "bf756e81-4ea2-4592-96d1-81845eed489b"
      },
      "execution_count": 11,
      "outputs": [
        {
          "output_type": "execute_result",
          "data": {
            "text/plain": [
              "[Collection(name=my_collection3),\n",
              " Collection(name=my_collection2),\n",
              " Collection(name=my_collection1)]"
            ]
          },
          "metadata": {},
          "execution_count": 11
        }
      ]
    },
    {
      "cell_type": "code",
      "source": [
        "# removing collection\n",
        "client.delete_collection(\"my_collection3\")\n",
        "client.list_collections()"
      ],
      "metadata": {
        "colab": {
          "base_uri": "https://localhost:8080/"
        },
        "id": "F4Vqu5K6jw8f",
        "outputId": "6d37898b-15d3-4cd6-e7c5-dc30e302861a"
      },
      "execution_count": 12,
      "outputs": [
        {
          "output_type": "execute_result",
          "data": {
            "text/plain": [
              "[Collection(name=my_collection2), Collection(name=my_collection1)]"
            ]
          },
          "metadata": {},
          "execution_count": 12
        }
      ]
    },
    {
      "cell_type": "code",
      "source": [
        "# heartbeat - check if the collections is still running on server or not\n",
        "# it will return a number which refers to the time stemp of the collection\n",
        "# the number changes each time we run the heartbeat() function\n",
        "client.heartbeat()"
      ],
      "metadata": {
        "colab": {
          "base_uri": "https://localhost:8080/"
        },
        "id": "JtlciW34kW82",
        "outputId": "fb7a0363-e78a-4be3-90b8-f434cc6a36bd"
      },
      "execution_count": 13,
      "outputs": [
        {
          "output_type": "execute_result",
          "data": {
            "text/plain": [
              "1704516373507141322"
            ]
          },
          "metadata": {},
          "execution_count": 13
        }
      ]
    },
    {
      "cell_type": "code",
      "source": [
        "# it immediately resets all the changes we have made to the database so far\n",
        "# changing the settings to allow reset operation on collections object\n",
        "client.get_settings().allow_reset = True\n",
        "\n",
        "# calling reset() function to undo all the changes we have made so far\n",
        "# it basically going to delete all the collections that we have created so far\n",
        "client.reset() # ⚠️ not recommanded\n",
        "client.list_collections()"
      ],
      "metadata": {
        "id": "YAyu5nYalOX9"
      },
      "execution_count": null,
      "outputs": []
    },
    {
      "cell_type": "markdown",
      "source": [
        "## Methods on Collectinos\n",
        "\n",
        "Vector DB -> Collections -> Documents/Items"
      ],
      "metadata": {
        "id": "4vaRgy-tF9d3"
      }
    },
    {
      "cell_type": "code",
      "source": [
        "# counting how many items in our collections\n",
        "collection1.count()"
      ],
      "metadata": {
        "colab": {
          "base_uri": "https://localhost:8080/"
        },
        "id": "_Il30fLGGCFe",
        "outputId": "0714991c-9a0a-4de9-bb6b-baf2450b79b0"
      },
      "execution_count": 14,
      "outputs": [
        {
          "output_type": "execute_result",
          "data": {
            "text/plain": [
              "2"
            ]
          },
          "metadata": {},
          "execution_count": 14
        }
      ]
    },
    {
      "cell_type": "code",
      "source": [
        "# get all the items from the collection\n",
        "collection1.get()"
      ],
      "metadata": {
        "colab": {
          "base_uri": "https://localhost:8080/"
        },
        "id": "DRU0Czy2GmE3",
        "outputId": "b4951230-4e00-4e90-f17c-79e5d02cb221"
      },
      "execution_count": 15,
      "outputs": [
        {
          "output_type": "execute_result",
          "data": {
            "text/plain": [
              "{'ids': ['id1', 'id2'],\n",
              " 'embeddings': None,\n",
              " 'metadatas': [{'language': 'en', 'source': 'source1'},\n",
              "  {'language': 'bangla', 'source': 'source2'}],\n",
              " 'documents': ['This is a document', 'This is another document'],\n",
              " 'uris': None,\n",
              " 'data': None}"
            ]
          },
          "metadata": {},
          "execution_count": 15
        }
      ]
    },
    {
      "cell_type": "code",
      "source": [
        "import numpy as np\n",
        "\n",
        "# creating some dummy embedding\n",
        "embedding_doc3 = np.random.rand(384).tolist()  # using the default embedding size of the vector database which is 384\n",
        "embedding_doc4 = np.random.rand(384).tolist()\n",
        "\n",
        "# adding new item to the collection\n",
        "collection1.add(\n",
        "    embeddings=[embedding_doc3, embedding_doc4],\n",
        "    documents=[\"This is document 3\", \"This is document 4\"],\n",
        "    metadatas=[{\"source\": \"source3\", \"language\": \"en\"}, {\"source\": \"source4\"}],\n",
        "    ids=[\"id3\", \"id4\"]\n",
        ")"
      ],
      "metadata": {
        "id": "rSpxybJpG9Lu"
      },
      "execution_count": 21,
      "outputs": []
    },
    {
      "cell_type": "code",
      "source": [
        "collection1.get()"
      ],
      "metadata": {
        "colab": {
          "base_uri": "https://localhost:8080/"
        },
        "id": "zQ41_cm1JI59",
        "outputId": "b0bde325-4b07-4a15-be6f-0c4740e5afa6"
      },
      "execution_count": 22,
      "outputs": [
        {
          "output_type": "execute_result",
          "data": {
            "text/plain": [
              "{'ids': ['id1', 'id2', 'id3', 'id4'],\n",
              " 'embeddings': None,\n",
              " 'metadatas': [{'language': 'en', 'source': 'source1'},\n",
              "  {'language': 'bangla', 'source': 'source2'},\n",
              "  {'language': 'en', 'source': 'source3'},\n",
              "  {'source': 'source4'}],\n",
              " 'documents': ['This is a document',\n",
              "  'This is another document',\n",
              "  'This is document 3',\n",
              "  'This is document 4'],\n",
              " 'uris': None,\n",
              " 'data': None}"
            ]
          },
          "metadata": {},
          "execution_count": 22
        }
      ]
    },
    {
      "cell_type": "code",
      "source": [
        "# overriding the existing data using collection.upsert() method\n",
        "collection1.upsert(\n",
        "    documents=[\"Doc3\", \"This is document 4\"],\n",
        "    metadatas=[{\"source\": \"source3\", \"language\": \"en\"}, {\"source\": \"source4\"}],\n",
        "    ids=[\"id3\", \"id4\"]\n",
        ")"
      ],
      "metadata": {
        "id": "9uD-R-d7J1Hv"
      },
      "execution_count": 25,
      "outputs": []
    },
    {
      "cell_type": "code",
      "source": [
        "collection1.get()"
      ],
      "metadata": {
        "colab": {
          "base_uri": "https://localhost:8080/"
        },
        "id": "PMbqIvvZKJFN",
        "outputId": "7c197761-93eb-46f3-a301-c4ce810f2a24"
      },
      "execution_count": 26,
      "outputs": [
        {
          "output_type": "execute_result",
          "data": {
            "text/plain": [
              "{'ids': ['id1', 'id2', 'id3', 'id4'],\n",
              " 'embeddings': None,\n",
              " 'metadatas': [{'language': 'en', 'source': 'source1'},\n",
              "  {'language': 'bangla', 'source': 'source2'},\n",
              "  {'language': 'en', 'source': 'source3'},\n",
              "  {'source': 'source4'}],\n",
              " 'documents': ['This is a document',\n",
              "  'This is another document',\n",
              "  'Doc3',\n",
              "  'This is document 4'],\n",
              " 'uris': None,\n",
              " 'data': None}"
            ]
          },
          "metadata": {},
          "execution_count": 26
        }
      ]
    },
    {
      "cell_type": "code",
      "source": [
        "# we can use the peek() function to get first 4 items from the database\n",
        "len(collection1.peek()[\"embeddings\"][2])"
      ],
      "metadata": {
        "colab": {
          "base_uri": "https://localhost:8080/"
        },
        "id": "iB704gF5Kgmn",
        "outputId": "784d0f50-4b35-4420-e3cb-07ab3e8f7adc"
      },
      "execution_count": 34,
      "outputs": [
        {
          "output_type": "execute_result",
          "data": {
            "text/plain": [
              "384"
            ]
          },
          "metadata": {},
          "execution_count": 34
        }
      ]
    },
    {
      "cell_type": "markdown",
      "source": [
        "## Now we will wrap up the whole thing with a broader demonstration"
      ],
      "metadata": {
        "id": "RNYvj-ZyOvfV"
      }
    },
    {
      "cell_type": "code",
      "source": [
        "movie_collection = client.create_collection(name=\"matrix_movie_collection\", get_or_create=True)\n",
        "print(movie_collection)"
      ],
      "metadata": {
        "colab": {
          "base_uri": "https://localhost:8080/"
        },
        "id": "1EtuzCQdO7rt",
        "outputId": "3918e54f-b475-4034-85d0-8277cb824b72"
      },
      "execution_count": 52,
      "outputs": [
        {
          "output_type": "stream",
          "name": "stdout",
          "text": [
            "name='matrix_movie_collection' id=UUID('6c0f6d42-1b0a-488c-b784-c5bcf5a43d07') metadata=None tenant='default_tenant' database='default_database'\n"
          ]
        }
      ]
    },
    {
      "cell_type": "code",
      "source": [
        "# if we want to rename the collection\n",
        "movie_collection.modify(name=\"movie_collection\")\n",
        "print(movie_collection)"
      ],
      "metadata": {
        "colab": {
          "base_uri": "https://localhost:8080/"
        },
        "id": "f8b0wS8DPU2e",
        "outputId": "1d6e6d99-3bc8-4b45-ffd2-71f27f98d95e"
      },
      "execution_count": 53,
      "outputs": [
        {
          "output_type": "stream",
          "name": "stdout",
          "text": [
            "name='movie_collection' id=UUID('6c0f6d42-1b0a-488c-b784-c5bcf5a43d07') metadata=None tenant='default_tenant' database='default_database'\n"
          ]
        }
      ]
    },
    {
      "cell_type": "code",
      "source": [
        "# checking the number of items in the collection\n",
        "movie_collection.count()"
      ],
      "metadata": {
        "colab": {
          "base_uri": "https://localhost:8080/"
        },
        "id": "2M_F_4gnQTLO",
        "outputId": "e8e96c7b-a17d-43e3-bb9d-c3d7cc82c864"
      },
      "execution_count": 54,
      "outputs": [
        {
          "output_type": "execute_result",
          "data": {
            "text/plain": [
              "0"
            ]
          },
          "metadata": {},
          "execution_count": 54
        }
      ]
    },
    {
      "cell_type": "markdown",
      "source": [
        "### Distance function in ChromaDB\n",
        "\n",
        "In ChromaDB distance function determines how the \"distance\" or \"difference\" between two items in the collection is calculated. This is crucial when performing operations like querying for similar items. The default function in ChromaDB is `\"l2\"`, which stands for `Euclidean Distance`. It's common measure of distance in a plane.\n",
        "\n",
        "https://docs.trychroma.com/usage-guide#changing-the-distance-function\n",
        "\n",
        "There are no way available to insert custom distance funciton: https://github.com/langchain-ai/langchain/issues/2595"
      ],
      "metadata": {
        "id": "WpdWQsT9QgOB"
      }
    },
    {
      "cell_type": "code",
      "source": [
        "movie_collection = client.get_or_create_collection(name=\"movie_collection\",\n",
        "                                                   metadata={\"hnsw:space\": \"cosine\"})\n",
        "print(movie_collection)"
      ],
      "metadata": {
        "colab": {
          "base_uri": "https://localhost:8080/"
        },
        "id": "k5IsSnM2RZFr",
        "outputId": "1131a992-ab36-4ae8-c1c1-1c866518efc5"
      },
      "execution_count": 55,
      "outputs": [
        {
          "output_type": "stream",
          "name": "stdout",
          "text": [
            "name='movie_collection' id=UUID('6c0f6d42-1b0a-488c-b784-c5bcf5a43d07') metadata={'hnsw:space': 'cosine'} tenant='default_tenant' database='default_database'\n"
          ]
        }
      ]
    },
    {
      "cell_type": "code",
      "source": [
        "client.list_collections()"
      ],
      "metadata": {
        "colab": {
          "base_uri": "https://localhost:8080/"
        },
        "id": "BftaKJZTSdjn",
        "outputId": "f687ae78-d098-4bb2-f98d-375a36e7f41e"
      },
      "execution_count": 56,
      "outputs": [
        {
          "output_type": "execute_result",
          "data": {
            "text/plain": [
              "[Collection(name=movie_collection),\n",
              " Collection(name=my_collection2),\n",
              " Collection(name=my_collection1)]"
            ]
          },
          "metadata": {},
          "execution_count": 56
        }
      ]
    },
    {
      "cell_type": "code",
      "source": [
        "# let's add some data to our collection\n",
        "movie_collection.add(\n",
        "    ids=[\"quote1\", \"quote2\"],\n",
        "    documents=[\n",
        "        \"There is no spoon.\",\n",
        "        \"I know kung fu.\"\n",
        "    ]\n",
        ")"
      ],
      "metadata": {
        "id": "5qDzi-nrW63t"
      },
      "execution_count": 57,
      "outputs": []
    },
    {
      "cell_type": "code",
      "source": [
        "movie_collection.count()"
      ],
      "metadata": {
        "colab": {
          "base_uri": "https://localhost:8080/"
        },
        "id": "nP4sYYn2cqrN",
        "outputId": "5f1def54-a85d-4ad1-9c1f-3326b1e46093"
      },
      "execution_count": 58,
      "outputs": [
        {
          "output_type": "execute_result",
          "data": {
            "text/plain": [
              "2"
            ]
          },
          "metadata": {},
          "execution_count": 58
        }
      ]
    },
    {
      "cell_type": "code",
      "source": [
        "movie_collection.peek(limit=1)  # we can specify the number of items we want"
      ],
      "metadata": {
        "colab": {
          "base_uri": "https://localhost:8080/"
        },
        "id": "Jo6oVVhdcwJl",
        "outputId": "fa84a76f-0981-4f63-d6c5-151c4ced33e7"
      },
      "execution_count": 60,
      "outputs": [
        {
          "output_type": "execute_result",
          "data": {
            "text/plain": [
              "{'ids': ['quote1'],\n",
              " 'embeddings': [[0.004506412893533707,\n",
              "   -0.07763516902923584,\n",
              "   -0.038877587765455246,\n",
              "   -0.01235272828489542,\n",
              "   -0.08395075052976608,\n",
              "   0.04847825691103935,\n",
              "   0.027022896334528923,\n",
              "   -0.08260542154312134,\n",
              "   0.07585711777210236,\n",
              "   0.016495604068040848,\n",
              "   0.034576863050460815,\n",
              "   -0.0697631761431694,\n",
              "   -0.012515238486230373,\n",
              "   -0.05832795426249504,\n",
              "   -0.0736757442355156,\n",
              "   -0.12272055447101593,\n",
              "   -0.0331801138818264,\n",
              "   -0.10826481133699417,\n",
              "   -0.010775878094136715,\n",
              "   0.0024138721637427807,\n",
              "   0.03132103383541107,\n",
              "   0.000363168801413849,\n",
              "   0.057470910251140594,\n",
              "   -0.01934056729078293,\n",
              "   0.06213092431426048,\n",
              "   0.05513307452201843,\n",
              "   0.019474970176815987,\n",
              "   -0.06181753799319267,\n",
              "   -0.025465352460741997,\n",
              "   0.06344398111104965,\n",
              "   -0.019318535923957825,\n",
              "   -0.005409401375800371,\n",
              "   -0.08224662393331528,\n",
              "   -0.04527893662452698,\n",
              "   0.037652596831321716,\n",
              "   0.007059104740619659,\n",
              "   0.050451889634132385,\n",
              "   0.040108174085617065,\n",
              "   0.05018293857574463,\n",
              "   0.015969539061188698,\n",
              "   -0.06825977563858032,\n",
              "   -0.0721675306558609,\n",
              "   -0.0508137047290802,\n",
              "   0.00978314783424139,\n",
              "   0.0441795252263546,\n",
              "   0.039904944598674774,\n",
              "   -0.011201131157577038,\n",
              "   -0.064549520611763,\n",
              "   0.004284086637198925,\n",
              "   -0.028175348415970802,\n",
              "   -0.07202748209238052,\n",
              "   -0.008583989925682545,\n",
              "   -0.018231134861707687,\n",
              "   -0.010825513862073421,\n",
              "   0.006209216546267271,\n",
              "   -0.005042899865657091,\n",
              "   0.0980745255947113,\n",
              "   0.03547963872551918,\n",
              "   -0.03446827456355095,\n",
              "   0.08118514716625214,\n",
              "   -0.014328761957585812,\n",
              "   -0.01989717222750187,\n",
              "   0.03304331377148628,\n",
              "   0.04088518023490906,\n",
              "   0.02543088234961033,\n",
              "   -0.011577427387237549,\n",
              "   -0.0006447611376643181,\n",
              "   -0.03172149881720543,\n",
              "   -0.012750943191349506,\n",
              "   -0.01977469213306904,\n",
              "   -0.03904127702116966,\n",
              "   0.04559657722711563,\n",
              "   0.010284634307026863,\n",
              "   0.06927920877933502,\n",
              "   -0.0079053258523345,\n",
              "   -0.03878583386540413,\n",
              "   0.013397759757936,\n",
              "   -0.024028019979596138,\n",
              "   0.02143619954586029,\n",
              "   0.13550345599651337,\n",
              "   -0.1161705031991005,\n",
              "   0.028934571892023087,\n",
              "   0.09869161993265152,\n",
              "   0.09323232620954514,\n",
              "   -0.09287209808826447,\n",
              "   0.017198167741298676,\n",
              "   -0.003923508338630199,\n",
              "   -0.012464535422623158,\n",
              "   -0.08061356097459793,\n",
              "   -0.040752112865448,\n",
              "   -0.0696076974272728,\n",
              "   0.050709620118141174,\n",
              "   -0.04665809124708176,\n",
              "   0.02334439568221569,\n",
              "   0.040696803480386734,\n",
              "   0.040433917194604874,\n",
              "   -0.015482109971344471,\n",
              "   0.03927581012248993,\n",
              "   -0.09700021892786026,\n",
              "   0.09696080535650253,\n",
              "   -0.06128056347370148,\n",
              "   0.03884432092308998,\n",
              "   -0.07275819033384323,\n",
              "   0.019143935292959213,\n",
              "   0.05837962403893471,\n",
              "   0.08920978754758835,\n",
              "   -0.008780322968959808,\n",
              "   -0.07334178686141968,\n",
              "   -0.03713040053844452,\n",
              "   0.015287286601960659,\n",
              "   0.003578141098842025,\n",
              "   0.009929172694683075,\n",
              "   -0.001524931052699685,\n",
              "   -0.012914154678583145,\n",
              "   -0.13676223158836365,\n",
              "   -0.0654069259762764,\n",
              "   -0.017372269183397293,\n",
              "   -0.049146074801683426,\n",
              "   -0.08455262333154678,\n",
              "   0.016672076657414436,\n",
              "   -0.004323532804846764,\n",
              "   -0.008424156345427036,\n",
              "   -0.022465961053967476,\n",
              "   0.02349899336695671,\n",
              "   -0.05194159224629402,\n",
              "   -0.011793801560997963,\n",
              "   0.04190320521593094,\n",
              "   -6.403677392153219e-33,\n",
              "   -0.027521122246980667,\n",
              "   -0.07137420028448105,\n",
              "   0.11814640462398529,\n",
              "   -0.06280333548784256,\n",
              "   0.00029342577909119427,\n",
              "   0.045741286128759384,\n",
              "   0.0526987686753273,\n",
              "   0.03961766138672829,\n",
              "   0.06975818425416946,\n",
              "   0.0009288860019296408,\n",
              "   -0.03785526379942894,\n",
              "   -0.03694203123450279,\n",
              "   -0.03562247008085251,\n",
              "   -0.05575888603925705,\n",
              "   0.04709477350115776,\n",
              "   -0.01441675890237093,\n",
              "   0.016992364078760147,\n",
              "   0.04907270520925522,\n",
              "   0.043104756623506546,\n",
              "   -0.02849672921001911,\n",
              "   0.013234969228506088,\n",
              "   0.07553772628307343,\n",
              "   -0.02466033212840557,\n",
              "   -0.01719522848725319,\n",
              "   -0.09896911680698395,\n",
              "   0.032160334289073944,\n",
              "   -0.006608865689486265,\n",
              "   -0.03888804838061333,\n",
              "   -0.031235307455062866,\n",
              "   0.01250061672180891,\n",
              "   -0.08226996660232544,\n",
              "   0.00391686474904418,\n",
              "   0.04622717946767807,\n",
              "   -0.04753202944993973,\n",
              "   -0.053531646728515625,\n",
              "   -0.09943389892578125,\n",
              "   -0.03552883490920067,\n",
              "   -0.04097086563706398,\n",
              "   -0.06398932635784149,\n",
              "   -0.03750713914632797,\n",
              "   -0.06703025102615356,\n",
              "   0.026522068306803703,\n",
              "   0.004128947388380766,\n",
              "   -0.019862161949276924,\n",
              "   -0.06796027719974518,\n",
              "   0.028472010046243668,\n",
              "   0.03623342141509056,\n",
              "   0.02147100120782852,\n",
              "   -0.06617563217878342,\n",
              "   -0.018994122743606567,\n",
              "   0.08508868515491486,\n",
              "   0.03801865503191948,\n",
              "   0.02174222841858864,\n",
              "   0.05227065458893776,\n",
              "   0.004867785144597292,\n",
              "   -0.00904923677444458,\n",
              "   -0.015232342295348644,\n",
              "   0.04652361944317818,\n",
              "   -0.057270314544439316,\n",
              "   0.01536891981959343,\n",
              "   -0.010492299683392048,\n",
              "   -0.036021050065755844,\n",
              "   -0.036485426127910614,\n",
              "   0.030291814357042313,\n",
              "   -0.030621331185102463,\n",
              "   0.051526132971048355,\n",
              "   -0.012711474671959877,\n",
              "   -0.011150721460580826,\n",
              "   0.11201528459787369,\n",
              "   -0.01624324545264244,\n",
              "   0.005826304666697979,\n",
              "   0.023435940966010094,\n",
              "   0.021237479522824287,\n",
              "   0.0655781477689743,\n",
              "   0.017404288053512573,\n",
              "   -0.04747234284877777,\n",
              "   0.0012097530998289585,\n",
              "   -0.04018506035208702,\n",
              "   0.029654111713171005,\n",
              "   0.007202140521258116,\n",
              "   0.15408575534820557,\n",
              "   -0.013915984891355038,\n",
              "   -0.007491589058190584,\n",
              "   -0.033626530319452286,\n",
              "   -0.011834106408059597,\n",
              "   0.037963736802339554,\n",
              "   -0.06818950176239014,\n",
              "   0.0022597552742809057,\n",
              "   0.045773088932037354,\n",
              "   0.006281249690800905,\n",
              "   -0.09415273368358612,\n",
              "   -0.057213425636291504,\n",
              "   -0.01790780946612358,\n",
              "   -0.07122308760881424,\n",
              "   -0.08588698506355286,\n",
              "   3.651681649695083e-33,\n",
              "   0.023824479430913925,\n",
              "   0.03902367502450943,\n",
              "   -0.10877541452646255,\n",
              "   0.0712517723441124,\n",
              "   -0.018043944612145424,\n",
              "   0.036815982311964035,\n",
              "   0.04973866790533066,\n",
              "   -0.00027437583776190877,\n",
              "   0.04533817991614342,\n",
              "   0.00616731820628047,\n",
              "   0.04041488096117973,\n",
              "   -0.016960052773356438,\n",
              "   0.04184802249073982,\n",
              "   0.011336554773151875,\n",
              "   0.024928417056798935,\n",
              "   0.1202538013458252,\n",
              "   -0.01351709384471178,\n",
              "   0.05862248316407204,\n",
              "   -0.005093262065201998,\n",
              "   0.0520934984087944,\n",
              "   0.01269944291561842,\n",
              "   0.024896781891584396,\n",
              "   -0.01434896420687437,\n",
              "   -0.06794212013483047,\n",
              "   -0.06110503152012825,\n",
              "   0.007957465015351772,\n",
              "   -0.012057119980454445,\n",
              "   0.016885923221707344,\n",
              "   -0.1289052963256836,\n",
              "   0.035027675330638885,\n",
              "   0.07120621204376221,\n",
              "   -0.0896097868680954,\n",
              "   -0.0007642364362254739,\n",
              "   -0.08148716390132904,\n",
              "   -0.051209405064582825,\n",
              "   0.007835102267563343,\n",
              "   -0.023056140169501305,\n",
              "   -0.09074898809194565,\n",
              "   -0.06253448128700256,\n",
              "   0.005544378887861967,\n",
              "   0.03728802129626274,\n",
              "   -0.0020156160462647676,\n",
              "   0.07216396927833557,\n",
              "   0.0684366449713707,\n",
              "   -0.029789861291646957,\n",
              "   0.0019484340446069837,\n",
              "   -0.052043721079826355,\n",
              "   0.03542280197143555,\n",
              "   0.03604261577129364,\n",
              "   0.006790576968342066,\n",
              "   -0.02253156155347824,\n",
              "   -0.0032554888166487217,\n",
              "   0.08839654922485352,\n",
              "   -0.046813104301691055,\n",
              "   0.011423353105783463,\n",
              "   0.019125623628497124,\n",
              "   -0.019698306918144226,\n",
              "   -0.10672853142023087,\n",
              "   0.018979530781507492,\n",
              "   0.020097073167562485,\n",
              "   0.06359006464481354,\n",
              "   0.07595288008451462,\n",
              "   0.0021123415790498257,\n",
              "   0.1199185699224472,\n",
              "   0.08020878583192825,\n",
              "   0.06531967222690582,\n",
              "   -0.027310069650411606,\n",
              "   0.11547543108463287,\n",
              "   0.007320564705878496,\n",
              "   -0.07436089217662811,\n",
              "   0.05379951000213623,\n",
              "   -0.013500266708433628,\n",
              "   0.08037098497152328,\n",
              "   -0.07607728242874146,\n",
              "   0.0641295313835144,\n",
              "   0.13673654198646545,\n",
              "   -0.042393188923597336,\n",
              "   0.000553591875359416,\n",
              "   -0.015855547040700912,\n",
              "   -0.06224849820137024,\n",
              "   -0.0005386928678490222,\n",
              "   -0.0024243416264653206,\n",
              "   -0.00652763107791543,\n",
              "   -0.0013700776034966111,\n",
              "   0.01187110599130392,\n",
              "   -0.04404832422733307,\n",
              "   0.03704151138663292,\n",
              "   -0.030512573197484016,\n",
              "   -0.028746426105499268,\n",
              "   0.055730439722537994,\n",
              "   -0.03843314200639725,\n",
              "   -0.07306411117315292,\n",
              "   0.04225471243262291,\n",
              "   0.06552886217832565,\n",
              "   0.0932956337928772,\n",
              "   -1.52559138655306e-08,\n",
              "   0.1408858597278595,\n",
              "   0.044754378497600555,\n",
              "   0.0660981833934784,\n",
              "   0.013256119564175606,\n",
              "   -0.0065672919154167175,\n",
              "   0.03651321679353714,\n",
              "   -0.001998936990275979,\n",
              "   -0.03720429167151451,\n",
              "   0.009914200752973557,\n",
              "   0.07873531430959702,\n",
              "   -0.024056876078248024,\n",
              "   0.04015840217471123,\n",
              "   -0.08734776079654694,\n",
              "   0.05176307260990143,\n",
              "   -0.013613458722829819,\n",
              "   0.02066303789615631,\n",
              "   0.04129078984260559,\n",
              "   -0.018810613080859184,\n",
              "   -0.04821748286485672,\n",
              "   -0.006408737041056156,\n",
              "   -0.041052453219890594,\n",
              "   0.0337047204375267,\n",
              "   -0.018666306510567665,\n",
              "   -0.04144701734185219,\n",
              "   0.04725600406527519,\n",
              "   0.04747039079666138,\n",
              "   -0.02856281027197838,\n",
              "   0.059923723340034485,\n",
              "   0.019695846363902092,\n",
              "   0.03169657289981842,\n",
              "   0.06382730603218079,\n",
              "   -0.02067624405026436,\n",
              "   0.0024101068265736103,\n",
              "   0.0008354909950867295,\n",
              "   -0.05344151705503464,\n",
              "   0.013785318471491337,\n",
              "   -0.06527269631624222,\n",
              "   0.1180756613612175,\n",
              "   -0.02732032723724842,\n",
              "   -0.05623927339911461,\n",
              "   -0.07921219617128372,\n",
              "   0.013147869147360325,\n",
              "   0.005299774929881096,\n",
              "   0.001284890342503786,\n",
              "   -0.04422591254115105,\n",
              "   0.09763043373823166,\n",
              "   -0.05610092356801033,\n",
              "   0.0250407624989748,\n",
              "   -0.08592406660318375,\n",
              "   0.025803769007325172,\n",
              "   0.04648486152291298,\n",
              "   0.015129652805626392,\n",
              "   0.04980834200978279,\n",
              "   0.03839382529258728,\n",
              "   0.01601114496588707,\n",
              "   0.020460141822695732,\n",
              "   0.030375303700566292,\n",
              "   0.06988563388586044,\n",
              "   -0.004369743634015322,\n",
              "   0.055688172578811646,\n",
              "   -0.01026802510023117,\n",
              "   -0.006257201079279184,\n",
              "   0.025641433894634247,\n",
              "   0.005344754550606012]],\n",
              " 'metadatas': [None],\n",
              " 'documents': ['There is no spoon.'],\n",
              " 'uris': None,\n",
              " 'data': None}"
            ]
          },
          "metadata": {},
          "execution_count": 60
        }
      ]
    }
  ]
}